{
 "cells": [
  {
   "cell_type": "markdown",
   "id": "6ab3a09b",
   "metadata": {},
   "source": [
    "# 28-02-2024"
   ]
  },
  {
   "cell_type": "code",
   "execution_count": 8,
   "id": "452eb1c9",
   "metadata": {},
   "outputs": [
    {
     "name": "stdout",
     "output_type": "stream",
     "text": [
      "1234567890123456\n",
      "Valid\n"
     ]
    }
   ],
   "source": [
    "n = input()\n",
    "\n",
    "odd = 0\n",
    "even = 0\n",
    "\n",
    "for i in range(len(n)):\n",
    "    if i%2==0:\n",
    "        odd+=int(n[i])\n",
    "    else:\n",
    "        even+=int(n[i])\n",
    "\n",
    "if ((odd*2)+even)%10==0:\n",
    "    print(\"Valid\")\n",
    "else:\n",
    "    print(\"Not Valid\")\n",
    "    "
   ]
  },
  {
   "cell_type": "code",
   "execution_count": null,
   "id": "411e2e4c",
   "metadata": {},
   "outputs": [],
   "source": []
  }
 ],
 "metadata": {
  "kernelspec": {
   "display_name": "Python 3 (ipykernel)",
   "language": "python",
   "name": "python3"
  },
  "language_info": {
   "codemirror_mode": {
    "name": "ipython",
    "version": 3
   },
   "file_extension": ".py",
   "mimetype": "text/x-python",
   "name": "python",
   "nbconvert_exporter": "python",
   "pygments_lexer": "ipython3",
   "version": "3.11.5"
  }
 },
 "nbformat": 4,
 "nbformat_minor": 5
}
