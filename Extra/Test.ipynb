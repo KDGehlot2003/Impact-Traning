{
 "cells": [
  {
   "cell_type": "code",
   "execution_count": 17,
   "id": "465f0966",
   "metadata": {},
   "outputs": [
    {
     "name": "stdout",
     "output_type": "stream",
     "text": [
      "15\n"
     ]
    }
   ],
   "source": [
    "# 3\n",
    "# 11 2 4\n",
    "# 4 5 6\n",
    "# 10 8 -12\n",
    "\n",
    "def diagonalDifference(arr):\n",
    "    principal_dia=0\n",
    "    sec_dia = 0\n",
    "    for i in range(len(arr)):\n",
    "        for j in range(len(arr)):\n",
    "            if i==j:\n",
    "                principal_dia+=arr[i][j]\n",
    "            if i+j==len(arr)-1:\n",
    "                sec_dia+=arr[i][j]\n",
    "                \n",
    "    print(abs(principal_dia-sec_dia))\n",
    "\n",
    "if __name__ == '__main__':\n",
    "\n",
    "#     n = int(input().strip())\n",
    "\n",
    "    arr = [\n",
    "        [11,2,4],\n",
    "        [4,5,6],\n",
    "        [10,8,-12]\n",
    "    ]\n",
    "\n",
    "#     for _ in range(n):\n",
    "#         arr.append(list(map(int, input().rstrip().split())))\n",
    "\n",
    "    diagonalDifference(arr)\n",
    "\n"
   ]
  },
  {
   "cell_type": "code",
   "execution_count": 25,
   "id": "06bef15d",
   "metadata": {},
   "outputs": [
    {
     "name": "stdout",
     "output_type": "stream",
     "text": [
      "        s = 0\n"
     ]
    },
    {
     "ename": "ValueError",
     "evalue": "invalid literal for int() with base 10: 's'",
     "output_type": "error",
     "traceback": [
      "\u001b[0;31m---------------------------------------------------------------------------\u001b[0m",
      "\u001b[0;31mValueError\u001b[0m                                Traceback (most recent call last)",
      "Cell \u001b[0;32mIn[25], line 16\u001b[0m\n\u001b[1;32m     12\u001b[0m     \u001b[38;5;28mprint\u001b[39m(l)\n\u001b[1;32m     14\u001b[0m \u001b[38;5;28;01mif\u001b[39;00m \u001b[38;5;18m__name__\u001b[39m \u001b[38;5;241m==\u001b[39m \u001b[38;5;124m'\u001b[39m\u001b[38;5;124m__main__\u001b[39m\u001b[38;5;124m'\u001b[39m:\n\u001b[0;32m---> 16\u001b[0m     arr \u001b[38;5;241m=\u001b[39m \u001b[38;5;28mlist\u001b[39m(\u001b[38;5;28mmap\u001b[39m(\u001b[38;5;28mint\u001b[39m, \u001b[38;5;28minput\u001b[39m()\u001b[38;5;241m.\u001b[39mrstrip()\u001b[38;5;241m.\u001b[39msplit()))\n\u001b[1;32m     18\u001b[0m     miniMaxSum(arr)\n",
      "\u001b[0;31mValueError\u001b[0m: invalid literal for int() with base 10: 's'"
     ]
    }
   ],
   "source": [
    "# 1 2 3 4 5\n",
    "def miniMaxSum(arr):\n",
    "    l = []\n",
    "    counter = 0\n",
    "    s = 0\n",
    "    for i in range(len(arr)):\n",
    "\n",
    "        if counter==i:\n",
    "            s+=arr[i]\n",
    "        l.append(s)\n",
    "        counter+=1\n",
    "    print(l)\n",
    "\n",
    "if __name__ == '__main__':\n",
    "\n",
    "    arr = list(map(int, input().rstrip().split()))\n",
    "\n",
    "    miniMaxSum(arr)"
   ]
  },
  {
   "cell_type": "code",
   "execution_count": null,
   "id": "1d4adf34",
   "metadata": {},
   "outputs": [],
   "source": []
  }
 ],
 "metadata": {
  "kernelspec": {
   "display_name": "Python 3 (ipykernel)",
   "language": "python",
   "name": "python3"
  },
  "language_info": {
   "codemirror_mode": {
    "name": "ipython",
    "version": 3
   },
   "file_extension": ".py",
   "mimetype": "text/x-python",
   "name": "python",
   "nbconvert_exporter": "python",
   "pygments_lexer": "ipython3",
   "version": "3.11.5"
  }
 },
 "nbformat": 4,
 "nbformat_minor": 5
}
