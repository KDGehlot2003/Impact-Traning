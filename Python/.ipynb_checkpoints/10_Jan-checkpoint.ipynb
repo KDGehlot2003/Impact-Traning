{
 "cells": [
  {
   "cell_type": "code",
   "execution_count": 7,
   "id": "c03a5d83",
   "metadata": {},
   "outputs": [
    {
     "name": "stdout",
     "output_type": "stream",
     "text": [
      "Enter no. of books: 1\n",
      "Enter book name: kd\n",
      "Enter author name: rt\n",
      "Enter no. of pages: 35\n",
      "Enter cost: 456\n",
      "p1 kd rt 35 456\n",
      "**********************************\n"
     ]
    }
   ],
   "source": [
    "# WAP book class with book name ,author name, no. of pages, cost, library\n",
    "# create 3 books\n",
    "# read the information in the main program and passed to class\n",
    "\n",
    "class book:\n",
    "    lname = \"p1\"\n",
    "    def __init__(self,bname,aname,np,cost):\n",
    "        self.bname = bname\n",
    "        self.aname = aname\n",
    "        self.np = np\n",
    "        self.cost = cost\n",
    "    def display(self):\n",
    "        print(book.lname,self.bname,self.aname,self.np,self.cost)\n",
    "n = int(input(\"Enter no. of books: \"))\n",
    "i = 1\n",
    "while (i<=n):\n",
    "    bname = input(\"Enter book name: \")\n",
    "    aname = input(\"Enter author name: \")\n",
    "    np = int(input(\"Enter no. of pages: \"))\n",
    "    cost = int(input(\"Enter cost: \"))\n",
    "    b1 = book(bname,aname,np,cost)\n",
    "    b1.display()\n",
    "    i = i+1\n",
    "    print(\"**********************************\")"
   ]
  },
  {
   "cell_type": "code",
   "execution_count": 9,
   "id": "5c07abd5",
   "metadata": {},
   "outputs": [
    {
     "name": "stdout",
     "output_type": "stream",
     "text": [
      "Enter the no. emp: 2\n",
      "Enter the emp name: kshitij\n",
      "Enter the emp id: 34\n",
      "Enter the emp add: kalol\n",
      "Enter the emp salary: 342141\n",
      "PIT kshitij 34 kalol 342141\n",
      "**********************************\n",
      "Enter the emp name: kfj\n",
      "Enter the emp id: 2141\n",
      "Enter the emp add: eiqjrj\n",
      "Enter the emp salary: 23\n",
      "PIT kfj 2141 eiqjrj 23\n",
      "**********************************\n"
     ]
    }
   ],
   "source": [
    "#### create emp class with basic emp details 1. emp_name 2. emp_id 3. emp_add 4. emp_salary\n",
    "\n",
    "\n",
    "class emp:\n",
    "    college = \"PIT\"\n",
    "    def __init__(self,e_name,e_id,e_add,e_sal):\n",
    "        self.e_name = e_name\n",
    "        self.e_id = e_id\n",
    "        self.e_add = e_add\n",
    "        self.e_sal = e_sal\n",
    "    def display(self):\n",
    "        print(self.college,self.e_name,self.e_id,self.e_add,self.e_sal)\n",
    "n = int(input(\"Enter the no. emp: \"))\n",
    "i = 1\n",
    "while i<=n:\n",
    "    e_name = input(\"Enter the emp name: \")\n",
    "    e_id = int(input(\"Enter the emp id: \"))\n",
    "    e_add = input(\"Enter the emp add: \")\n",
    "    e_sal = int(input(\"Enter the emp salary: \"))\n",
    "    e1 = emp(e_name,e_id,e_add,e_sal)\n",
    "    e1.display()\n",
    "    i = i+1\n",
    "    print(\"**********************************\")"
   ]
  },
  {
   "cell_type": "code",
   "execution_count": 10,
   "id": "85960c62",
   "metadata": {},
   "outputs": [
    {
     "name": "stdout",
     "output_type": "stream",
     "text": [
      "9 7\n"
     ]
    }
   ],
   "source": [
    "# Static Method\n",
    "\n",
    "class test:\n",
    "    def add(a,b):\n",
    "        return a+b\n",
    "    def sub(a,b):\n",
    "        return a-b\n",
    "a = test.add(4,5)\n",
    "s = test.sub(10,3)\n",
    "print(a,s)"
   ]
  },
  {
   "cell_type": "code",
   "execution_count": 11,
   "id": "c3ff62d1",
   "metadata": {},
   "outputs": [
    {
     "name": "stdout",
     "output_type": "stream",
     "text": [
      "6.0\n"
     ]
    }
   ],
   "source": [
    "# find the area of triangle using static method.\n",
    "\n",
    "class area:\n",
    "    def triangle(b,h):\n",
    "        return 0.5*b*h\n",
    "\n",
    "t1 = area.triangle(3,4)\n",
    "print(t1)"
   ]
  },
  {
   "cell_type": "markdown",
   "id": "0bada130",
   "metadata": {},
   "source": [
    "---\n",
    "- We can use the properties of one class in another class in two ways:\n",
    "    1. Has a relationship \n",
    "    2. Is a realationship (inheritance)\n",
    " \n",
    "## 1. Has a relationship\n",
    "   - The concept of using properties of one clas into another class by using the class name or reference variable name is known as has a relationship.\n",
    "   \n",
    "## 2. Inheritance or Is a relationship\n",
    "\n",
    "- The concept of using the properties of one class into another class directly like as same class member is known as inheritance or is a relationship..\n",
    "- A class which is extended by another class is known as super class or a based class.\n",
    "- A class which is extending the another class is known as sub-class or derived class.\n",
    "- We can use super class properties into sub class directly like as same class members.\n",
    "---\n",
    "### Inheritance is classified into:\n",
    "- __Single__: The Concept of inheriting properties from only one class into another class.\n",
    "- __Multilevel__: Inheriting properties from multiple class into single class with the concept of one after another.\n",
    "- __Hierarchical__- Inheriting properties from one to multiple classes separately.\n",
    "- __Multiple__: Inheriting properties from multiple classes into class at a time.\n",
    "- __Cyclic__: Inheriting properties from subclass to superclass. Python doesn't support it.\n",
    "- __Hybrid__: Combination of single, multilevel, hierarchical, multiple inheritance.\n",
    "\n",
    "Object class is automatically inherited into all classes.\n"
   ]
  },
  {
   "cell_type": "code",
   "execution_count": 14,
   "id": "b230fcf8",
   "metadata": {},
   "outputs": [
    {
     "name": "stdout",
     "output_type": "stream",
     "text": [
      "3000\n",
      "4000\n",
      "in m2:\n",
      "1000\n",
      "in m1:\n"
     ]
    }
   ],
   "source": [
    "class x:\n",
    "    a = 1000\n",
    "    def __init__(self):\n",
    "        self.b = 2000\n",
    "    def m1(self):\n",
    "        print(\"in m1:\")\n",
    "class y:\n",
    "    c = 3000\n",
    "    def __init__(self):\n",
    "        self.d = 4000\n",
    "    def m2():\n",
    "        print(\"in m2:\")\n",
    "    def display(self):\n",
    "        print(y.c)\n",
    "        print(self.d)\n",
    "        y.m2()\n",
    "        x1=x()\n",
    "        print(x1.a)\n",
    "        x1.m1()\n",
    "y1=y()\n",
    "y1.display()"
   ]
  },
  {
   "cell_type": "code",
   "execution_count": 25,
   "id": "2aa0c528",
   "metadata": {},
   "outputs": [
    {
     "name": "stdout",
     "output_type": "stream",
     "text": [
      "26 Kshitij 45000\n",
      "26 Kshitij 50000\n"
     ]
    }
   ],
   "source": [
    "#  WAP to create  1. class emp and 2. class test\n",
    "# 1. e_name\n",
    "# 2. e_id\n",
    "# 3. e_sal\n",
    "# update the salary in test class then call display method\n",
    "# create the object of emp class in the main program and passed a object any method defined in test class\n",
    "\n",
    "class emp:\n",
    "    def __init__(self,e_name,e_id,e_sal):\n",
    "        self.e_name = e_name\n",
    "        self.e_id = e_id\n",
    "        self.e_sal = e_sal\n",
    "    def display(self):\n",
    "        print(self.e_id,self.e_name,self.e_sal)\n",
    "\n",
    "class test:\n",
    "    def update(e):\n",
    "        e.e_sal = 50000\n",
    "        e.display()\n",
    "        \n",
    "e1 = emp(\"Kshitij\",26,45000)\n",
    "e1.display()\n",
    "test.update(e1)"
   ]
  },
  {
   "cell_type": "code",
   "execution_count": 30,
   "id": "4c1368a8",
   "metadata": {},
   "outputs": [
    {
     "name": "stdout",
     "output_type": "stream",
     "text": [
      "26 Kshitij 36 98 67\n",
      "Pass...\n"
     ]
    }
   ],
   "source": [
    "# WAP to create two classes 1. student 2. find result \n",
    "\n",
    "class student:\n",
    "    def __init__(self,s_id,s_name,s_s1,s_s2,s_s3):\n",
    "        self.s_id = s_id\n",
    "        self.s_name = s_name\n",
    "        self.s_s1 = s_s1\n",
    "        self.s_s2 = s_s2\n",
    "        self.s_s3 = s_s3\n",
    "    def display(self):\n",
    "        print(self.s_id,self.s_name,self.s_s1,self.s_s2,self.s_s3)\n",
    "        \n",
    "class result:\n",
    "    def r_find(s):\n",
    "        if s.s_s1>35 and s.s_s2>35 and s.s_s3>35:\n",
    "            marks = s.s_s1 + s.s_s2 + s.s_s3\n",
    "            r = marks/3\n",
    "            print(\"Pass...\")\n",
    "        else:\n",
    "            print('Fail...')\n",
    "            \n",
    "s1 = student(\"26\",\"Kshitij\",36,98,67)\n",
    "s1.display()\n",
    "result.r_find(s1)"
   ]
  },
  {
   "cell_type": "markdown",
   "id": "508d901a",
   "metadata": {},
   "source": []
  },
  {
   "cell_type": "code",
   "execution_count": 1,
   "id": "c119525a",
   "metadata": {},
   "outputs": [
    {
     "name": "stdout",
     "output_type": "stream",
     "text": [
      "5\n",
      "Perimeter of Cirlce: 31.40\n"
     ]
    }
   ],
   "source": [
    "# WAP with class Circle\n",
    "class circle:\n",
    "    pi = 3.14\n",
    "    def __init__(self):\n",
    "        self.r = int(input())\n",
    "    def display(self):\n",
    "        b = 2*circle.pi*self.r\n",
    "        print(\"Perimeter of Cirlce: %.2f\"%b)\n",
    "\n",
    "c = circle()\n",
    "c.display()"
   ]
  },
  {
   "cell_type": "code",
   "execution_count": 3,
   "id": "8c67bb0f",
   "metadata": {},
   "outputs": [
    {
     "name": "stdout",
     "output_type": "stream",
     "text": [
      "1000\n",
      "2000\n",
      "In m1\n",
      "3000\n",
      "4000\n",
      "In m2\n"
     ]
    }
   ],
   "source": [
    "# Inheritance Example\n",
    "class x:\n",
    "    a = 1000\n",
    "    def __init__(self):\n",
    "        self.b = 2000\n",
    "    def m1(self):\n",
    "        print(\"In m1\")\n",
    "class y(x):\n",
    "    c = 3000\n",
    "    def __init__(self):\n",
    "        self.d = 4000\n",
    "        super().__init__()\n",
    "    def m2(self):\n",
    "        print(\"In m2\")\n",
    "    def display(self):\n",
    "        print(x.a)\n",
    "        print(self.b)\n",
    "        self.m1()\n",
    "        print(y.c)\n",
    "        print(self.d)\n",
    "        self.m2()\n",
    "\n",
    "y1 = y()\n",
    "y1.display()"
   ]
  },
  {
   "cell_type": "code",
   "execution_count": 4,
   "id": "550b2630",
   "metadata": {},
   "outputs": [
    {
     "name": "stdout",
     "output_type": "stream",
     "text": [
      "<__main__.x object at 0x10984bb50>\n",
      "In m1\n"
     ]
    }
   ],
   "source": [
    "class c:\n",
    "    def m1(self):\n",
    "        print(\"In m1\")\n",
    "        \n",
    "x1 = x()\n",
    "p = x1.__str__()      # returns address of object class in hexadecimal form\n",
    "print(p)\n",
    "x1.m1()"
   ]
  },
  {
   "cell_type": "markdown",
   "id": "25290c52",
   "metadata": {},
   "source": [
    "# Object Class\n",
    "\n",
    "- Object class is predined class which is defined is built-in-module.\n",
    "- It is super class for every class in python.\n",
    "- Object class properties can be accessed in every class directly and we can access through every class reference variable."
   ]
  },
  {
   "cell_type": "code",
   "execution_count": 11,
   "id": "1bead888",
   "metadata": {},
   "outputs": [
    {
     "name": "stdout",
     "output_type": "stream",
     "text": [
      "<class 'object'>\n",
      "<class '__main__.x'>\n",
      "In m1\n",
      "In m2\n",
      "277101837\n"
     ]
    }
   ],
   "source": [
    "# Single Inheritance\n",
    "class x:\n",
    "    def m1(self):\n",
    "        print(\"In m1\")\n",
    "class y(x):\n",
    "    def m2(self):\n",
    "        print(\"In m2\")\n",
    "print(x.__base__)\n",
    "print(y.__base__)\n",
    "y1 = y()\n",
    "y1.m1()\n",
    "y1.m2()\n",
    "p = y1.__hash__()          # hash returns address in decimal form\n",
    "print(p)"
   ]
  },
  {
   "cell_type": "code",
   "execution_count": 16,
   "id": "639a2eab",
   "metadata": {},
   "outputs": [
    {
     "name": "stdout",
     "output_type": "stream",
     "text": [
      "Mahin Hyd 101 50000\n"
     ]
    }
   ],
   "source": [
    "# Multilevel Inheritance\n",
    "\n",
    "class person:\n",
    "    def insert(self):\n",
    "        self.name = \"Mahin\"\n",
    "        self.add = \"Hyd\"\n",
    "class employee(person):\n",
    "    def insert1(self):\n",
    "        self.id = 101\n",
    "class salaried_employee(employee):\n",
    "    def __init__(self):\n",
    "        self.sal = 50000\n",
    "    def display(self):\n",
    "        self.insert()\n",
    "        self.insert1()\n",
    "        print(self.name,self.add,self.id,self.sal)\n",
    "s1 = salaried_employee()\n",
    "\n",
    "s1.display()"
   ]
  },
  {
   "cell_type": "code",
   "execution_count": 18,
   "id": "cada710b",
   "metadata": {},
   "outputs": [
    {
     "name": "stdout",
     "output_type": "stream",
     "text": [
      "Enter sub1: 90\n",
      "Enter sub2: 89\n",
      "Enter name: Kshitij\n",
      "Enter ID: 78\n",
      "Enter address: Kalol\n",
      "Kshitij 78 Kalol 90 89\n",
      "Enter sub3: 67\n",
      "Enter sub4: 87\n",
      "Enter name: Kd\n",
      "Enter ID: 45\n",
      "Enter address: AMD\n",
      "Kd 45 AMD 67 87\n"
     ]
    }
   ],
   "source": [
    "# Hierarchical Inheritance\n",
    "class Student:\n",
    "    def insert(self):\n",
    "        self.name = input(\"Enter name: \")\n",
    "        self.id1  = int(input(\"Enter ID: \"))\n",
    "        self.add  = input(\"Enter address: \")\n",
    "class DS(Student):\n",
    "    def __init__(self):\n",
    "        self.s1 = int(input(\"Enter sub1: \"))\n",
    "        self.s2 = int(input(\"Enter sub2: \"))\n",
    "    def display(self):\n",
    "        self.insert()\n",
    "        print(self.name,self.id1,self.add,self.s1,self.s2)\n",
    "class ML(Student):\n",
    "    def __init__(self):\n",
    "        self.s3 = int(input(\"Enter sub3: \"))\n",
    "        self.s4 = int(input(\"Enter sub4: \"))\n",
    "    def display(self):\n",
    "        self.insert()\n",
    "        print(self.name,self.id1,self.add,self.s3,self.s4)\n",
    "\n",
    "d1 = DS()\n",
    "d1.display()\n",
    "m1 = ML()\n",
    "m1.display()\n"
   ]
  },
  {
   "cell_type": "code",
   "execution_count": 1,
   "id": "3cad0f3a",
   "metadata": {},
   "outputs": [
    {
     "name": "stdout",
     "output_type": "stream",
     "text": [
      "In m1 of x\n"
     ]
    }
   ],
   "source": [
    "# Multiple Inheritance\n",
    "class x:\n",
    "    def m1(self):\n",
    "        print(\"In m1 of x\")\n",
    "class y:\n",
    "    def m1(self):\n",
    "        print(\"In m1 of y\")\n",
    "class z(x,y):       # x has higher priority\n",
    "    def m2(self):\n",
    "        print(\"In m2 of z\")\n",
    "z1 = z()\n",
    "z1.m1()"
   ]
  },
  {
   "cell_type": "code",
   "execution_count": null,
   "id": "845da23d",
   "metadata": {},
   "outputs": [],
   "source": [
    "# Hybrid Inheritance\n",
    "class a:\n",
    "    def insert(self):\n",
    "        self.name = \"Rohan\"\n",
    "class b(a):\n",
    "    def insert(self):\n",
    "        self.add = \"Vadodara\"\n",
    "class c(b):\n",
    "    def m1(self):\n",
    "\n",
    "class d(b):\n",
    "\n",
    "class e(c,d):\n",
    "x = b()\n",
    "x.insert()"
   ]
  },
  {
   "cell_type": "code",
   "execution_count": 3,
   "id": "940218cf",
   "metadata": {},
   "outputs": [
    {
     "name": "stdout",
     "output_type": "stream",
     "text": [
      "10\n",
      "5\n",
      "15\n",
      "5\n"
     ]
    }
   ],
   "source": [
    "# Create Parent class and its sub-class Child\n",
    "# Print addition and subtraction of two numbers nly using the objects of Child class\n",
    "class Parent:\n",
    "    def add(self,a,b):\n",
    "        print(a+b)\n",
    "class Child(Parent):\n",
    "    def sub(self,a,b):\n",
    "        print(a-b)\n",
    "a = int(input())\n",
    "b = int(input())\n",
    "c = Child()\n",
    "c.add(a,b)\n",
    "c.sub(a,b)"
   ]
  },
  {
   "cell_type": "markdown",
   "id": "3368a358",
   "metadata": {},
   "source": [
    "# Polymorphism\n",
    "Defining one thing in number of forms\n",
    "It is divided into two types:\n",
    "#### 1. Method overloading:\n",
    "- The concept of defining multiple methods with same name, same or different number of parameters within a class is known as method overloading\n",
    "- It is partially supported by Python\n",
    "\n",
    "#### 2. Method overriding\n",
    "- Concept of defining multiple methods with same name, same number of parameters, one in superclass and another one in subclass is known as Method overriding\n",
    "- When we override superclass methods in subclass, then by defaylt subclass method is executed if it exists\n",
    "    \n",
    "### Arbitrary Parameter\n",
    "If any variable is preceeded by *\n",
    "Python supports two types:\n",
    "- Single * (Type is considered as  Tuple)\n",
    "- Multi * (Type is considered as Dictionary)"
   ]
  },
  {
   "cell_type": "code",
   "execution_count": 4,
   "id": "f9cffaba",
   "metadata": {},
   "outputs": [
    {
     "name": "stdout",
     "output_type": "stream",
     "text": [
      "In m1 with 2 parameter\n"
     ]
    }
   ],
   "source": [
    "# Method overloading\n",
    "class x:\n",
    "    def m1(self):\n",
    "        print(\"In m1 with no parameter\")\n",
    "    def m1(self, a):\n",
    "        print(\"In m1 with 1 parameter\")\n",
    "    def m1(self, a, b):\n",
    "        print(\"In m1 with 2 parameter\")\n",
    "x1 = x()\n",
    "x1.m1(10,20)\n"
   ]
  },
  {
   "cell_type": "code",
   "execution_count": 5,
   "id": "5efdee5e",
   "metadata": {},
   "outputs": [
    {
     "name": "stdout",
     "output_type": "stream",
     "text": [
      "(1, 2, 3, 4, 5)\n",
      "<class 'tuple'>\n",
      "15\n"
     ]
    }
   ],
   "source": [
    "# Arbitrary parameter\n",
    "def d(*a):\n",
    "    print(a)\n",
    "    print(type(a))\n",
    "    print(sum(a))\n",
    "d(1,2,3,4,5)"
   ]
  },
  {
   "cell_type": "code",
   "execution_count": 6,
   "id": "b4058893",
   "metadata": {},
   "outputs": [
    {
     "name": "stdout",
     "output_type": "stream",
     "text": [
      "(20, 30)\n",
      "10\n",
      "60\n"
     ]
    }
   ],
   "source": [
    "# def d(*a,b):      # Error\n",
    "def d(b,*a):\n",
    "    print(a)\n",
    "    print(b)\n",
    "    print(sum(a) + b)\n",
    "d(10,20,30)"
   ]
  },
  {
   "cell_type": "code",
   "execution_count": 7,
   "id": "18b92b5c",
   "metadata": {},
   "outputs": [
    {
     "name": "stdout",
     "output_type": "stream",
     "text": [
      "60\n",
      "KrishnaRamaHanuman\n"
     ]
    }
   ],
   "source": [
    "class test:\n",
    "    def op(self, b, *a):\n",
    "        if b == 'int':\n",
    "            s1 = 0\n",
    "        else:\n",
    "            s1 = ''\n",
    "        for p in a:\n",
    "            s1 = s1 + p\n",
    "        print(s1)\n",
    "t1 = test()\n",
    "t1.op(\"int\", 10, 20, 30)\n",
    "t1.op(\"str\", \"Krishna\", \"Rama\", \"Hanuman\")"
   ]
  },
  {
   "cell_type": "code",
   "execution_count": 8,
   "id": "cbce50a7",
   "metadata": {},
   "outputs": [
    {
     "name": "stdout",
     "output_type": "stream",
     "text": [
      "In m2 of y\n",
      "In m3 of y\n",
      "In m1 of x\n",
      "In m1 of x\n",
      "In m4 of z\n",
      "In m2 of x\n"
     ]
    }
   ],
   "source": [
    "# Method Overriding\n",
    "class x:\n",
    "    def m1(self):\n",
    "        print(\"In m1 of x\")\n",
    "    def m2(self):\n",
    "        print(\"In m2 of x\")\n",
    "class y(x):\n",
    "    def m2(self):\n",
    "        print(\"In m2 of y\")\n",
    "    def m3(self):\n",
    "        print(\"In m3 of y\")\n",
    "class z(x):\n",
    "    def m3(self):\n",
    "        print(\"IN m3 of z\");\n",
    "    def m4(self):\n",
    "        print(\"In m4 of z\")\n",
    "y1 = y()\n",
    "y1.m2()\n",
    "y1.m3()\n",
    "y1.m1()\n",
    "z1 = z()\n",
    "z1.m1()\n",
    "z1.m4()\n",
    "z1.m2()"
   ]
  },
  {
   "cell_type": "code",
   "execution_count": 9,
   "id": "c52b6ed0",
   "metadata": {},
   "outputs": [
    {
     "name": "stdout",
     "output_type": "stream",
     "text": [
      "Python\n"
     ]
    }
   ],
   "source": [
    "class x:\n",
    "    def m1(self):\n",
    "        print(\"In m1\")\n",
    "    def __str__(self):\n",
    "        return \"Python\"\n",
    "x1 = x()\n",
    "p = x1.__str__()\n",
    "print(p)"
   ]
  },
  {
   "cell_type": "code",
   "execution_count": 10,
   "id": "53246ac3",
   "metadata": {},
   "outputs": [
    {
     "name": "stdout",
     "output_type": "stream",
     "text": [
      "Python\n",
      "ES\n",
      "MPMC\n"
     ]
    }
   ],
   "source": [
    "class x:\n",
    "    def __init__(self, name):\n",
    "        self.name = name\n",
    "    def __str__(self):\n",
    "        return self.name\n",
    "x1 = x(\"Python\")\n",
    "print(x1)\n",
    "x2 = x(\"ES\")\n",
    "print(x2)\n",
    "x3 = x(\"MPMC\")\n",
    "print(x3)"
   ]
  },
  {
   "cell_type": "code",
   "execution_count": null,
   "id": "65c434e9",
   "metadata": {},
   "outputs": [],
   "source": []
  }
 ],
 "metadata": {
  "kernelspec": {
   "display_name": "Python 3 (ipykernel)",
   "language": "python",
   "name": "python3"
  },
  "language_info": {
   "codemirror_mode": {
    "name": "ipython",
    "version": 3
   },
   "file_extension": ".py",
   "mimetype": "text/x-python",
   "name": "python",
   "nbconvert_exporter": "python",
   "pygments_lexer": "ipython3",
   "version": "3.11.5"
  }
 },
 "nbformat": 4,
 "nbformat_minor": 5
}
