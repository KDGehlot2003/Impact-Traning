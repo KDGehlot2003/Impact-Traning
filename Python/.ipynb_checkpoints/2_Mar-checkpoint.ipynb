{
 "cells": [
  {
   "cell_type": "markdown",
   "id": "764d0084",
   "metadata": {},
   "source": [
    "# Problem Solving\n"
   ]
  },
  {
   "cell_type": "code",
   "execution_count": 8,
   "id": "7ff82c14",
   "metadata": {},
   "outputs": [
    {
     "name": "stdout",
     "output_type": "stream",
     "text": [
      "10\n",
      "8\n",
      "20\n"
     ]
    }
   ],
   "source": [
    "x = int(input())+int(input())\n",
    "print(20) if (15<x<20) else print(x)"
   ]
  },
  {
   "cell_type": "code",
   "execution_count": 20,
   "id": "d7a5bca4",
   "metadata": {},
   "outputs": [
    {
     "name": "stdout",
     "output_type": "stream",
     "text": [
      "10\n",
      "1 5 20 50 60 61 68 69 90 100\n",
      "19 62\n",
      "4\n"
     ]
    }
   ],
   "source": [
    "n = int(input())\n",
    "arr = list(map(int,input().split())) [:n]\n",
    "s,e = map(int,input().split())\n",
    "\n",
    "c = 0\n",
    "\n",
    "# for i in range(len(arr)):\n",
    "#     if arr[i]==s:\n",
    "#         s=i\n",
    "#     if arr[i]==e:\n",
    "#         e=i\n",
    "        \n",
    "# print(e-s+1)\n",
    "\n",
    "r = [p for p in arr if p in range(s,e+1)]\n",
    "print(len(r))"
   ]
  },
  {
   "cell_type": "code",
   "execution_count": null,
   "id": "ade552e3",
   "metadata": {},
   "outputs": [],
   "source": [
    "###### \n"
   ]
  }
 ],
 "metadata": {
  "kernelspec": {
   "display_name": "Python 3 (ipykernel)",
   "language": "python",
   "name": "python3"
  },
  "language_info": {
   "codemirror_mode": {
    "name": "ipython",
    "version": 3
   },
   "file_extension": ".py",
   "mimetype": "text/x-python",
   "name": "python",
   "nbconvert_exporter": "python",
   "pygments_lexer": "ipython3",
   "version": "3.11.5"
  }
 },
 "nbformat": 4,
 "nbformat_minor": 5
}
