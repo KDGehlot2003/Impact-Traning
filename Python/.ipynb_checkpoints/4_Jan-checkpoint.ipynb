{
 "cells": [
  {
   "cell_type": "markdown",
   "id": "138f9797",
   "metadata": {},
   "source": [
    "## SET\n",
    "Set Objecyt can be created using {} or calling set function\n",
    "\n",
    "set is mutable object \n",
    "\n",
    "duplicate elements are not allowed in set.\n",
    "\n",
    "insertion order isnot preserve.\n",
    "\n",
    "set does not support indexing and slicing.\n",
    "\n",
    "set is collection of homogeous and hetrogeneous element.\n",
    "\n",
    "set is mainly used to perform like union,intersection,difference, and symmetric difference."
   ]
  },
  {
   "cell_type": "code",
   "execution_count": 2,
   "id": "81ad7426",
   "metadata": {},
   "outputs": [
    {
     "data": {
      "text/plain": [
       "set"
      ]
     },
     "execution_count": 2,
     "metadata": {},
     "output_type": "execute_result"
    }
   ],
   "source": [
    "s = {10}\n",
    "type(s)"
   ]
  },
  {
   "cell_type": "code",
   "execution_count": 3,
   "id": "6d69338d",
   "metadata": {},
   "outputs": [],
   "source": [
    "s = set()"
   ]
  },
  {
   "cell_type": "code",
   "execution_count": 6,
   "id": "c1016a71",
   "metadata": {},
   "outputs": [
    {
     "name": "stdout",
     "output_type": "stream",
     "text": [
      "{10}\n"
     ]
    }
   ],
   "source": [
    "s.add(10)\n",
    "print(s)"
   ]
  },
  {
   "cell_type": "code",
   "execution_count": 9,
   "id": "396e5bc3",
   "metadata": {},
   "outputs": [
    {
     "name": "stdout",
     "output_type": "stream",
     "text": [
      "{33, 35, 68, 10, 12}\n"
     ]
    }
   ],
   "source": [
    "s = {10,33,12,35,68}\n",
    "print(s)"
   ]
  },
  {
   "cell_type": "code",
   "execution_count": 1,
   "id": "27f7eb57",
   "metadata": {},
   "outputs": [
    {
     "name": "stdout",
     "output_type": "stream",
     "text": [
      "2334\n",
      "{'3', '2', '4'}\n",
      "2 = 1\n",
      "3 = 2\n",
      "4 = 1\n"
     ]
    }
   ],
   "source": [
    "# 2334\n",
    "n = input()\n",
    "s = set(n)\n",
    "print(s)\n",
    "l = list(s)\n",
    "l.sort()\n",
    "for i in l:\n",
    "    print(i,\"=\",n.count(i))"
   ]
  },
  {
   "cell_type": "code",
   "execution_count": 26,
   "id": "6871de3a",
   "metadata": {},
   "outputs": [
    {
     "name": "stdout",
     "output_type": "stream",
     "text": [
      "aabccde\n",
      "a2b1c2d1e1"
     ]
    }
   ],
   "source": [
    "# aabccde --> a2b1c2d1e1\n",
    "\n",
    "n = input()\n",
    "s = set(n)\n",
    "l = list(s)\n",
    "l.sort()\n",
    "for i in l:\n",
    "    print(i,end=\"\")\n",
    "    print(n.count(i),end=\"\")"
   ]
  },
  {
   "cell_type": "code",
   "execution_count": 28,
   "id": "850d9462",
   "metadata": {},
   "outputs": [
    {
     "name": "stdout",
     "output_type": "stream",
     "text": [
      "aabbbcd\n",
      "a-2 b-3 "
     ]
    }
   ],
   "source": [
    "# aabbbcd->a-2 b-3\n",
    "\n",
    "n = input()\n",
    "s = set(n)\n",
    "l = list(s)\n",
    "l.sort()\n",
    "for i in l:\n",
    "    if n.count(i)==1:\n",
    "        continue\n",
    "    print(i,end=\"-\")\n",
    "    print(n.count(i),end=\" \")"
   ]
  },
  {
   "cell_type": "code",
   "execution_count": 33,
   "id": "08f2ea3f",
   "metadata": {},
   "outputs": [
    {
     "name": "stdout",
     "output_type": "stream",
     "text": [
      "{1, 2, 3, 4, 5, 6, 7, 8}\n",
      "{1, 2, 3, 4, 5, 6, 7, 8}\n",
      "{4, 5}\n",
      "{1, 2, 3}\n",
      "{8, 6, 7}\n",
      "{1, 2, 3, 6, 7, 8}\n",
      "{4, 5}\n",
      "{1, 2, 3, 6, 7, 8}\n"
     ]
    }
   ],
   "source": [
    "# Function of set\n",
    "\n",
    "a = {1,2,3,4,5}\n",
    "b = {4,5,6,7,8}\n",
    "\n",
    "print(a.union(b))\n",
    "\n",
    "print(a|b)\n",
    "print(a&b)\n",
    "print(a-b)\n",
    "print(b-a)\n",
    "print(a^b)\n",
    "print(a.intersection(b))\n",
    "print(a.symmetric_difference(b))\n"
   ]
  },
  {
   "cell_type": "code",
   "execution_count": 47,
   "id": "75a8ba36",
   "metadata": {},
   "outputs": [
    {
     "name": "stdout",
     "output_type": "stream",
     "text": [
      "4\n",
      "2 4 5 9\n",
      "4\n",
      "2 4 11 12\n",
      "5\n",
      "9\n",
      "11\n",
      "12\n"
     ]
    }
   ],
   "source": [
    "# HAKERRANK\n",
    "# Enter your code here. Read input from STDIN. Print output to STDOUT\n",
    "n1 = int(input())\n",
    "s1 = set(map(int,input().split()))\n",
    "n2 = int(input())\n",
    "s2 = set(map(int,input().split()))\n",
    "\n",
    "s3 = s1^s2\n",
    "l = []\n",
    "for i in s3:\n",
    "    l.append(i)\n",
    "l.sort()\n",
    "for i in l:\n",
    "    print(i)"
   ]
  },
  {
   "cell_type": "code",
   "execution_count": null,
   "id": "6c6250d9",
   "metadata": {},
   "outputs": [],
   "source": []
  },
  {
   "cell_type": "code",
   "execution_count": 49,
   "id": "a582d616",
   "metadata": {},
   "outputs": [
    {
     "name": "stdout",
     "output_type": "stream",
     "text": [
      "9\n",
      "1 2 3 4 5 6 7 8 9\n",
      "9\n",
      "10 1 2 3 11 21 55 6 8\n",
      "13\n"
     ]
    }
   ],
   "source": [
    "# HACKERANK\n",
    "# 9\n",
    "# 1 2 3 4 5 6 7 8 9\n",
    "# 9\n",
    "# 10 1 2 3 11 21 55 6 8\n",
    "\n",
    "n1 = int(input())\n",
    "s1 = set(map(int,input().split()))\n",
    "n2 = int(input())\n",
    "s2 = set(map(int,input().split()))\n",
    "\n",
    "s3 = s1|s2\n",
    "print(len(s3))"
   ]
  },
  {
   "cell_type": "code",
   "execution_count": 64,
   "id": "c91e6fd9",
   "metadata": {},
   "outputs": [
    {
     "name": "stdout",
     "output_type": "stream",
     "text": [
      "{1, 2, 3, 4, 5, 6}\n",
      "{1, 2, 3, 5, 6}\n",
      "{1, 2, 5, 6}\n",
      "{2, 5, 6}\n",
      "set()\n",
      "{4, 5}\n",
      "{4, 5, 6, 7, 8}\n"
     ]
    }
   ],
   "source": [
    "# Methods of set\n",
    "\n",
    "s = {1,2,3,4,5}\n",
    "s.add(6)\n",
    "print(s)\n",
    "s.remove(4)\n",
    "print(s)\n",
    "s.discard(3)\n",
    "print(s)\n",
    "s.pop()\n",
    "print(s)\n",
    "s.clear()\n",
    "print(s)\n",
    "\n",
    "s = {1,2,3,4,5}\n",
    "r = {4,5,6,7,8}\n",
    "# print(s.intersection(r))\n",
    "s.intersection_update(r)\n",
    "print(s)\n",
    "print(r)"
   ]
  },
  {
   "cell_type": "code",
   "execution_count": 66,
   "id": "4722d58b",
   "metadata": {},
   "outputs": [
    {
     "name": "stdout",
     "output_type": "stream",
     "text": [
      "{'a': 10, 'b': 20, 'c': 30, 'd': 40, 'e': 50}\n",
      "{}\n"
     ]
    }
   ],
   "source": [
    "# Methods of Dictionary\n",
    "\n",
    "s = {'a':10,'b':20,'c':30}\n",
    "s.update({'d':40,\"e\":50})\n",
    "print(s)\n",
    "s.popitem()\n",
    "s.pop('b')\n",
    "del s['c']\n",
    "s.clear()\n",
    "print(s)"
   ]
  },
  {
   "cell_type": "code",
   "execution_count": 78,
   "id": "47cd004c",
   "metadata": {},
   "outputs": [
    {
     "name": "stdout",
     "output_type": "stream",
     "text": [
      "beads\n",
      "leaps\n",
      "aes\n"
     ]
    }
   ],
   "source": [
    "# beads\n",
    "# leaps\n",
    "\n",
    "s1 = set(map(str,input()))\n",
    "s2 = set(map(str,input()))\n",
    "\n",
    "s3 = s1&s2\n",
    "l= list(s3)\n",
    "l.sort()\n",
    "# for i in l:\n",
    "#     print(i,end=\"\")\n",
    "print(''.join(l))"
   ]
  },
  {
   "cell_type": "code",
   "execution_count": 113,
   "id": "cf9e04b4",
   "metadata": {},
   "outputs": [
    {
     "name": "stdout",
     "output_type": "stream",
     "text": [
      "5\n",
      "aabaaba\n",
      "bbaabb\n",
      "abbab\n",
      "aaabbb\n",
      "abbbbabbb\n",
      "1\n"
     ]
    }
   ],
   "source": [
    "#HW\n",
    "# Input\n",
    "# 5\n",
    "# aabaaba\n",
    "# bbaabb\n",
    "# abbab \n",
    "# aaabbb\n",
    "# abbbbabbb\n",
    "# Output\n",
    "# 3\n",
    "\n",
    "n = int(input())\n",
    "l = []\n",
    "for i in range(n):\n",
    "    s = input()\n",
    "    l.append(s)\n",
    "    \n",
    "c = 0\n",
    "\n",
    "for i in l:\n",
    "    for j in range(len(i)%2!=0):\n",
    "        if i[j]==i[-(j+1)]:\n",
    "            c+=1\n",
    "print(c)"
   ]
  },
  {
   "cell_type": "code",
   "execution_count": null,
   "id": "b9dd225f",
   "metadata": {},
   "outputs": [],
   "source": []
  }
 ],
 "metadata": {
  "kernelspec": {
   "display_name": "Python 3 (ipykernel)",
   "language": "python",
   "name": "python3"
  },
  "language_info": {
   "codemirror_mode": {
    "name": "ipython",
    "version": 3
   },
   "file_extension": ".py",
   "mimetype": "text/x-python",
   "name": "python",
   "nbconvert_exporter": "python",
   "pygments_lexer": "ipython3",
   "version": "3.11.5"
  }
 },
 "nbformat": 4,
 "nbformat_minor": 5
}
