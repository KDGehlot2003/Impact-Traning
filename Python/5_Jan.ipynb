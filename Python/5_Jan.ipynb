{
 "cells": [
  {
   "cell_type": "markdown",
   "id": "39ff564b",
   "metadata": {},
   "source": [
    "## Tuple\n",
    "\n",
    "- Tuple object can be created by using () or by assigning more thna one value to single variable tuple object is created\n",
    "- Tuple is immutable object insertion order is presevre\n",
    "- duplicate element are allowed\n",
    "- tuple support both indexing and slicing\n",
    "- tuple is collection of homogeous and hetrogeneous element."
   ]
  },
  {
   "cell_type": "code",
   "execution_count": 3,
   "id": "1765d610",
   "metadata": {},
   "outputs": [
    {
     "name": "stdout",
     "output_type": "stream",
     "text": [
      "<class 'tuple'>\n",
      "(1, 2, 3, 4, 5, 6, 7, 8, 9, 10)\n",
      "3\n"
     ]
    }
   ],
   "source": [
    "t = tuple()\n",
    "print(type(t))\n",
    "t = tuple(range(1,11))\n",
    "print(t)\n",
    "print(t[2])"
   ]
  },
  {
   "cell_type": "code",
   "execution_count": 22,
   "id": "a6b0212e",
   "metadata": {},
   "outputs": [
    {
     "name": "stdout",
     "output_type": "stream",
     "text": [
      "123\n",
      "1111011\n"
     ]
    }
   ],
   "source": [
    "# convert number into binary.\n",
    "n = int(input())\n",
    "l = []\n",
    "while n>0:\n",
    "    if n%2==0:\n",
    "        l.append('0')\n",
    "    else:\n",
    "        l.append('1')\n",
    "    n = n//2\n",
    "\n",
    "l.reverse()\n",
    "print(''.join(l))"
   ]
  },
  {
   "cell_type": "markdown",
   "id": "0d8c67ae",
   "metadata": {},
   "source": [
    "# Funciton\n",
    "\n",
    "- Function is a sub program and it perform specific operation.\n",
    "- A self contain block of one or more statement is called as function.\n",
    "\n",
    "#### Advantages of function :-\n",
    "    1. Resuability (writing the code only once but we can use more than once\n",
    "    2. understanding logic become easy.\n",
    "\n",
    "- In python programmig we can define a funciton usinf def keyword.\n",
    "\n",
    "#### Function are divided into 4 types:\n",
    "    1. Function without argument and without return type.\n",
    "    2. Function with argument and without return type.\n",
    "    3. Function with argument and with return type.\n",
    "    4. Function without argument and with return type. (not mostly used"
   ]
  },
  {
   "cell_type": "code",
   "execution_count": 31,
   "id": "e498f85c",
   "metadata": {},
   "outputs": [
    {
     "name": "stdout",
     "output_type": "stream",
     "text": [
      "10\n",
      "10 is even\n",
      "11\n",
      "11 is odd\n"
     ]
    }
   ],
   "source": [
    "# Function without argument and without return type.\n",
    "def even_odd():\n",
    "    n = int(input())\n",
    "    if n%2==0:\n",
    "        print(n,\"is even\")\n",
    "    else:\n",
    "        print(n,\"is odd\")\n",
    "        \n",
    "even_odd()\n",
    "d = even_odd\n",
    "d()"
   ]
  },
  {
   "cell_type": "code",
   "execution_count": 32,
   "id": "6cdc51f7",
   "metadata": {},
   "outputs": [
    {
     "name": "stdout",
     "output_type": "stream",
     "text": [
      "10\n",
      "10 is even\n"
     ]
    }
   ],
   "source": [
    "# Function with argument and without return type.\n",
    "def even_odd(n):\n",
    "    if n%2==0:\n",
    "        print(n,\"is even\")\n",
    "    else:\n",
    "        print(n,\"is odd\")\n",
    "\n",
    "n = int(input())\n",
    "even_odd(n)"
   ]
  },
  {
   "cell_type": "code",
   "execution_count": 36,
   "id": "24d868c7",
   "metadata": {},
   "outputs": [
    {
     "name": "stdout",
     "output_type": "stream",
     "text": [
      "10\n",
      "10 is even\n"
     ]
    }
   ],
   "source": [
    "# Function with argument and with return type.\n",
    "def even_odd(n):\n",
    "    if n%2==0:\n",
    "        return \"even\"\n",
    "    else:\n",
    "        return \"odd\"\n",
    "\n",
    "n = int(input())\n",
    "s= even_odd(n)\n",
    "if(s==\"even\"):\n",
    "    print(n,\"is even\")\n",
    "else:\n",
    "    print(n,\"is odd\")"
   ]
  },
  {
   "cell_type": "code",
   "execution_count": 40,
   "id": "e1e887dc",
   "metadata": {},
   "outputs": [
    {
     "name": "stdout",
     "output_type": "stream",
     "text": [
      "10\n",
      "10 is even\n"
     ]
    }
   ],
   "source": [
    "def even_odd(n):\n",
    "    if n%2==0:\n",
    "        return 1\n",
    "    else:\n",
    "        return 0\n",
    "\n",
    "n = int(input())\n",
    "s= even_odd(n)\n",
    "if(s==1):\n",
    "    print(n,\"is even\")\n",
    "else:\n",
    "    print(n,\"is odd\")"
   ]
  },
  {
   "cell_type": "code",
   "execution_count": 47,
   "id": "b6cddfa7",
   "metadata": {},
   "outputs": [
    {
     "name": "stdout",
     "output_type": "stream",
     "text": [
      "DBCE\n",
      "11110\n"
     ]
    }
   ],
   "source": [
    "# IMP (ASCII) (ORD)\n",
    "\n",
    "def letteredNumber(n):\n",
    "    s = 0\n",
    "    for i in n:\n",
    "        w = 10**(ord(i)-ord('A'))\n",
    "        s = s + w\n",
    "    return s\n",
    "\n",
    "n = input()\n",
    "\n",
    "print(letteredNumber(n))"
   ]
  },
  {
   "cell_type": "code",
   "execution_count": 68,
   "id": "c438c184",
   "metadata": {},
   "outputs": [
    {
     "name": "stdout",
     "output_type": "stream",
     "text": [
      "3\n",
      "12 11 1\n",
      "No\n"
     ]
    }
   ],
   "source": [
    "def Hello(i):\n",
    "    if (i==i[::-1]):\n",
    "        return 1\n",
    "    else:\n",
    "        return 0\n",
    "\n",
    "\n",
    "n = int(input())    \n",
    "l = list(map(str,input().split())) [:n]\n",
    "flag = False\n",
    "ans = []\n",
    "for i in l:\n",
    "    if (Hello(i)):\n",
    "        flag = True\n",
    "        ans.append(flag)\n",
    "    else:\n",
    "        flag = False\n",
    "        ans.append(flag)\n",
    "    \n",
    "\n",
    "if False in ans:\n",
    "    print(\"No\")\n",
    "else:\n",
    "    print(\"Yes\")\n",
    "    \n",
    "    \n",
    "    \n",
    "# SIR\n",
    "\n",
    "# def pali(l):\n",
    "#     f = 0 \n",
    "#     for p in l:\n",
    "#         d = str(p)\n",
    "#         if d!=d[::|-1]:\n",
    "#             f = 0\n",
    "#             break\n",
    "#         else:\n",
    "#             f = 1\n",
    "#         if f==1:\n",
    "#             return 1\n",
    "#         else:\n",
    "#             return 0\n",
    "\n",
    "\n",
    "# n = int(input())\n",
    "# l = list(map(str,input().split())) [:n]\n",
    "\n",
    "# s = pali()\n",
    "\n",
    "# if s==1:\n",
    "#     print(\"Yes\")\n",
    "# else:\n",
    "#     print(\"No\")"
   ]
  },
  {
   "cell_type": "markdown",
   "id": "19315c65",
   "metadata": {},
   "source": [
    "# Lambda\n",
    "- lambda is a special function\n",
    "- if the function does not have any name is called as lambda or anonoymuos function\n",
    "- using the lambda function we can reduce no. of in our code.\n",
    "- lambda is called higher order function\n"
   ]
  },
  {
   "cell_type": "code",
   "execution_count": 70,
   "id": "492f0a60",
   "metadata": {},
   "outputs": [
    {
     "name": "stdout",
     "output_type": "stream",
     "text": [
      "15\n",
      "[2, 4, 6]\n"
     ]
    }
   ],
   "source": [
    "s = lambda a,b:a+b\n",
    "r = s(10,5)\n",
    "print(r)\n",
    "\n",
    "s = lambda x:x%2==0\n",
    "l = [1,2,3,4,5,6]\n",
    "r = [p for p in l if(s(p))]\n",
    "print(r)"
   ]
  },
  {
   "cell_type": "code",
   "execution_count": 73,
   "id": "92ae88e2",
   "metadata": {},
   "outputs": [
    {
     "name": "stdout",
     "output_type": "stream",
     "text": [
      "[31, 33, 35, 37, 39, 41, 43, 45, 47, 49]\n"
     ]
    }
   ],
   "source": [
    "# odd numbers(30,50) using lambda\n",
    "\n",
    "# l = list(range(30,51))\n",
    "s = lambda x:x%2!=0\n",
    "r = [p for p in range(30,51) if(s(p))]\n",
    "print(r)"
   ]
  },
  {
   "cell_type": "code",
   "execution_count": 83,
   "id": "8af6dff7",
   "metadata": {},
   "outputs": [
    {
     "name": "stdout",
     "output_type": "stream",
     "text": [
      "[120, 720, 5040, 40320, 362880, 3628800]\n"
     ]
    }
   ],
   "source": [
    "# WAP to find factorial of the numbers from 5 to 10 in 3 lines\n",
    "import math\n",
    "s = lambda x:math.factorial(x)\n",
    "r = [s(p) for p in range(5,11)]\n",
    "print(r)"
   ]
  },
  {
   "cell_type": "code",
   "execution_count": 96,
   "id": "45382745",
   "metadata": {},
   "outputs": [
    {
     "name": "stdout",
     "output_type": "stream",
     "text": [
      "15 5 50 2.0\n",
      "15 5 50 2.0\n"
     ]
    }
   ],
   "source": [
    "# WAP to perform addition, sub, multi, div using single function lambda\n",
    "\n",
    "def op(a,b,s):\n",
    "    r = s(a,b)\n",
    "    return r\n",
    "\n",
    "s1 = op(10,5,lambda a,b:a+b)\n",
    "s2 = op(10,5,lambda a,b:a-b)\n",
    "s3 = op(10,5,lambda a,b:a*b)\n",
    "s4 = op(10,5,lambda a,b:a/b)\n",
    "print(s1,s2,s3,s4)\n",
    "\n",
    "# or\n",
    "\n",
    "def oper(a,b):\n",
    "    l = lambda a,b:[a+b,a-b,a*b,a/b]\n",
    "    p,q,r,t = l(a,b)\n",
    "    print(p,q,r,t)\n",
    "    \n",
    "oper(10,5)"
   ]
  },
  {
   "cell_type": "markdown",
   "id": "650bf6c0",
   "metadata": {},
   "source": [
    "## Map & Filter Function\n",
    "- Filter required a conditon but map required a expression"
   ]
  },
  {
   "cell_type": "code",
   "execution_count": 97,
   "id": "1445b895",
   "metadata": {},
   "outputs": [
    {
     "name": "stdout",
     "output_type": "stream",
     "text": [
      "[10, 12, 14, 16, 18, 20, 22, 24, 26, 28, 30]\n",
      "[10, 12, 14, 16, 18, 20, 22, 24, 26, 28, 30]\n"
     ]
    }
   ],
   "source": [
    "def even(n):\n",
    "    return n%2==0\n",
    "l = list(range(10,31))\n",
    "r = list(filter(even,l))\n",
    "print(r)\n",
    "\n",
    "# or \n",
    "\n",
    "l = list(range(10,31))\n",
    "r = list(filter(lambda x:x%2==0,l))\n",
    "print(r)\n",
    "\n"
   ]
  },
  {
   "cell_type": "code",
   "execution_count": 103,
   "id": "a386ecf8",
   "metadata": {},
   "outputs": [
    {
     "name": "stdout",
     "output_type": "stream",
     "text": [
      "[0, 1, 2, 3, 4, 5]\n",
      "[-5, -4, -3, -2, -1]\n"
     ]
    }
   ],
   "source": [
    "r = list(range(-5,6))\n",
    "\n",
    "def pos(n):\n",
    "    return n>=0\n",
    "p = list(filter(pos,r))\n",
    "print(p)\n",
    "\n",
    "\n",
    "n = list(filter(lambda x:x<0,r))\n",
    "print(n)"
   ]
  },
  {
   "cell_type": "code",
   "execution_count": 109,
   "id": "3808a924",
   "metadata": {},
   "outputs": [
    {
     "name": "stdout",
     "output_type": "stream",
     "text": [
      "['ABC', 'WRT']\n"
     ]
    }
   ],
   "source": [
    "l = [\"abc\",\"ABC\",\"xyz\",\"WRT\"]\n",
    "n = list(filter(lambda x:x.isupper(),l))\n",
    "print(n)"
   ]
  },
  {
   "cell_type": "code",
   "execution_count": 115,
   "id": "749b0755",
   "metadata": {},
   "outputs": [
    {
     "name": "stdout",
     "output_type": "stream",
     "text": [
      "(1, 4, 9, 16, 25)\n",
      "(1, 4, 9, 16, 25)\n"
     ]
    }
   ],
   "source": [
    "def sq(n):\n",
    "    return n*n\n",
    "l = [1,2,3,4,5]\n",
    "r = tuple(map(sq,l))\n",
    "print(r)\n",
    "\n",
    "# or\n",
    "\n",
    "r = tuple(map(lambda x:x*x ,l))\n",
    "print(r)"
   ]
  },
  {
   "cell_type": "code",
   "execution_count": 117,
   "id": "9299d602",
   "metadata": {},
   "outputs": [
    {
     "name": "stdout",
     "output_type": "stream",
     "text": [
      "['ABC', 'XYZ', 'RQT']\n"
     ]
    }
   ],
   "source": [
    "s = [\"abc\",\"xyz\",\"rqt\"]\n",
    "r = list(map(lambda x:x.upper() ,s))\n",
    "print(r)"
   ]
  },
  {
   "cell_type": "markdown",
   "id": "e4904ce2",
   "metadata": {},
   "source": [
    "## Reduce\n",
    "\n",
    "- Reduce is function it is imported from functools module."
   ]
  },
  {
   "cell_type": "code",
   "execution_count": 119,
   "id": "ade3d688",
   "metadata": {},
   "outputs": [
    {
     "name": "stdout",
     "output_type": "stream",
     "text": [
      "120\n"
     ]
    }
   ],
   "source": [
    "from functools import reduce\n",
    "\n",
    "s = [1,2,3,4,5]\n",
    "r = reduce(lambda a,b:a*b,s)\n",
    "print(r)"
   ]
  },
  {
   "cell_type": "code",
   "execution_count": 130,
   "id": "2eb22d51",
   "metadata": {},
   "outputs": [
    {
     "name": "stdout",
     "output_type": "stream",
     "text": [
      "25\n"
     ]
    }
   ],
   "source": [
    "d = [12,3,15,9,17,21,25,1]\n",
    "r = reduce(lambda a,b:a if a>b else b,d)\n",
    "print(r)"
   ]
  },
  {
   "cell_type": "code",
   "execution_count": null,
   "id": "07a50731",
   "metadata": {},
   "outputs": [],
   "source": []
  },
  {
   "cell_type": "code",
   "execution_count": null,
   "id": "35076c87",
   "metadata": {},
   "outputs": [],
   "source": []
  }
 ],
 "metadata": {
  "kernelspec": {
   "display_name": "Python 3 (ipykernel)",
   "language": "python",
   "name": "python3"
  },
  "language_info": {
   "codemirror_mode": {
    "name": "ipython",
    "version": 3
   },
   "file_extension": ".py",
   "mimetype": "text/x-python",
   "name": "python",
   "nbconvert_exporter": "python",
   "pygments_lexer": "ipython3",
   "version": "3.11.5"
  }
 },
 "nbformat": 4,
 "nbformat_minor": 5
}
