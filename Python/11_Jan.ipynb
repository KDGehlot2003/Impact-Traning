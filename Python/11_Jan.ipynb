{
 "cells": [
  {
   "cell_type": "code",
   "execution_count": 6,
   "id": "ca6f39d2",
   "metadata": {},
   "outputs": [
    {
     "name": "stdout",
     "output_type": "stream",
     "text": [
      "Kshitij 34 30000\n"
     ]
    }
   ],
   "source": [
    "# WAP to create emp class\n",
    "# with emp_name \n",
    "# enp_id\n",
    "# emp_salary and initlize the properties through constructer \n",
    "#  and reutiurn the value to the mainprogram withourt using anoy staticv and static method\n",
    "\n",
    "\n",
    "class emp:\n",
    "    def __init__(self,e_name,e_id,e_sal):\n",
    "        self.e_name = e_name\n",
    "        self.e_id = e_id\n",
    "        self.e_sal = e_sal\n",
    "    def __str__(self):\n",
    "        d =  self.e_name + \" \" + str(self.e_id) + \" \" + str(self.e_sal)\n",
    "        return d\n",
    "    \n",
    "e1 = emp('Kshitij',34,30000)\n",
    "print(e1)\n"
   ]
  },
  {
   "cell_type": "markdown",
   "id": "d4c6d8f0",
   "metadata": {},
   "source": [
    "---\n",
    "# Constructer Overriding:\n",
    "\n",
    "- Defining multiple constructer with the same name with same no. of parameters and one constructer is defined in super class and another is defined in sub class is known as Constructer overriding.\n",
    "- Whenever we override super class constructer within the sub class then by default sub class constructer will be executed if sub class constructer is created.\n"
   ]
  },
  {
   "cell_type": "code",
   "execution_count": 9,
   "id": "228105db",
   "metadata": {},
   "outputs": [
    {
     "name": "stdout",
     "output_type": "stream",
     "text": [
      "in constructer of y:\n"
     ]
    }
   ],
   "source": [
    "class x:\n",
    "    def __init__(self):\n",
    "        print(\"in constructer of x:\")\n",
    "class y(x):\n",
    "    def __init__(self):\n",
    "        print(\"in constructer of y:\")\n",
    "        \n",
    "y1 = y()"
   ]
  },
  {
   "cell_type": "code",
   "execution_count": 15,
   "id": "f5f00957",
   "metadata": {},
   "outputs": [
    {
     "name": "stdout",
     "output_type": "stream",
     "text": [
      "in constructer of y:\n",
      "in constructer of x:\n"
     ]
    }
   ],
   "source": [
    "class x:\n",
    "    def __init__(self):\n",
    "        print(\"in constructer of x:\")\n",
    "class y(x):\n",
    "    def __init__(self):\n",
    "        print(\"in constructer of y:\")\n",
    "        super().__init__()       \n",
    "y1 = y()"
   ]
  },
  {
   "cell_type": "code",
   "execution_count": 18,
   "id": "eeb59374",
   "metadata": {},
   "outputs": [
    {
     "name": "stdout",
     "output_type": "stream",
     "text": [
      "in constructer of x: 10\n"
     ]
    }
   ],
   "source": [
    "class x:\n",
    "    def __init__(self,a):\n",
    "        print(\"in constructer of x:\",a)\n",
    "class y(x):\n",
    "    pass\n",
    "\n",
    "y1 = y(10)"
   ]
  },
  {
   "cell_type": "code",
   "execution_count": 20,
   "id": "23b038af",
   "metadata": {},
   "outputs": [
    {
     "name": "stdout",
     "output_type": "stream",
     "text": [
      "400\n",
      "30\n"
     ]
    }
   ],
   "source": [
    "class x:\n",
    "    def __init__(self,a):\n",
    "        self.a = a\n",
    "        print(self.a*self.a)\n",
    "class y(x):\n",
    "    def __init__(self,a,b):\n",
    "        self.a = a\n",
    "        self.b = b\n",
    "        super().__init__(a)\n",
    "        print(self.a+self.b)\n",
    "y1 = y(20,10)"
   ]
  },
  {
   "cell_type": "code",
   "execution_count": 22,
   "id": "3a0e20b8",
   "metadata": {},
   "outputs": [
    {
     "name": "stdout",
     "output_type": "stream",
     "text": [
      "400\n",
      "15\n"
     ]
    }
   ],
   "source": [
    "class x:\n",
    "    def __init__(self,a,b):\n",
    "        self.a = a\n",
    "        self.b = b\n",
    "        print(self.a + self.b)\n",
    "class y(x):\n",
    "    def __init__(self,a):\n",
    "        self.a = a\n",
    "        print(self.a*self.a)\n",
    "        super().__init__(10,5)\n",
    "        \n",
    "y1 = y(20)"
   ]
  },
  {
   "cell_type": "markdown",
   "id": "9d7c1e7e",
   "metadata": {},
   "source": [
    "# Magic Methods in Python\n",
    "\n"
   ]
  },
  {
   "cell_type": "code",
   "execution_count": 35,
   "id": "3c02460e",
   "metadata": {},
   "outputs": [
    {
     "name": "stdout",
     "output_type": "stream",
     "text": [
      "300\n"
     ]
    }
   ],
   "source": [
    "#  __add__()\n",
    "class bx:\n",
    "    def __init__(self,p):\n",
    "        self.p = p\n",
    "    def __add__(self,other):\n",
    "        d = self.p + other.p\n",
    "        return d\n",
    "class by:\n",
    "    def __init__(self,p):\n",
    "        self.p = p\n",
    "        \n",
    "b1 = bx(200)\n",
    "b2 = by(100)\n",
    "print(b1+b2)"
   ]
  },
  {
   "cell_type": "code",
   "execution_count": 47,
   "id": "193e0408",
   "metadata": {},
   "outputs": [
    {
     "name": "stdout",
     "output_type": "stream",
     "text": [
      "90000\n"
     ]
    }
   ],
   "source": [
    "# employee --> name,sal\n",
    "# attendance --> name,days\n",
    "# o/p:sal*days\n",
    "\n",
    "class emp:\n",
    "    def __init__(self,e_name,e_sal):\n",
    "        self.e_name = e_name\n",
    "        self.e_sal = e_sal\n",
    "    def __mul__(self,other):\n",
    "        d = self.e_sal * other.e_days\n",
    "        return d\n",
    "    \n",
    "class att:\n",
    "    def __init__(self,e_name,e_days):\n",
    "        self.e_name = e_name\n",
    "        self.e_days = e_days\n",
    "\n",
    "e1 = emp(\"Kshitij\",3000)\n",
    "a1 = att(\"Kshitij\",30)\n",
    "print(e1*a1)\n"
   ]
  },
  {
   "cell_type": "code",
   "execution_count": 62,
   "id": "bc82bd04",
   "metadata": {},
   "outputs": [
    {
     "name": "stdout",
     "output_type": "stream",
     "text": [
      "17\n",
      "7\n",
      "60\n",
      "2\n",
      "2.4\n",
      "True\n",
      "False\n",
      "2\n"
     ]
    }
   ],
   "source": [
    "a = 12\n",
    "b = 5\n",
    "\n",
    "print(a.__add__(b))\n",
    "print(a.__sub__(b))\n",
    "print(a.__mul__(b))\n",
    "print(a.__floordiv__(b))\n",
    "print(a.__truediv__(b))\n",
    "print(a.__gt__(b))\n",
    "print(a.__lt__(b))\n",
    "print(a.__mod__(b))"
   ]
  },
  {
   "cell_type": "code",
   "execution_count": 57,
   "id": "26e394f7",
   "metadata": {},
   "outputs": [],
   "source": [
    "# dir(int)"
   ]
  },
  {
   "cell_type": "markdown",
   "id": "4752991e",
   "metadata": {},
   "source": [
    "# Interface and Abstract Classes\n",
    "\n",
    "## Abstract Class:\n",
    "- Abstract class is a collection of abstract method and non-abstract method\n",
    "\n",
    "#### Abstract Method:\n",
    "   - The method which does not contain any implementaion part the corresponsding method is called as abstract method\n",
    "#### Non-Abstract Method:\n",
    "   - The methods which contains implementation part the corresponsding method is called as non-abstract method\n",
    "\n",
    "## Interface\n",
    "- Interface is a collection of abstract methods\n",
    "- If there is no any implementation part for method and constructer we can replace with pass, empty methods or constructer is not supported"
   ]
  },
  {
   "cell_type": "code",
   "execution_count": 64,
   "id": "b4170b80",
   "metadata": {},
   "outputs": [
    {
     "name": "stdout",
     "output_type": "stream",
     "text": [
      "Min-bal is 2000 rupees...\n",
      "RI is 6.5%\n",
      "Min-bal is 0 rupees...\n",
      "RI is 6.5%\n"
     ]
    }
   ],
   "source": [
    "from abc import *\n",
    "\n",
    "class RBI(ABC):\n",
    "    def min_bal(self):\n",
    "        pass\n",
    "    def RI(self):\n",
    "        print(\"RI is 6.5%\")\n",
    "class SBI(RBI):\n",
    "    def min_bal(self):\n",
    "        print(\"Min-bal is 2000 rupees...\")\n",
    "class HDFC(RBI):\n",
    "    def min_bal(self):\n",
    "        print(\"Min-bal is 0 rupees...\")\n",
    "class ICICI(RBI):\n",
    "    def min_bal(self):\n",
    "        print(\"Min-bal is 500 rupees...\")\n",
    "\n",
    "        \n",
    "s1 = SBI()\n",
    "s1.min_bal()\n",
    "s1.RI()\n",
    "h1 = HDFC()\n",
    "h1.min_bal()\n",
    "h1.RI()"
   ]
  },
  {
   "cell_type": "code",
   "execution_count": null,
   "id": "24d96173",
   "metadata": {},
   "outputs": [],
   "source": []
  }
 ],
 "metadata": {
  "kernelspec": {
   "display_name": "Python 3 (ipykernel)",
   "language": "python",
   "name": "python3"
  },
  "language_info": {
   "codemirror_mode": {
    "name": "ipython",
    "version": 3
   },
   "file_extension": ".py",
   "mimetype": "text/x-python",
   "name": "python",
   "nbconvert_exporter": "python",
   "pygments_lexer": "ipython3",
   "version": "3.11.5"
  }
 },
 "nbformat": 4,
 "nbformat_minor": 5
}
