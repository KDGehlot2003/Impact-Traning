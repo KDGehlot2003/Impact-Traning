{
 "cells": [
  {
   "cell_type": "markdown",
   "id": "c2b7a124",
   "metadata": {},
   "source": [
    "Date: 10/01/2024"
   ]
  },
  {
   "cell_type": "code",
   "execution_count": 2,
   "id": "6ddd69ee",
   "metadata": {},
   "outputs": [
    {
     "name": "stdout",
     "output_type": "stream",
     "text": [
      "Enter no. of books:1\n",
      "Enter book name:Science\n",
      "Enter author name:Arjun\n",
      "Enter number of page:582\n",
      "Enter cost:400\n",
      "pl Science Arjun 582 400\n",
      "***********\n"
     ]
    }
   ],
   "source": [
    "# WAP to create book class with book name, author name, number of pages and library name\n",
    "# Create 3 books\n",
    "# Read info from main program and pass it into class\n",
    "\n",
    "class book:\n",
    "    lname=\"pl\"\n",
    "    def __init__(self,bname,aname,np,cost):\n",
    "        self.bname=bname\n",
    "        self.aname=aname\n",
    "        self.np=np\n",
    "        self.cost=cost\n",
    "    def display(self):\n",
    "        print(book.lname,self.bname,self.aname,self.np,self.cost)\n",
    "n=int(input(\"Enter no. of books:\"))\n",
    "i=1\n",
    "while(i<=n):\n",
    "    bname=input(\"Enter book name:\")\n",
    "    aname=input(\"Enter author name:\")\n",
    "    np=input(\"Enter number of page:\")\n",
    "    cost=input(\"Enter cost:\")\n",
    "    b1=book(bname,aname,np,cost)\n",
    "    b1.display()\n",
    "    i=i+1\n",
    "    print(\"***********\")"
   ]
  },
  {
   "cell_type": "code",
   "execution_count": null,
   "id": "bc61e79c",
   "metadata": {},
   "outputs": [],
   "source": [
    "# Create Employee class with basic employee details like employee name, id, address and salary\n",
    "# Create 3 objects\n",
    "\n",
    "class Employee:\n",
    "    dept = \"Sales\"\n",
    "    def __init__(self,name,id,address,salary):\n",
    "        self.name = name\n",
    "        self.id = id\n",
    "        self.address = address\n",
    "        self.slalary = salary\n",
    "    def display(self):\n",
    "        print(\"Employee Name:\",self.name)\n",
    "        print(\"Department:\",Employee.dept)\n",
    "        print(\"Id:\",self.id)\n",
    "        print(\"Address:\",self.address)\n",
    "        print(\"Salary:\",self.salary)\n",
    "i = 0\n",
    "while i < 3:\n",
    "    name = "
   ]
  },
  {
   "cell_type": "code",
   "execution_count": 3,
   "id": "91557b3c",
   "metadata": {},
   "outputs": [
    {
     "name": "stdout",
     "output_type": "stream",
     "text": [
      "15 5\n"
     ]
    }
   ],
   "source": [
    "# static method\n",
    "class test:\n",
    "    def add(a,b):\n",
    "        return a+b\n",
    "    def sub(a,b):\n",
    "        return a-b\n",
    "s = test.add(10,5)\n",
    "r = test.sub(12,7)\n",
    "print(s,r)"
   ]
  },
  {
   "cell_type": "code",
   "execution_count": 4,
   "id": "e5bf528f",
   "metadata": {},
   "outputs": [
    {
     "name": "stdout",
     "output_type": "stream",
     "text": [
      "25.0\n"
     ]
    }
   ],
   "source": [
    "# Find area of triangle using static method\n",
    "class area:\n",
    "    def triangle(b,h):\n",
    "        return 0.5*b*h\n",
    "area = area.triangle(5,10)\n",
    "print(area)"
   ]
  },
  {
   "cell_type": "markdown",
   "id": "84463b9e",
   "metadata": {},
   "source": [
    "# Using properties of one class into another\n",
    "\n",
    "We can use the properties of one class in another class in two ways:\n",
    "\n",
    "    1.Has a relationship\n",
    "        The concept of using the properties of one class into another by using the classname or refernced variable name \n",
    "        is known as 'Has a relationship'\n",
    "\n",
    "    2.Is a relationship\n",
    "        The concept of using the properties of one into another class directly like as a same class member\n",
    "        A class which is extended by another class is known as Super or Base-class\n",
    "        A class which is extending a class is called sub or derived-class\n",
    "        We can use super-class properties into sub-class directly like as same class members\n",
    "        \n",
    "Inheritance is classified into:\n",
    "- Single:\n",
    "    The concept of inheriting properties from only one class into another class\n",
    "- Multilevel:\n",
    "    Inheriting properties from multiple class into single class with the concept of one after another\n",
    "- Hierarchical:\n",
    "    Inheriting properties from one to multiple classes separately\n",
    "- Multiple:\n",
    "    Inheriting properties from multiple classes into class at a time\n",
    "- Cyclic:\n",
    "    Inheriting properties from subclass to superclass. Python doesn't support it\n",
    "- Hybrid:\n",
    "    Combination of single, multilevel, hierarchical, multiple inheritance\n",
    "    \n",
    "Object class is automatically inherited into all classes"
   ]
  },
  {
   "cell_type": "code",
   "execution_count": 1,
   "id": "b6d08104",
   "metadata": {},
   "outputs": [
    {
     "name": "stdout",
     "output_type": "stream",
     "text": [
      "3000\n",
      "4000\n",
      "In m2\n",
      "1000\n",
      "2000\n",
      "In m1\n"
     ]
    }
   ],
   "source": [
    "# Has-a-relationship Example\n",
    "class x:\n",
    "    a = 1000\n",
    "    def __init__(self):\n",
    "        self.b = 2000\n",
    "    def m1(self):\n",
    "        print(\"In m1\")\n",
    "class y:\n",
    "    c = 3000\n",
    "    def __init__(self):\n",
    "        self.d = 4000\n",
    "    def m2():\n",
    "        print(\"In m2\")\n",
    "    def display(self):\n",
    "        print(y.c)\n",
    "        print(self.d)\n",
    "        y.m2()\n",
    "        x1 = x()\n",
    "        print(x1.a)\n",
    "        print(x1.b)\n",
    "        x1.m1()\n",
    "y1 = y()\n",
    "y1.display()"
   ]
  },
  {
   "cell_type": "code",
   "execution_count": 6,
   "id": "c9543eec",
   "metadata": {},
   "outputs": [
    {
     "name": "stdout",
     "output_type": "stream",
     "text": [
      "Rohan\n",
      "4011\n",
      "38000\n",
      "Rohan\n",
      "4011\n",
      "50000\n"
     ]
    }
   ],
   "source": [
    "# Write a program to create two classes: Employee and test\n",
    "# Employee details: name, id, salary\n",
    "# Update salary in test class then call display()\n",
    "# Create the object of Employee class in main program and pass the object any method defined in test class\n",
    "\n",
    "class Employee:\n",
    "    def __init__(self,name,id,salary):\n",
    "        self.name = name\n",
    "        self.id = id\n",
    "        self.salary = salary\n",
    "    def display(self):\n",
    "        print(self.name)\n",
    "        print(self.id)\n",
    "        print(self.salary)\n",
    "class Test:\n",
    "    def update(e):\n",
    "        e.salary = 50000\n",
    "        e.display()\n",
    "e1 = Employee(\"Rohan\",4011,38000)\n",
    "e1.display()\n",
    "Test.update(e1)"
   ]
  },
  {
   "cell_type": "code",
   "execution_count": 7,
   "id": "a0c2d1dc",
   "metadata": {},
   "outputs": [
    {
     "name": "stdout",
     "output_type": "stream",
     "text": [
      "Rohan\n",
      "4011\n",
      "St. Xavier\n",
      "98\n",
      "85\n",
      "91\n",
      "Pass\n"
     ]
    }
   ],
   "source": [
    "# WAP to create two classes: Student and FindResult\n",
    "class Student:\n",
    "    school = \"St. Xavier\"\n",
    "    def __init__(self,name,id,s1,s2,s3):\n",
    "        self.name = name\n",
    "        self.id = id\n",
    "        self.s1 = s1\n",
    "        self.s2 = s2\n",
    "        self.s3 = s3\n",
    "    def display(self):\n",
    "        print(self.name)\n",
    "        print(self.id)\n",
    "        print(Student.school)\n",
    "        print(self.s1)\n",
    "        print(self.s2)\n",
    "        print(self.s3)\n",
    "class FindResult:\n",
    "    def result(s):\n",
    "        s.display()\n",
    "        if (s.s1 + s.s2 + s.s3) / 3 >= 35:\n",
    "            print(\"Pass\")\n",
    "        else:\n",
    "            print(\"Fail\")\n",
    "s = Student(\"Rohan\",4011,98,85,91)\n",
    "FindResult.result(s)"
   ]
  },
  {
   "cell_type": "code",
   "execution_count": 4,
   "id": "a34dfe8d",
   "metadata": {},
   "outputs": [
    {
     "name": "stdout",
     "output_type": "stream",
     "text": [
      "5\n",
      "Perimeter of Circle: 31.40\n"
     ]
    }
   ],
   "source": [
    "# WAP with class Circle\n",
    "class circle:\n",
    "    pi = 3.14\n",
    "    def __init__(self):\n",
    "        self.r = int(input())\n",
    "    def display(self):\n",
    "        b = 2*circle.pi*self.r\n",
    "        print(\"Perimeter of Circle: %.2f\"%b)\n",
    "c = circle()\n",
    "c.display()"
   ]
  },
  {
   "cell_type": "code",
   "execution_count": 2,
   "id": "2a6938e6",
   "metadata": {},
   "outputs": [
    {
     "name": "stdout",
     "output_type": "stream",
     "text": [
      "1000\n",
      "2000\n",
      "In m2\n",
      "3000\n",
      "4000\n",
      "In m2\n",
      "4000\n"
     ]
    }
   ],
   "source": [
    "# Inheritance Example\n",
    "class x:\n",
    "    a = 1000\n",
    "    def __init__(self):\n",
    "        self.b = 2000\n",
    "    def m1(self):\n",
    "        print(\"In m2\")\n",
    "class y(x):\n",
    "    c = 3000\n",
    "    def  __init__(self):\n",
    "        self.d = 4000\n",
    "        super().__init__()\n",
    "    def m2(self):\n",
    "        print(\"In m2\")\n",
    "    def display(self):\n",
    "        print(x.a)\n",
    "        print(self.b)\n",
    "        self.m1()\n",
    "        print(y.c)\n",
    "        print(self.d)\n",
    "        self.m2()\n",
    "        print(self.d)\n",
    "y1 = y()\n",
    "y1.display()"
   ]
  },
  {
   "cell_type": "code",
   "execution_count": 5,
   "id": "9ac7783e",
   "metadata": {},
   "outputs": [
    {
     "name": "stdout",
     "output_type": "stream",
     "text": [
      "<__main__.x object at 0x00000139CC5C6510>\n",
      "In m1\n"
     ]
    }
   ],
   "source": [
    "class x:\n",
    "    def m1(self):\n",
    "        print(\"In m1\")\n",
    "x1 = x()\n",
    "p = x1.__str__()        # returns address of object class in hexadecimal form\n",
    "print(p)\n",
    "x1.m1()"
   ]
  },
  {
   "cell_type": "markdown",
   "id": "9a4a3372",
   "metadata": {},
   "source": [
    "# Object Class\n",
    "    Object class is predefined class which is defined in built-in module\n",
    "    It is super class for every class in python\n",
    "    Object class properties can be accessed in every class directly\n",
    "    And we can access through every class reference variable"
   ]
  },
  {
   "cell_type": "code",
   "execution_count": 6,
   "id": "6c50c806",
   "metadata": {},
   "outputs": [
    {
     "name": "stdout",
     "output_type": "stream",
     "text": [
      "(<class 'object'>,)\n",
      "(<class '__main__.x'>,)\n",
      "In m1\n",
      "In m2\n",
      "84235424293\n"
     ]
    }
   ],
   "source": [
    "# Single Inheritance\n",
    "class x:\n",
    "    def m1(self):\n",
    "        print(\"In m1\")\n",
    "class y(x):\n",
    "    def m2(self):\n",
    "        print(\"In m2\")\n",
    "print(x.__bases__)\n",
    "print(y.__bases__)\n",
    "y1 = y()\n",
    "y1.m1()\n",
    "y1.m2()\n",
    "p = y1.__hash__()       # hash returns address in decimal form\n",
    "print(p)"
   ]
  },
  {
   "cell_type": "code",
   "execution_count": null,
   "id": "f6b56e0b",
   "metadata": {},
   "outputs": [],
   "source": [
    "# Multilevel Inheritance\n",
    "\n",
    "class person:\n",
    "    def insert(self):\n",
    "        self.name = \"Mahin\"\n",
    "        self.add = \"Hyd\"\n",
    "class employee(person):\n",
    "    def insert1(self):\n",
    "        self.id = 101\n",
    "class salaried_employee(employee):\n",
    "    def _init_(self):\n",
    "        self.sal = 50000\n",
    "    def display(self):\n",
    "        self.insert()\n",
    "        self.insert1()\n",
    "        print(self.name,self.add,self.id,self.sal)\n",
    "\n",
    "s1 = salaried_employee()\n",
    "s1.display()                    # Mahin Hyd 101 50000"
   ]
  },
  {
   "cell_type": "code",
   "execution_count": 9,
   "id": "7075a43b",
   "metadata": {},
   "outputs": [
    {
     "name": "stdout",
     "output_type": "stream",
     "text": [
      "Enter sub1: 58\n",
      "Enter sub2: 69\n",
      "Enter name: Rohan\n",
      "Enter id: 4011\n",
      "Enter address: Vadodara\n",
      "Rohan 4011 Vadodara 58 69\n",
      "Enter sub3: 85\n",
      "Enter sub4: 78\n",
      "Enter name: Rohan Luhar\n",
      "Enter id: 05124011\n",
      "Enter address: Ahmedabad\n",
      "Rohan Luhar 5124011 Ahmedabad 85 78\n"
     ]
    }
   ],
   "source": [
    "# Hierarchical Inheritance\n",
    "class Student:\n",
    "    def insert(self):\n",
    "        self.name = input(\"Enter name: \")\n",
    "        self.id1 = int(input(\"Enter id: \"))\n",
    "        self.add = input(\"Enter address: \")\n",
    "class DS(Student):\n",
    "    def __init__(self):\n",
    "        self.s1 = int(input(\"Enter sub1: \"))\n",
    "        self.s2 = int(input(\"Enter sub2: \"))\n",
    "    def display(self):\n",
    "        self.insert()\n",
    "        print(self.name,self.id1,self.add,self.s1,self.s2)\n",
    "class ML(Student):\n",
    "    def __init__(self):\n",
    "        self.s3 = int(input(\"Enter sub3: \"))\n",
    "        self.s4 = int(input(\"Enter sub4: \"))\n",
    "    def display(self):\n",
    "        self.insert()\n",
    "        print(self.name,self.id1,self.add,self.s3,self.s4)\n",
    "d1 = DS()\n",
    "d1.display()\n",
    "m1 = ML()\n",
    "m1.display()"
   ]
  },
  {
   "cell_type": "code",
   "execution_count": 7,
   "id": "cf997d43",
   "metadata": {},
   "outputs": [
    {
     "name": "stdout",
     "output_type": "stream",
     "text": [
      "In m1 of x\n"
     ]
    }
   ],
   "source": [
    "# Multiple Inheritance\n",
    "class x:\n",
    "    def m1(self):\n",
    "        print(\"In m1 of x\")\n",
    "class y:\n",
    "    def m1(self):\n",
    "        print(\"In m1 of y\")\n",
    "class z(x,y):       # x has higher priority\n",
    "    def m2(self):\n",
    "        print(\"In m2 of z\")\n",
    "z1 = z()\n",
    "z1.m1()"
   ]
  },
  {
   "cell_type": "code",
   "execution_count": null,
   "id": "7290599b",
   "metadata": {},
   "outputs": [],
   "source": [
    "# Hybrid Inheritance\n",
    "class a:\n",
    "    def insert(self):\n",
    "        self.name = \"Rohan\"\n",
    "class b(a):\n",
    "    def insert(self):\n",
    "        self.add = \"Vadodara\"\n",
    "class c(b):\n",
    "    def m1(self):\n",
    "\n",
    "class d(b):\n",
    "\n",
    "class e(c,d):\n",
    "x = b()\n",
    "x.insert()"
   ]
  },
  {
   "cell_type": "code",
   "execution_count": 8,
   "id": "594262a1",
   "metadata": {},
   "outputs": [
    {
     "name": "stdout",
     "output_type": "stream",
     "text": [
      "10\n",
      "5\n",
      "15\n",
      "5\n"
     ]
    }
   ],
   "source": [
    "# Create Parent class and its sub-class Child\n",
    "# Print addition and subtraction of two numbers nly using the objects of Child class\n",
    "class Parent:\n",
    "    def add(self,a,b):\n",
    "        print(a+b)\n",
    "class Child(Parent):\n",
    "    def sub(self,a,b):\n",
    "        print(a-b)\n",
    "a = int(input())\n",
    "b = int(input())\n",
    "c = Child()\n",
    "c.add(a,b)\n",
    "c.sub(a,b)"
   ]
  },
  {
   "cell_type": "markdown",
   "id": "44aeb1b9",
   "metadata": {},
   "source": [
    "# Polymorphism\n",
    "Defining one thing in number of forms\n",
    "It is divided into two types:\n",
    "- Method overloading:\n",
    "-- The concept of defining multiple methods with same name, same or different number of parameters within a class is known as method overloading\n",
    "-- It is partially supported by Python\n",
    "\n",
    "- Method overriding\n",
    "-- Concept of defining multiple methods with same name, same number of parameters, one in superclass and another one in subclass is known as Method overriding\n",
    "-- When we override superclass methods in subclass, then by defaylt subclass method is executed if it exists\n",
    "    \n",
    "### Arbitrary Parameter\n",
    "If any variable is preceeded by *\n",
    "Python supports two types:\n",
    "- Single * (Type is considered as  Tuple)\n",
    "- Multi * (Type is considered as Dictionary)"
   ]
  },
  {
   "cell_type": "code",
   "execution_count": 10,
   "id": "4da474b2",
   "metadata": {},
   "outputs": [
    {
     "name": "stdout",
     "output_type": "stream",
     "text": [
      "In m1 with 2 parameter\n"
     ]
    }
   ],
   "source": [
    "# Method overloading\n",
    "class x:\n",
    "    def m1(self):\n",
    "        print(\"In m1 with no parameter\")\n",
    "    def m1(self, a):\n",
    "        print(\"In m1 with 1 parameter\")\n",
    "    def m1(self, a, b):\n",
    "        print(\"In m1 with 2 parameter\")\n",
    "x1 = x()\n",
    "x1.m1(10,20)"
   ]
  },
  {
   "cell_type": "code",
   "execution_count": 12,
   "id": "a0c44c8e",
   "metadata": {},
   "outputs": [
    {
     "name": "stdout",
     "output_type": "stream",
     "text": [
      "(1, 2, 3, 4, 5)\n",
      "<class 'tuple'>\n",
      "15\n"
     ]
    }
   ],
   "source": [
    "# Arbitrary parameter\n",
    "def d(*a):\n",
    "    print(a)\n",
    "    print(type(a))\n",
    "    print(sum(a))\n",
    "d(1,2,3,4,5)"
   ]
  },
  {
   "cell_type": "code",
   "execution_count": 13,
   "id": "fa92922e",
   "metadata": {},
   "outputs": [
    {
     "name": "stdout",
     "output_type": "stream",
     "text": [
      "(20, 30)\n",
      "10\n",
      "60\n"
     ]
    }
   ],
   "source": [
    "# def d(*a,b):      # Error\n",
    "def d(b,*a):\n",
    "    print(a)\n",
    "    print(b)\n",
    "    print(sum(a) + b)\n",
    "d(10,20,30)"
   ]
  },
  {
   "cell_type": "code",
   "execution_count": 15,
   "id": "74d19f1e",
   "metadata": {},
   "outputs": [
    {
     "name": "stdout",
     "output_type": "stream",
     "text": [
      "60\n",
      "KrishnaRamaHanuman\n"
     ]
    }
   ],
   "source": [
    "class test:\n",
    "    def op(self, b, *a):\n",
    "        if b == 'int':\n",
    "            s1 = 0\n",
    "        else:\n",
    "            s1 = ''\n",
    "        for p in a:\n",
    "            s1 = s1 + p\n",
    "        print(s1)\n",
    "t1 = test()\n",
    "t1.op(\"int\", 10, 20, 30)\n",
    "t1.op(\"str\", \"Krishna\", \"Rama\", \"Hanuman\")"
   ]
  },
  {
   "cell_type": "code",
   "execution_count": 16,
   "id": "8fb3651f",
   "metadata": {},
   "outputs": [
    {
     "name": "stdout",
     "output_type": "stream",
     "text": [
      "In m2 of y\n",
      "In m3 of y\n",
      "In m1 of x\n",
      "In m1 of x\n",
      "In m4 of z\n",
      "In m2 of x\n"
     ]
    }
   ],
   "source": [
    "# Method Overriding\n",
    "class x:\n",
    "    def m1(self):\n",
    "        print(\"In m1 of x\")\n",
    "    def m2(self):\n",
    "        print(\"In m2 of x\")\n",
    "class y(x):\n",
    "    def m2(self):\n",
    "        print(\"In m2 of y\")\n",
    "    def m3(self):\n",
    "        print(\"In m3 of y\")\n",
    "class z(x):\n",
    "    def m3(self):\n",
    "        print(\"IN m3 of z\");\n",
    "    def m4(self):\n",
    "        print(\"In m4 of z\")\n",
    "y1 = y()\n",
    "y1.m2()\n",
    "y1.m3()\n",
    "y1.m1()\n",
    "z1 = z()\n",
    "z1.m1()\n",
    "z1.m4()\n",
    "z1.m2()"
   ]
  },
  {
   "cell_type": "code",
   "execution_count": 17,
   "id": "f0897da2",
   "metadata": {},
   "outputs": [
    {
     "name": "stdout",
     "output_type": "stream",
     "text": [
      "Python\n"
     ]
    }
   ],
   "source": [
    "class x:\n",
    "    def m1(self):\n",
    "        print(\"In m1\")\n",
    "    def __str__(self):\n",
    "        return \"Python\"\n",
    "x1 = x()\n",
    "p = x1.__str__()\n",
    "print(p)"
   ]
  },
  {
   "cell_type": "code",
   "execution_count": 18,
   "id": "a3930629",
   "metadata": {},
   "outputs": [
    {
     "name": "stdout",
     "output_type": "stream",
     "text": [
      "Python\n",
      "ES\n",
      "MPMC\n"
     ]
    }
   ],
   "source": [
    "class x:\n",
    "    def __init__(self, name):\n",
    "        self.name = name\n",
    "    def __str__(self):\n",
    "        return self.name\n",
    "x1 = x(\"Python\")\n",
    "print(x1)\n",
    "x2 = x(\"ES\")\n",
    "print(x2)\n",
    "x3 = x(\"MPMC\")\n",
    "print(x3)"
   ]
  }
 ],
 "metadata": {
  "kernelspec": {
   "display_name": "Python 3 (ipykernel)",
   "language": "python",
   "name": "python3"
  },
  "language_info": {
   "codemirror_mode": {
    "name": "ipython",
    "version": 3
   },
   "file_extension": ".py",
   "mimetype": "text/x-python",
   "name": "python",
   "nbconvert_exporter": "python",
   "pygments_lexer": "ipython3",
   "version": "3.11.5"
  }
 },
 "nbformat": 4,
 "nbformat_minor": 5
}
