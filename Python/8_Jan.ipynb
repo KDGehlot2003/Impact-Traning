{
 "cells": [
  {
   "cell_type": "markdown",
   "id": "ed84ad26",
   "metadata": {},
   "source": [
    "## Variables\n",
    "In python programming we two type of variable \n",
    "\n",
    "1. Local \n",
    "2. Global\n",
    "\n",
    "---\n",
    "\n",
    "1. Local \n",
    "- we can access the local variable within the function only \n",
    "- once execution is completed the local variable will be destroyed\n",
    "\n",
    "\n",
    "2. Global\n",
    "- The variable which are decaleed at top of the program that variable is called as Global variable\n",
    "- we can access the global variable anywhere in the program\n"
   ]
  },
  {
   "cell_type": "code",
   "execution_count": 5,
   "id": "0a7f3b51",
   "metadata": {},
   "outputs": [
    {
     "name": "stdout",
     "output_type": "stream",
     "text": [
      "10 20\n",
      "30 40\n"
     ]
    },
    {
     "ename": "NameError",
     "evalue": "name 'a' is not defined",
     "output_type": "error",
     "traceback": [
      "\u001b[0;31m---------------------------------------------------------------------------\u001b[0m",
      "\u001b[0;31mNameError\u001b[0m                                 Traceback (most recent call last)",
      "Cell \u001b[0;32mIn[5], line 11\u001b[0m\n\u001b[1;32m      9\u001b[0m     \u001b[38;5;28mprint\u001b[39m(a)\n\u001b[1;32m     10\u001b[0m f1()\n\u001b[0;32m---> 11\u001b[0m f2()\n",
      "Cell \u001b[0;32mIn[5], line 9\u001b[0m, in \u001b[0;36mf2\u001b[0;34m()\u001b[0m\n\u001b[1;32m      7\u001b[0m c,d\u001b[38;5;241m=\u001b[39m\u001b[38;5;241m30\u001b[39m,\u001b[38;5;241m40\u001b[39m\n\u001b[1;32m      8\u001b[0m \u001b[38;5;28mprint\u001b[39m(c,d)\n\u001b[0;32m----> 9\u001b[0m \u001b[38;5;28mprint\u001b[39m(a)\n",
      "\u001b[0;31mNameError\u001b[0m: name 'a' is not defined"
     ]
    }
   ],
   "source": [
    "# Local Variable\n",
    "\n",
    "def f1():\n",
    "    a = 10\n",
    "    b = 20\n",
    "    print(a,b)\n",
    "def f2():\n",
    "    c,d=30,40\n",
    "    print(c,d)\n",
    "    print(a)\n",
    "f1()\n",
    "f2()"
   ]
  },
  {
   "cell_type": "code",
   "execution_count": 7,
   "id": "8562e24a",
   "metadata": {},
   "outputs": [
    {
     "name": "stdout",
     "output_type": "stream",
     "text": [
      "10\n",
      "20\n",
      "20\n"
     ]
    }
   ],
   "source": [
    "# Global Variable\n",
    "\n",
    "a = 10\n",
    "def m1():\n",
    "    print(a)\n",
    "m1()\n",
    "a = a+10\n",
    "print(a)\n",
    "m1()"
   ]
  },
  {
   "cell_type": "code",
   "execution_count": 10,
   "id": "b3861166",
   "metadata": {},
   "outputs": [
    {
     "name": "stdout",
     "output_type": "stream",
     "text": [
      "10\n",
      "20\n"
     ]
    }
   ],
   "source": [
    "a = 10\n",
    "def m1():\n",
    "    global a    #UnboundLocalError error without this\n",
    "    print(a)\n",
    "    a = a+10\n",
    "    print(a)\n",
    "m1()"
   ]
  },
  {
   "cell_type": "code",
   "execution_count": 11,
   "id": "a8ea1087",
   "metadata": {},
   "outputs": [
    {
     "name": "stdout",
     "output_type": "stream",
     "text": [
      "100\n"
     ]
    }
   ],
   "source": [
    "# local > global in the function\n",
    "\n",
    "a = 10\n",
    "b = 20\n",
    "c = 30\n",
    "def m1(a):\n",
    "    print(a+b+c)\n",
    "m1(50)"
   ]
  },
  {
   "cell_type": "code",
   "execution_count": 27,
   "id": "a39b61d5",
   "metadata": {},
   "outputs": [
    {
     "name": "stdout",
     "output_type": "stream",
     "text": [
      "Begin\n",
      "1\n",
      "f\n",
      "input should be integer\n",
      "end\n"
     ]
    }
   ],
   "source": [
    "print(\"Begin\")\n",
    "try:\n",
    "    a=int(input())\n",
    "    b=int(input())\n",
    "    print(a/b)\n",
    "except(ValueError):\n",
    "    print(\"input should be integer\")\n",
    "print(\"end\")\n",
    "    "
   ]
  },
  {
   "cell_type": "markdown",
   "id": "b94943c9",
   "metadata": {},
   "source": [
    "---\n",
    "One try with multiple except block\n",
    "\n",
    "- If you want to handle multiple exception within the single program then we can used multiple exception block"
   ]
  },
  {
   "cell_type": "code",
   "execution_count": 28,
   "id": "e5872fa3",
   "metadata": {},
   "outputs": [
    {
     "name": "stdout",
     "output_type": "stream",
     "text": [
      "Begin\n",
      "1\n",
      "0\n",
      "Second input should bot be zero\n",
      "end\n"
     ]
    }
   ],
   "source": [
    "print(\"Begin\")\n",
    "try:\n",
    "    a=int(input())\n",
    "    b=int(input())\n",
    "    print(a/b)\n",
    "except(ValueError):\n",
    "    print(\"input should be integer\")\n",
    "except(ZeroDivisionError):\n",
    "    print(\"Second input should bot be zero\")\n",
    "print(\"end\")\n",
    "    "
   ]
  },
  {
   "cell_type": "markdown",
   "id": "cd3e9952",
   "metadata": {},
   "source": [
    "## Finally block\n",
    "\n",
    "- Whether Exception is raised or not raised , if it is raised whether it is handle or not bit statement present in finally block those will be executed by default.\n",
    "- we have to write very imp statement in the finally block such file closing statemnet, database connection closing statemetn etc.\n",
    "- writing finally block is always optional"
   ]
  },
  {
   "cell_type": "code",
   "execution_count": 31,
   "id": "4f43c6d5",
   "metadata": {},
   "outputs": [
    {
     "name": "stdout",
     "output_type": "stream",
     "text": [
      "Begin\n",
      "1\n",
      "2\n",
      "0.5\n",
      "Welcome\n",
      "end\n"
     ]
    }
   ],
   "source": [
    "# Finally\n",
    "print(\"Begin\")\n",
    "try:\n",
    "    a=int(input())\n",
    "    b=int(input())\n",
    "    print(a/b)\n",
    "except(ValueError):\n",
    "    print(\"input should be integer\")\n",
    "finally:\n",
    "    print(\"Welcome\")\n",
    "print(\"end\")\n",
    "    "
   ]
  },
  {
   "cell_type": "markdown",
   "id": "e82814c7",
   "metadata": {},
   "source": [
    "---\n",
    "- if pre-defined exception not statisfying user requirement then we can rasied our own error using :\n",
    "    1. Assert Statement\n",
    "    2. Raise Statement\n",
    "    "
   ]
  },
  {
   "cell_type": "code",
   "execution_count": 48,
   "id": "7af50236",
   "metadata": {},
   "outputs": [
    {
     "name": "stdout",
     "output_type": "stream",
     "text": [
      "10 is even\n",
      "The number should be even.\n"
     ]
    }
   ],
   "source": [
    "def even(n):\n",
    "    assert n%2==0,\"The number should be even\"\n",
    "    print(n,\"is even\")\n",
    "try:    \n",
    "    even(10)\n",
    "    even(5)\n",
    "except(AssertionError):\n",
    "    print(\"The number should be even.\")"
   ]
  },
  {
   "cell_type": "code",
   "execution_count": 55,
   "id": "fc5cacec",
   "metadata": {},
   "outputs": [
    {
     "name": "stdout",
     "output_type": "stream",
     "text": [
      "2\n",
      "Error\n"
     ]
    }
   ],
   "source": [
    "# value 3-15 --> No error\n",
    "# <3 or >15 --> Raise error\n",
    "\n",
    "def user(n):\n",
    "    assert n>=3 and n<=15,\"The no. is 3 to 15\"\n",
    "    print(\"Yeah!\")\n",
    "\n",
    "try:\n",
    "    n= int(input())\n",
    "    user(n)\n",
    "except(AssertionError):\n",
    "    print(\"Error\")"
   ]
  },
  {
   "cell_type": "markdown",
   "id": "89ce5977",
   "metadata": {},
   "source": [
    "# Raise Error\n",
    "\n",
    "- We can raise our own error using raise error. if the given condition is not satisfied then this error woll be raise."
   ]
  },
  {
   "cell_type": "code",
   "execution_count": 58,
   "id": "2d6d29f1",
   "metadata": {},
   "outputs": [
    {
     "name": "stdout",
     "output_type": "stream",
     "text": [
      "Enter amount: 4000\n",
      "Maintain min. bal 1500 rupees...\n"
     ]
    }
   ],
   "source": [
    "# After Wihtdraw operation if the balance is less then 1500 then we have to raise error\n",
    "\n",
    "bal = 4000\n",
    "\n",
    "def withdraw(amt):\n",
    "    global bal\n",
    "    if(bal-amt<=1500):\n",
    "        raise ValueError\n",
    "    else:\n",
    "        print(\"Balance:\",bal-amt)\n",
    "\n",
    "try:\n",
    "    amt = int(input(\"Enter amount: \"))\n",
    "    withdraw(amt)\n",
    "except(ValueError):\n",
    "    print(\"Maintain min. bal 1500 rupees...\")"
   ]
  },
  {
   "cell_type": "markdown",
   "id": "44c54dc1",
   "metadata": {},
   "source": [
    "---\n",
    "# Module\n",
    "\n",
    "- In python programming we have two types of modules:\n",
    "    1. Normal import\n",
    "    2. From import\n",
    "- Using the module concept we can access the properties of one python file inside another python file.\n",
    "- In real time senerio one application of collection of program. So, two program will communicate each through by module concept only (sending and reciveing).\n",
    "---"
   ]
  },
  {
   "cell_type": "markdown",
   "id": "74d47b30",
   "metadata": {},
   "source": [
    "# Files\n",
    "- Files are used to store the data permentanly.\n",
    "- We can perform differnt operation on file such as (open,write,read,append,close).\n",
    "- Different modes available in the file\n",
    "\n",
    "    1. r mode (read)\n",
    "    2. w mode (write)\n",
    "    3. a mode (append)\n",
    "    4. r+ mode (read and write)\n",
    "    5. w+ mode (write and read)\n",
    "    6. a+ mode (append and read)\n",
    "---\n",
    "- Append mode - This mode will the data into existing file and will not create any new file\n",
    "- r+ mode - First read the data then perform write operation on the file\n",
    "- w+ mode - First we will perform write operation and we read the file"
   ]
  },
  {
   "cell_type": "code",
   "execution_count": 82,
   "id": "eb0e2275",
   "metadata": {},
   "outputs": [
    {
     "name": "stdout",
     "output_type": "stream",
     "text": [
      "Hello\n",
      "Rohan\n",
      "I am Kshitij\n"
     ]
    }
   ],
   "source": [
    "# Reading the data from the file.\n",
    "\n",
    "x = open(\"test_file\")\n",
    "print(x.read())\n",
    "x.close()"
   ]
  },
  {
   "cell_type": "code",
   "execution_count": 84,
   "id": "8cf9fd74",
   "metadata": {},
   "outputs": [],
   "source": [
    "# Writing the data into file.\n",
    "\n",
    "x = open(\"test_file\",'w')\n",
    "x.write(\"I am Kshitij\")\n",
    "x.close()"
   ]
  },
  {
   "cell_type": "code",
   "execution_count": 88,
   "id": "3f8cc259",
   "metadata": {},
   "outputs": [],
   "source": [
    "# Append the data into file.\n",
    "\n",
    "x = open(\"test_file\",'a')\n",
    "x.write(\"\\nI am Kshitij\")\n",
    "x.close()"
   ]
  },
  {
   "cell_type": "code",
   "execution_count": 102,
   "id": "8c78d54c",
   "metadata": {},
   "outputs": [
    {
     "name": "stdout",
     "output_type": "stream",
     "text": [
      "\n",
      "Nani\n",
      "Jr.ntr\n",
      "Nani\n",
      "Jr.ntr\n"
     ]
    }
   ],
   "source": [
    "# r+ mode operation \n",
    "\n",
    "x = open(\"test_file\",\"r+\")\n",
    "print(x.read())\n",
    "x.write(\"\\nNani\\nJr.ntr\")\n",
    "x.close()\n"
   ]
  },
  {
   "cell_type": "code",
   "execution_count": 104,
   "id": "12b6ffe3",
   "metadata": {},
   "outputs": [
    {
     "name": "stdout",
     "output_type": "stream",
     "text": [
      "\n",
      "KD\n"
     ]
    }
   ],
   "source": [
    "# w+ mode Operation\n",
    "\n",
    "x = open(\"test_file\",\"w+\")\n",
    "x.write(\"\\nKD\")\n",
    "x.seek(0)\n",
    "print(x.read())\n",
    "x.close()\n"
   ]
  },
  {
   "cell_type": "code",
   "execution_count": 105,
   "id": "b362e0de",
   "metadata": {},
   "outputs": [],
   "source": [
    "# a+ mode Operation\n"
   ]
  },
  {
   "cell_type": "code",
   "execution_count": null,
   "id": "7f1a7ec3",
   "metadata": {},
   "outputs": [],
   "source": []
  }
 ],
 "metadata": {
  "kernelspec": {
   "display_name": "Python 3 (ipykernel)",
   "language": "python",
   "name": "python3"
  },
  "language_info": {
   "codemirror_mode": {
    "name": "ipython",
    "version": 3
   },
   "file_extension": ".py",
   "mimetype": "text/x-python",
   "name": "python",
   "nbconvert_exporter": "python",
   "pygments_lexer": "ipython3",
   "version": "3.11.5"
  }
 },
 "nbformat": 4,
 "nbformat_minor": 5
}
