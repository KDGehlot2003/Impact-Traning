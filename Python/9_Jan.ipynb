{
 "cells": [
  {
   "cell_type": "markdown",
   "id": "75629b21",
   "metadata": {},
   "source": [
    "# Recursion\n",
    "\n",
    "- Function calling it self is called recursion\n",
    "- Using recursion we can reduce no. of line in our code\n",
    "- Recursion will take more stack memory\n"
   ]
  },
  {
   "cell_type": "code",
   "execution_count": 2,
   "id": "50ee0ea7",
   "metadata": {},
   "outputs": [
    {
     "name": "stdout",
     "output_type": "stream",
     "text": [
      "120\n"
     ]
    }
   ],
   "source": [
    "# WAP to find factorial of number using recursion\n",
    "\n",
    "def f(n):\n",
    "    if n==0:\n",
    "        return 1\n",
    "    else:\n",
    "        d = n*f(n-1)\n",
    "    return d\n",
    "d = f(5)\n",
    "print(d)"
   ]
  },
  {
   "cell_type": "code",
   "execution_count": 5,
   "id": "8f0a4076",
   "metadata": {},
   "outputs": [
    {
     "name": "stdout",
     "output_type": "stream",
     "text": [
      "15\n"
     ]
    }
   ],
   "source": [
    "# WAP sum of 1-5 numbers using recursion\n",
    "\n",
    "def s(n):\n",
    "    if n==0:\n",
    "        return 0\n",
    "    else:\n",
    "        d = n+s(n-1)\n",
    "    return d\n",
    "d = s(5)\n",
    "print(d)"
   ]
  },
  {
   "cell_type": "markdown",
   "id": "4102b279",
   "metadata": {},
   "source": [
    "---\n",
    "# OOP\n",
    "\n",
    "- In Procedure oriented Programming we delcaring the data as global then related fucntion as well as an related function can access the data then we are missing security for our data.\n",
    "- We can acheive the security with the help of object oriented programming.\n",
    "- Object oriented programming Principle:\n",
    "1. Class\n",
    "2. Object\n",
    "3. Encapsulation\n",
    "4. Inheritance\n",
    "5. Polymorphism\n",
    "6. Abstract Class and interfaces\n",
    "\n",
    "## 1. Class\n",
    "- Class is a container which contains data and related operation in single entity\n",
    "- Class is collection of data member and member funciton or variable and methods or data and related operation.\n",
    "- Data can represented by variables and operation can be represented by methods.\n",
    "- Within the class we can declared three types of variables:\n",
    "    1. Static Variable\n",
    "    2. Non-Static Variable\n",
    "    3. Local Variable\n",
    "- We can defined three types of methods:\n",
    "    1. Static Methods\n",
    "    2. Non-Static Methods\n",
    "    3. Class Methods\n",
    "- Object is instance of class that is by creating object memory will be allocated for the data member for the class\n",
    "- When class is created memory will be alloted for the static variable and static method.\n",
    "- When object is created memory will be alloted for the non-static variable and non-static methods.\n",
    "\n",
    "### a) Static Variable:\n",
    "   - The variable which are declared within the class but outside if all methods those varibles are called as static variables.\n",
    "   - We can access the static variable within the class by using the calls name and outside of the class by using the class name and object name.\n",
    "   - If the data is common to all objects then we can declared those variables as static variables.\n",
    "   - For static variable memory is alloted when class is loaded\n",
    "### b) Non-Static Variable:\n",
    "   - The variable which are declared within the class and wihtin the methods those variable are called as non-static Variable.\n",
    "   - We can accces the non-static variable within the class by using self keywords and outside of the class by using object name.\n",
    "   - If the data changed from object to object then we cana declared that variable as non-static variable\n",
    "\n",
    "### a) Non-Static Mehtods:\n",
    "   - We can access Non-Static Methods by using the object name.\n",
    "   - For non-static mehtods memory is alloted when object is created.\n",
    "   - If any methods as default argument as self that corresponding method is called as non-static methods.\n",
    "### b) Static Mehtods: \n",
    "   - We can access the Static Mehtods by using the class name for accessing the static method no need to create an object.\n"
   ]
  },
  {
   "cell_type": "code",
   "execution_count": 20,
   "id": "6a97f5e4",
   "metadata": {},
   "outputs": [
    {
     "name": "stdout",
     "output_type": "stream",
     "text": [
      "greef\n",
      "g\n"
     ]
    }
   ],
   "source": [
    "s = input()\n",
    "\n",
    "for i in s:\n",
    "    if s.count(i)==1:\n",
    "        print(i)\n",
    "        break\n",
    "        \n",
    "else:\n",
    "    print(\"Empty\")"
   ]
  },
  {
   "cell_type": "code",
   "execution_count": 21,
   "id": "8ce01d2b",
   "metadata": {},
   "outputs": [
    {
     "name": "stdout",
     "output_type": "stream",
     "text": [
      "1000 2000\n",
      "1010 2020\n",
      "1010 2020\n"
     ]
    }
   ],
   "source": [
    "class test:\n",
    "    a = 1000\n",
    "    b = 2000\n",
    "    def display(self):\n",
    "        print(test.a,test.b)\n",
    "    def update(self):\n",
    "        test.a = test.a+10\n",
    "        test.b = test.b+20\n",
    "t1 = test()\n",
    "t1.display()\n",
    "t1.update()\n",
    "t1.display()\n",
    "t2 = test()\n",
    "t2.display()"
   ]
  },
  {
   "cell_type": "code",
   "execution_count": 22,
   "id": "768de4b7",
   "metadata": {},
   "outputs": [
    {
     "name": "stdout",
     "output_type": "stream",
     "text": [
      "1010 2020\n",
      "1010 2020\n"
     ]
    }
   ],
   "source": [
    "print(test.a,test.b)\n",
    "t1 = test()\n",
    "print(t1.a,t2.b)"
   ]
  },
  {
   "cell_type": "code",
   "execution_count": 30,
   "id": "5ec7e9b6",
   "metadata": {},
   "outputs": [
    {
     "name": "stdout",
     "output_type": "stream",
     "text": [
      "1000 2000\n",
      "1010 2020\n",
      "1000 2000\n"
     ]
    }
   ],
   "source": [
    "class test:\n",
    "    def insert(self):\n",
    "        self.a=1000\n",
    "        self.b=2000\n",
    "    def display(self):\n",
    "        print(self.a,self.b)\n",
    "    def update(self):\n",
    "        self.a=self.a+10\n",
    "        self.b=self.b+20\n",
    "t1=test()\n",
    "t1.insert()\n",
    "t1.display()\n",
    "t1.update()\n",
    "t1.display()\n",
    "t2=test()\n",
    "t2.insert()\n",
    "t2.display()"
   ]
  },
  {
   "cell_type": "code",
   "execution_count": 32,
   "id": "1ddb5312",
   "metadata": {},
   "outputs": [
    {
     "name": "stdout",
     "output_type": "stream",
     "text": [
      "10 20\n",
      "30 40\n",
      "10 40\n"
     ]
    }
   ],
   "source": [
    "class test:\n",
    "    def insert(self,a,b):\n",
    "        self.a=a\n",
    "        self.b=b\n",
    "    def display(self):\n",
    "        print(self.a,self.b)\n",
    "t1=test()\n",
    "t1.insert(10,20)\n",
    "t1.display()\n",
    "t2=test()\n",
    "t2.insert(30,40)\n",
    "t2.display()\n",
    "print(t1.a,t2.b)"
   ]
  },
  {
   "cell_type": "markdown",
   "id": "eee0c7ea",
   "metadata": {},
   "source": [
    "## Constructer\n",
    "- Constructer is a special type of method.\n",
    "- We can defined a constructer in python by using _ _ init _ _\n",
    "- Constructer will be invoked during creation of object but method should be called externally.\n",
    "- We have two types of constructer:\n",
    "    1. Default Constructer\n",
    "    2. Parameterized Constructer"
   ]
  },
  {
   "cell_type": "code",
   "execution_count": 33,
   "id": "f85f88e7",
   "metadata": {},
   "outputs": [
    {
     "name": "stdout",
     "output_type": "stream",
     "text": [
      "100 200\n",
      "100 200\n"
     ]
    }
   ],
   "source": [
    "class test:\n",
    "    def __init__(self):\n",
    "        self.a=100\n",
    "        self.b=200\n",
    "    def display(self):\n",
    "        print(self.a,self.b)\n",
    "t1=test()\n",
    "t1.display()\n",
    "t2=test()\n",
    "t2.display()"
   ]
  },
  {
   "cell_type": "code",
   "execution_count": 74,
   "id": "185097f9",
   "metadata": {},
   "outputs": [
    {
     "name": "stdout",
     "output_type": "stream",
     "text": [
      "153.93804002589985\n"
     ]
    }
   ],
   "source": [
    "# WAP to find area of circle \n",
    "from math import*\n",
    "\n",
    "class circle:\n",
    "    def __init__(self,r):\n",
    "        self.r=r\n",
    "    def area(self):\n",
    "        print(pi*self.r*self.r)\n",
    "        \n",
    "t1=circle(7)\n",
    "t1.area()"
   ]
  },
  {
   "cell_type": "code",
   "execution_count": 75,
   "id": "ffd76e11",
   "metadata": {},
   "outputs": [
    {
     "name": "stdout",
     "output_type": "stream",
     "text": [
      "25\n"
     ]
    }
   ],
   "source": [
    "# WAP to find area of rectangle and displaey area\n",
    "\n",
    "class rectangle:\n",
    "    def __init__(self,a,b):\n",
    "        self.a=a\n",
    "        self.b=b\n",
    "    def area(self):\n",
    "        print(self.a*self.b)\n",
    "        \n",
    "t1=rectangle(5,5)\n",
    "t1.area()"
   ]
  },
  {
   "cell_type": "code",
   "execution_count": 73,
   "id": "91f99c3d",
   "metadata": {},
   "outputs": [
    {
     "name": "stdout",
     "output_type": "stream",
     "text": [
      "Name:  Kshitij\n",
      "Account no.:  242165849234\n",
      "Address:  Kalol\n",
      "Balance:  50000\n",
      "\n",
      "Your balance:  50001\n",
      "\n",
      "Your Balance:  49999\n"
     ]
    }
   ],
   "source": [
    "# WAP to create a banking application with static nonstatic and local variables constructor and non static method \n",
    "# 1. Before withdraw, if balance<2000 don't perform the transaction.\n",
    "# 2. Before withdraw, check the balance properly and check sufficient funds available or not.\n",
    "\n",
    "\n",
    "class cust:\n",
    "    bname=\"SBI\"\n",
    "    def __init__(self,name,accno,add,bal):\n",
    "        self.name = name\n",
    "        self.accno = accno\n",
    "        self.add = add\n",
    "        self.bal = bal\n",
    "    def display(self):\n",
    "        print(\"Name: \",self.name)\n",
    "        print(\"Account no.: \",self.accno)\n",
    "        print(\"Address: \",self.add)\n",
    "        print(\"Balance: \",self.bal)\n",
    "    def deposit(self,amt):\n",
    "        self.bal = self.bal + amt\n",
    "        print(\"Your balance: \",self.bal)\n",
    "    def withdraw(self,amt):\n",
    "        if amt<self.bal:\n",
    "            if self.bal-amt>=2000:\n",
    "                self.bal = self.bal - amt\n",
    "                print(\"Your Balance: \",self.bal)\n",
    "            else:\n",
    "                print(\"Maintain Minimum Balance...\")\n",
    "        else:\n",
    "            print(\"Insufficient Balance\")\n",
    "\n",
    "c1 = cust(\"Kshitij\",242165849234,\"Kalol\",50000)\n",
    "c1.display()\n",
    "print()\n",
    "c1.deposit(1)\n",
    "print()\n",
    "c1.withdraw(2)"
   ]
  },
  {
   "cell_type": "code",
   "execution_count": 76,
   "id": "fdb5472b",
   "metadata": {},
   "outputs": [
    {
     "name": "stdout",
     "output_type": "stream",
     "text": [
      "Enter name: kd\n",
      "Enter the Roll no.: 23\n",
      "Enter Subject 1 marks: 87\n",
      "Enter Subject 2 marks: 56\n",
      "Enter Subject 3 marks: 98\n",
      "Name:  kd\n",
      "Roll No. : 23\n",
      "Branch :  CSE\n",
      "Grade : B\n"
     ]
    }
   ],
   "source": [
    "# WAP to develop student class \n",
    "# 1. Name\n",
    "# 2. 3 Subjects marks\n",
    "#     pass or fail\n",
    "#         if pass cal grade\n",
    "# 3. Rollno.\n",
    "# 4. Branch\n",
    "\n",
    "\n",
    "class student:\n",
    "    branch = \"CSE\"\n",
    "    def __init__(self,name,roll,s1,s2,s3):\n",
    "        self.name = name\n",
    "        self.roll = roll\n",
    "        self.s1 = s1\n",
    "        self.s2 = s2\n",
    "        self.s3 = s3\n",
    "    def display(self):\n",
    "        print(\"Name: \",self.name)\n",
    "        print(\"Roll No. :\",self.roll)\n",
    "        print(\"Branch : \",self.branch)\n",
    "    def result(self):\n",
    "        if self.s1>35 and self.s2>35 and self.s3>35:\n",
    "            sub_sum = self.s1+self.s2+self.s3\n",
    "            grade = sub_sum/3\n",
    "            if grade>=90:\n",
    "                print(\"Grade : A\")\n",
    "            elif grade >=80:\n",
    "                print(\"Grade : B\")\n",
    "            elif grade >=60:\n",
    "                print(\"Grade : c\")\n",
    "            elif grade >=35:\n",
    "                print(\"Grade : Pass\")\n",
    "        else:\n",
    "            print(\"Fail...\")\n",
    "            \n",
    "name = input(\"Enter name: \")\n",
    "roll = input(\"Enter the Roll no.: \")\n",
    "s1 = int(input(\"Enter Subject 1 marks: \"))\n",
    "s2 = int(input(\"Enter Subject 2 marks: \"))\n",
    "s3 = int(input(\"Enter Subject 3 marks: \"))\n",
    "\n",
    "obj1 = student(name,roll,s1,s2,s3)\n",
    "obj1.display()\n",
    "obj1.result()"
   ]
  },
  {
   "cell_type": "code",
   "execution_count": null,
   "id": "af19c3e0",
   "metadata": {},
   "outputs": [],
   "source": []
  }
 ],
 "metadata": {
  "kernelspec": {
   "display_name": "Python 3 (ipykernel)",
   "language": "python",
   "name": "python3"
  },
  "language_info": {
   "codemirror_mode": {
    "name": "ipython",
    "version": 3
   },
   "file_extension": ".py",
   "mimetype": "text/x-python",
   "name": "python",
   "nbconvert_exporter": "python",
   "pygments_lexer": "ipython3",
   "version": "3.11.5"
  }
 },
 "nbformat": 4,
 "nbformat_minor": 5
}
