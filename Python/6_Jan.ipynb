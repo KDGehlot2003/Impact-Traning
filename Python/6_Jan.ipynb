{
 "cells": [
  {
   "cell_type": "markdown",
   "id": "067f6e14",
   "metadata": {},
   "source": [
    "# Iterator\n",
    "- Using iterator we can return only one value.\n",
    "\n",
    "# Enumerater \n",
    "- it will return the value along with the count\n",
    "- the default count starts from 0.\n",
    "\n",
    "# Generator\n",
    "- the return can return one value at a time\n",
    "- the generator can return multiple values \n",
    "- genertaor internally used yeild and next method for reuturning multiple values.\n",
    "---\n"
   ]
  },
  {
   "cell_type": "code",
   "execution_count": 2,
   "id": "2865fcc1",
   "metadata": {},
   "outputs": [
    {
     "name": "stdout",
     "output_type": "stream",
     "text": [
      "1\n",
      "2\n",
      "3\n",
      "4\n"
     ]
    }
   ],
   "source": [
    "# iterator\n",
    "\n",
    "s = [1,2,3,4,5]\n",
    "r = iter(s)\n",
    "print(next(r))\n",
    "print(next(r))\n",
    "print(next(r))\n",
    "print(next(r))"
   ]
  },
  {
   "cell_type": "code",
   "execution_count": 3,
   "id": "8e2afea4",
   "metadata": {},
   "outputs": [
    {
     "name": "stdout",
     "output_type": "stream",
     "text": [
      "(0, 1)\n",
      "(1, 2)\n",
      "(5, 10)\n",
      "(6, 20)\n"
     ]
    }
   ],
   "source": [
    "# enumertater\n",
    "\n",
    "l = [1,2,3,4,5]\n",
    "r  = enumerate(l)\n",
    "print(next(r))\n",
    "print(next(r))\n",
    "l = [10,20,30,40,50]\n",
    "r = enumerate(l,5)\n",
    "print(next(r))\n",
    "print(next(r))"
   ]
  },
  {
   "cell_type": "code",
   "execution_count": 4,
   "id": "f43c5a35",
   "metadata": {},
   "outputs": [
    {
     "name": "stdout",
     "output_type": "stream",
     "text": [
      "5 10 15 20\n",
      "5\n",
      "10\n",
      "15\n",
      "20\n"
     ]
    }
   ],
   "source": [
    " # generator\n",
    "    \n",
    "def gen():\n",
    "    yield 5\n",
    "    yield 10\n",
    "    yield 15\n",
    "    yield 20\n",
    "\n",
    "g1 = gen()\n",
    "r = next(g1)\n",
    "r1 = next(g1)\n",
    "r2 = next(g1)\n",
    "r3 = next(g1)\n",
    "print(r,r1,r2,r3)\n",
    "\n",
    "\n",
    "# or\n",
    "\n",
    "def gen():\n",
    "    l = [5,10,15,20]\n",
    "    for p in l:\n",
    "        yield p\n",
    "\n",
    "g1 = gen()\n",
    "for p in g1:\n",
    "    print(p)"
   ]
  },
  {
   "cell_type": "markdown",
   "id": "0da34e0f",
   "metadata": {},
   "source": [
    "### in python programing we can generate random numbers using random funciton."
   ]
  },
  {
   "cell_type": "code",
   "execution_count": 5,
   "id": "b5409af5",
   "metadata": {},
   "outputs": [
    {
     "name": "stdout",
     "output_type": "stream",
     "text": [
      "4988\n",
      "51657\n"
     ]
    }
   ],
   "source": [
    "import random\n",
    "s = random.randint(1000,9999)\n",
    "print(s)\n",
    "s = random.randint(10000,55555)\n",
    "print(s)"
   ]
  },
  {
   "cell_type": "code",
   "execution_count": 6,
   "id": "e6387800",
   "metadata": {},
   "outputs": [
    {
     "name": "stdout",
     "output_type": "stream",
     "text": [
      "3277\n",
      "5537\n",
      "2469\n",
      "6440\n"
     ]
    }
   ],
   "source": [
    "# WAP to generate 4 random otp's within the range of (1000,10000)\n",
    "\n",
    "import random\n",
    "\n",
    "def gen():\n",
    "    i = 1\n",
    "    while(i<=4):\n",
    "        d = random.randint(1000,10000)\n",
    "        yield d\n",
    "        i+=1\n",
    "g1 = gen()\n",
    "for p in g1:\n",
    "    print(p)"
   ]
  },
  {
   "cell_type": "code",
   "execution_count": 7,
   "id": "567bb437",
   "metadata": {},
   "outputs": [
    {
     "name": "stdout",
     "output_type": "stream",
     "text": [
      "120\n",
      "720\n",
      "5040\n",
      "40320\n",
      "362880\n",
      "3628800\n"
     ]
    }
   ],
   "source": [
    "# WAP to generate factorial of the numnbers from 5 to 10 and return the values to main program\n",
    "\n",
    "\n",
    "def fac():\n",
    "    for i in range(5,11):\n",
    "        f = 1\n",
    "        for j in range(1,i+1):\n",
    "            f = f*j\n",
    "        yield f\n",
    "f1 = fac()\n",
    "for p in f1:\n",
    "    print(p)\n"
   ]
  },
  {
   "cell_type": "code",
   "execution_count": 8,
   "id": "28ed1da5",
   "metadata": {},
   "outputs": [
    {
     "name": "stdout",
     "output_type": "stream",
     "text": [
      "1\n",
      "2\n",
      "3\n",
      "4\n",
      "5\n"
     ]
    }
   ],
   "source": [
    "l = [1,2,3,4,5]\n",
    "r = iter(l)\n",
    "for i in r:\n",
    "    print(i)"
   ]
  },
  {
   "cell_type": "code",
   "execution_count": 9,
   "id": "a7c5a0fa",
   "metadata": {},
   "outputs": [
    {
     "name": "stdout",
     "output_type": "stream",
     "text": [
      "(0, 1)\n",
      "(1, 2)\n",
      "(2, 3)\n",
      "(3, 4)\n",
      "(4, 5)\n"
     ]
    }
   ],
   "source": [
    "l = [1,2,3,4,5]\n",
    "r = enumerate(l)\n",
    "for i in r:\n",
    "    print(i)"
   ]
  },
  {
   "cell_type": "markdown",
   "id": "a48cce34",
   "metadata": {},
   "source": [
    "# Closure:\n",
    "- Closure is a special function.\n",
    "- Closure are developed using nested function.\n",
    "- Clousre is inner function, which performs operation using the data of outer funciton even outer function execution is completed.\n",
    "---\n",
    "# Decorators\n",
    "- Decorators is special function.\n",
    "- Decorators funciton receives input asone function and return another function as output.\n",
    "- A function returning another function, usually applied as a function transformation using the **@wrapper** syntax. Common examples for decorators are **classmethod()** and **staticmethod()**.\n",
    "- Decorators are used to add new features to existing funciton or extending functionality of existing function without modifying it.\n",
    "- Decorators can be developed irrespective of functionality."
   ]
  },
  {
   "cell_type": "code",
   "execution_count": 10,
   "id": "a8c6aeed",
   "metadata": {},
   "outputs": [
    {
     "name": "stdout",
     "output_type": "stream",
     "text": [
      "25\n"
     ]
    }
   ],
   "source": [
    "# Clousre\n",
    "\n",
    "def power(p):\n",
    "    def pow(n):\n",
    "        return p**n\n",
    "    return pow\n",
    "s=power(5)\n",
    "p=s(2)\n",
    "print(p)"
   ]
  },
  {
   "cell_type": "code",
   "execution_count": 11,
   "id": "c8cfe055",
   "metadata": {},
   "outputs": [
    {
     "name": "stdout",
     "output_type": "stream",
     "text": [
      "***********\n",
      "$$$$$$$$$$$\n"
     ]
    }
   ],
   "source": [
    "# ***********\n",
    "# $$$$$$$$$$$\n",
    "\n",
    "def star(p):\n",
    "    def dol(n):\n",
    "        print(p*n)\n",
    "    return dol\n",
    "\n",
    "a = star('*')\n",
    "b = a(11)\n",
    "a1 = star('$')\n",
    "b1 = a1(11)"
   ]
  },
  {
   "cell_type": "code",
   "execution_count": 12,
   "id": "86b63cec",
   "metadata": {},
   "outputs": [
    {
     "name": "stdout",
     "output_type": "stream",
     "text": [
      "*******************\n",
      "Python Programming\n",
      "*******************\n"
     ]
    }
   ],
   "source": [
    "# Decorator\n",
    "def new_display(d):\n",
    "    def smart_display():\n",
    "        print(\"*******************\")\n",
    "        d()\n",
    "        print(\"*******************\")\n",
    "    return smart_display\n",
    "\n",
    "@new_display\n",
    "def display():\n",
    "    print(\"Python Programming\")\n",
    "display()"
   ]
  },
  {
   "cell_type": "code",
   "execution_count": 13,
   "id": "7925b1f9",
   "metadata": {},
   "outputs": [
    {
     "name": "stdout",
     "output_type": "stream",
     "text": [
      "5.0\n",
      "∞\n"
     ]
    }
   ],
   "source": [
    "def smart_div(d):\n",
    "    def division(a,b):\n",
    "        if b==0:\n",
    "            return \"∞\"\n",
    "        else:\n",
    "            return d(a,b)\n",
    "    return division\n",
    "\n",
    "@smart_div\n",
    "def div(a,b):\n",
    "    return a/b\n",
    "a=div(10,2)\n",
    "print(a) \n",
    "a=div(10,0)\n",
    "print(a)"
   ]
  },
  {
   "cell_type": "code",
   "execution_count": 14,
   "id": "5b99a199",
   "metadata": {
    "scrolled": true
   },
   "outputs": [
    {
     "name": "stdout",
     "output_type": "stream",
     "text": [
      "5.0\n",
      "∞\n",
      "int only\n"
     ]
    }
   ],
   "source": [
    "def smart_div(d):\n",
    "    def division(a,b):\n",
    "        if b==0:\n",
    "            return \"∞\"\n",
    "        elif (type(b)==str):\n",
    "            return \"int only\"\n",
    "        else:\n",
    "            return d(a,b)\n",
    "    return division\n",
    "\n",
    "@smart_div\n",
    "def div(a,b):\n",
    "    return a/b\n",
    "a=div(10,2)\n",
    "print(a) \n",
    "a=div(10,0)\n",
    "print(a)\n",
    "a=div(10,\"e\")\n",
    "print(a)"
   ]
  },
  {
   "cell_type": "markdown",
   "id": "b061741d",
   "metadata": {},
   "source": [
    "## List Compriersion\n",
    "\n",
    "- The concepts of generating elements into list object by  writing some logic in the list is called as list comriersion.\n",
    "- By using list Compriersion we can reduce no. of line in our code.\n",
    "\n",
    "## Nested list\n",
    "\n",
    "- A List with in the another list is called as nested list"
   ]
  },
  {
   "cell_type": "code",
   "execution_count": 15,
   "id": "555948d1",
   "metadata": {},
   "outputs": [
    {
     "name": "stdout",
     "output_type": "stream",
     "text": [
      "[1, 2, 3, 4, 5, 6, 7, 8, 9, 10]\n",
      "[1, 2, 3, 4, 5, 6, 7, 8, 9, 10]\n"
     ]
    }
   ],
   "source": [
    "# List Compriersion\n",
    "\n",
    "l = []\n",
    "for i in range(1,11):\n",
    "    l.append(i)\n",
    "print(l)\n",
    "\n",
    "# or\n",
    "\n",
    "l = [p for p in range(1,11)]\n",
    "print(l)"
   ]
  },
  {
   "cell_type": "code",
   "execution_count": 16,
   "id": "089c0675",
   "metadata": {},
   "outputs": [
    {
     "name": "stdout",
     "output_type": "stream",
     "text": [
      "[2, 4, 6, 8, 10, 12, 14, 16, 18, 20]\n"
     ]
    }
   ],
   "source": [
    "# 2,4,6---10\n",
    "\n",
    "l = [p for p in range(1,21) if p%2==0]\n",
    "print(l)"
   ]
  },
  {
   "cell_type": "code",
   "execution_count": 21,
   "id": "1ee4ca1e",
   "metadata": {},
   "outputs": [
    {
     "name": "stdout",
     "output_type": "stream",
     "text": [
      "1\n",
      "2\n",
      "3\n",
      "4\n",
      "5\n",
      "[1, 2, 3, 4, 5]\n",
      "1\n",
      "2\n",
      "3\n",
      "4\n",
      "5\n",
      "[1, 2, 3, 4, 5]\n"
     ]
    }
   ],
   "source": [
    "# WAP to read 5 values from the user using with and without List Compriersion\n",
    "\n",
    "l = []\n",
    "for i in range(5):\n",
    "    n = int(input())\n",
    "    l.append(n)\n",
    "print(l)\n",
    "\n",
    "\n",
    "# or\n",
    "\n",
    "l = [int(input()) for p in range(5)]\n",
    "print(l)"
   ]
  },
  {
   "cell_type": "code",
   "execution_count": 24,
   "id": "353a68d7",
   "metadata": {},
   "outputs": [
    {
     "name": "stdout",
     "output_type": "stream",
     "text": [
      "[961, 1089, 1225, 1369, 1521, 1681, 1849, 2025, 2209, 2401]\n"
     ]
    }
   ],
   "source": [
    "# WAP to print sqrs of the odd no. from 30 to 50\n",
    "\n",
    "l = [p**2 for p in range(30,51) if p%2!=0]\n",
    "print(l)"
   ]
  },
  {
   "cell_type": "code",
   "execution_count": 31,
   "id": "d25a62dd",
   "metadata": {},
   "outputs": [
    {
     "name": "stdout",
     "output_type": "stream",
     "text": [
      "[1, 2, 3]\n",
      "____________\n",
      "1\n",
      "_______________\n",
      "2\n",
      "_______________\n",
      "3\n",
      "_______________\n",
      "[4, 5, 6]\n",
      "____________\n",
      "4\n",
      "_______________\n",
      "5\n",
      "_______________\n",
      "6\n",
      "_______________\n",
      "[7, 8, 9]\n",
      "____________\n",
      "7\n",
      "_______________\n",
      "8\n",
      "_______________\n",
      "9\n",
      "_______________\n"
     ]
    }
   ],
   "source": [
    "# WAP to 3*3 create nested list and access the element from the list\n",
    "\n",
    "l = [[1,2,3],[4,5,6],[7,8,9]]\n",
    "# print(l)\n",
    "for i in l:\n",
    "    print(i)\n",
    "    print(\"____________\")\n",
    "    for j in i:\n",
    "        print(j)\n",
    "        print(\"_______________\")"
   ]
  },
  {
   "cell_type": "code",
   "execution_count": 32,
   "id": "cc6d5e3a",
   "metadata": {},
   "outputs": [
    {
     "name": "stdout",
     "output_type": "stream",
     "text": [
      "1\n",
      "2\n",
      "3\n",
      "4\n",
      "5\n",
      "6\n",
      "7\n",
      "8\n",
      "9\n",
      "[[1, 2, 3], [4, 5, 6], [7, 8, 9]]\n"
     ]
    }
   ],
   "source": [
    "# WAP to create a nested list and read the values from the user without list Compriersion\n",
    "\n",
    "s = []\n",
    "for i in range(3):\n",
    "    r=[]\n",
    "    for j in range(3):\n",
    "        n = int(input())\n",
    "        r.append(n)\n",
    "    s.append(r)\n",
    "print(s)"
   ]
  },
  {
   "cell_type": "code",
   "execution_count": 40,
   "id": "b284ffaf",
   "metadata": {},
   "outputs": [
    {
     "name": "stdout",
     "output_type": "stream",
     "text": [
      "Max: 6\n",
      "Second max: 5\n"
     ]
    }
   ],
   "source": [
    "l = [1,6,1,5,2,6]\n",
    "# second max,min\n",
    "l.sort()\n",
    "print(\"Max:\",l[-1])\n",
    "c=l.count(l[-1])\n",
    "d=l[-(c+1)]\n",
    "print(\"Second max:\",d)"
   ]
  },
  {
   "cell_type": "code",
   "execution_count": 41,
   "id": "74f92208",
   "metadata": {},
   "outputs": [
    {
     "name": "stdout",
     "output_type": "stream",
     "text": [
      "Second Min: 2\n"
     ]
    }
   ],
   "source": [
    "# 1,3,2,1,5,6\n",
    "\n",
    "l=[1,3,2,1,5,6]\n",
    "l.sort()\n",
    "c=l.count(l[0])\n",
    "d=l[(c)]\n",
    "print(\"Second Min:\",d)"
   ]
  },
  {
   "cell_type": "code",
   "execution_count": 44,
   "id": "eef594e3",
   "metadata": {},
   "outputs": [
    {
     "name": "stdout",
     "output_type": "stream",
     "text": [
      "1\n",
      "1\n",
      "1\n",
      "1\n",
      "1\n",
      "1\n",
      "1\n",
      "1\n",
      "1\n",
      "[[1, 1, 1], [1, 1, 1], [1, 1, 1]]\n"
     ]
    }
   ],
   "source": [
    "# WAP to create a nested list and read the values from the user using list Compriersion\n",
    "\n",
    "l =[[int(input()) for j in range(3)]for i in range(3)]\n",
    "print(l)"
   ]
  },
  {
   "cell_type": "code",
   "execution_count": 46,
   "id": "14eb0ada",
   "metadata": {},
   "outputs": [
    {
     "name": "stdout",
     "output_type": "stream",
     "text": [
      "[[1 1 1]\n",
      " [1 1 1]\n",
      " [1 1 1]]\n"
     ]
    }
   ],
   "source": [
    "print(l)"
   ]
  },
  {
   "cell_type": "code",
   "execution_count": 60,
   "id": "ff0c0cab",
   "metadata": {},
   "outputs": [
    {
     "name": "stdout",
     "output_type": "stream",
     "text": [
      "1\n",
      "2\n",
      "4\n",
      "3\n",
      "5\n",
      "6\n",
      "7\n",
      "8\n",
      "6 8 \n",
      "11 11 \n"
     ]
    }
   ],
   "source": [
    "# WAP to read 2*2 nested list elements for two matrix and perform addition operation\n",
    "\n",
    "l1 =[[int(input()) for j in range(2)]for i in range(2)]\n",
    "# print(l1)\n",
    "l2 =[[int(input()) for j in range(2)]for i in range(2)]\n",
    "# print(l2)\n",
    "# ans = []\n",
    "# for p,q in l1,l2:\n",
    "#     for i,j in p,q:\n",
    "#         ans.append(i+j)\n",
    "# print(ans)\n",
    "\n",
    "s = [[0,0],[0,0]]\n",
    "for p in range(2):\n",
    "    for q in range(2):\n",
    "        s[p][q]=l1[p][q]+l2[p][q]\n",
    "        \n",
    "for p in range(2):\n",
    "    for q in range(2):\n",
    "        print(s[p][q],end=\" \")\n",
    "    print()"
   ]
  },
  {
   "cell_type": "code",
   "execution_count": 77,
   "id": "b8537241",
   "metadata": {},
   "outputs": [
    {
     "name": "stdout",
     "output_type": "stream",
     "text": [
      "[6, 15, 24]\n"
     ]
    }
   ],
   "source": [
    "# WAP to read 3*3 matrix and find row-wise sum.\n",
    "\n",
    "l = [[1, 2, 3], [4, 5, 6], [7, 8, 9]]\n",
    "ans = []\n",
    "\n",
    "for i in range(3):\n",
    "    a = 0\n",
    "    for j in range(3):\n",
    "        a += l[i][j]\n",
    "    ans.append(a)\n",
    "print(ans)"
   ]
  },
  {
   "cell_type": "markdown",
   "id": "90373658",
   "metadata": {},
   "source": [
    "![Matrix](matrix.jpeg)"
   ]
  },
  {
   "cell_type": "code",
   "execution_count": 78,
   "id": "e6c6fe7d",
   "metadata": {},
   "outputs": [],
   "source": [
    "# WAP to find sum of colum element\n",
    "\n"
   ]
  },
  {
   "cell_type": "markdown",
   "id": "51450f60",
   "metadata": {},
   "source": [
    "# Execption Handling\n",
    "\n",
    "- In python programming we have two types of error\n",
    "    1. Compile type\n",
    "    2. Runtime type\n",
    "    \n",
    "- The error are occur at comiple time those errors are called compile time error or syntax error.\n",
    "- This kind of errors should be handle by user.\n",
    "\n",
    "- The errors which occurs at runtime or during execution of the program those errors are called as runtime errors or Exception.\n",
    "- Because of runtime error the program will be terminated abnormally\n",
    "\n",
    "- We can handle exception with try and except block\n",
    "\n",
    "### Try Block:\n",
    "\n",
    "- The Statement which produce an exception and the other statement which depend on exception we have to keep inside the try block.\n",
    "\n",
    "### Except Block:\n",
    "\n",
    "- We have to pass corresponding exception class name a an argument to except block.\n",
    "\n",
    "- Generally user freindly error solution will be given on except block.\n",
    "\n",
    "### Types of Exception:\n",
    "\n",
    "1. ZeroDivisonError\n",
    "2. ValueError\n",
    "3. TypeError\n",
    "4. IndexError\n",
    "5. NameError\n",
    "6. AttributeError\n",
    "7. ArrayIndexOutOfBoundsException\n",
    "8. RaiseError\n",
    "9. KeyError\n",
    "10. UnboundLocalError"
   ]
  },
  {
   "cell_type": "code",
   "execution_count": 91,
   "id": "3411e30e",
   "metadata": {},
   "outputs": [
    {
     "name": "stdout",
     "output_type": "stream",
     "text": [
      "begin\n",
      "Enter a: 12\n",
      "Enter b: 0\n",
      "0 mat dal behen ke lode\n"
     ]
    }
   ],
   "source": [
    "# TRY & EXCEPT\n",
    "try:\n",
    "    print(\"begin\")\n",
    "    a = int(input(\"Enter a: \"))\n",
    "    b = int(input(\"Enter b: \")\n",
    "    c=a/b\n",
    "    print(c)\n",
    "    print(\"end\")\n",
    "except(ZeroDivisionError):\n",
    "    print(\"0 mat dal behen ke lode\")"
   ]
  },
  {
   "cell_type": "markdown",
   "id": "7eadd71f",
   "metadata": {},
   "source": []
  },
  {
   "cell_type": "code",
   "execution_count": null,
   "id": "8344e23a",
   "metadata": {},
   "outputs": [],
   "source": []
  }
 ],
 "metadata": {
  "kernelspec": {
   "display_name": "Python 3 (ipykernel)",
   "language": "python",
   "name": "python3"
  },
  "language_info": {
   "codemirror_mode": {
    "name": "ipython",
    "version": 3
   },
   "file_extension": ".py",
   "mimetype": "text/x-python",
   "name": "python",
   "nbconvert_exporter": "python",
   "pygments_lexer": "ipython3",
   "version": "3.11.5"
  }
 },
 "nbformat": 4,
 "nbformat_minor": 5
}
