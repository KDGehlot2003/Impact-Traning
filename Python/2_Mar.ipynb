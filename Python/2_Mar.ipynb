{
 "cells": [
  {
   "cell_type": "markdown",
   "id": "f8732a3f",
   "metadata": {},
   "source": [
    "# Problem Solving\n"
   ]
  },
  {
   "cell_type": "code",
   "execution_count": 8,
   "id": "21d12cd8",
   "metadata": {},
   "outputs": [
    {
     "name": "stdout",
     "output_type": "stream",
     "text": [
      "10\n",
      "8\n",
      "20\n"
     ]
    }
   ],
   "source": [
    "x = int(input())+int(input())\n",
    "print(20) if (15<x<20) else print(x)"
   ]
  },
  {
   "cell_type": "code",
   "execution_count": 20,
   "id": "b28de3a5",
   "metadata": {},
   "outputs": [
    {
     "name": "stdout",
     "output_type": "stream",
     "text": [
      "10\n",
      "1 5 20 50 60 61 68 69 90 100\n",
      "19 62\n",
      "4\n"
     ]
    }
   ],
   "source": [
    "n = int(input())\n",
    "arr = list(map(int,input().split())) [:n]\n",
    "s,e = map(int,input().split())\n",
    "\n",
    "c = 0\n",
    "\n",
    "# for i in range(len(arr)):\n",
    "#     if arr[i]==s:\n",
    "#         s=i\n",
    "#     if arr[i]==e:\n",
    "#         e=i\n",
    "        \n",
    "# print(e-s+1)\n",
    "\n",
    "r = [p for p in arr if p in range(s,e+1)]\n",
    "print(len(r))"
   ]
  },
  {
   "cell_type": "code",
   "execution_count": 24,
   "id": "e4724556",
   "metadata": {},
   "outputs": [
    {
     "name": "stdout",
     "output_type": "stream",
     "text": [
      "1 2 3 4\n",
      "1 1 3 7\n",
      "True\n"
     ]
    }
   ],
   "source": [
    "lst1 = list(map(int,input().split()))\n",
    "lst2 = list(map(int,input().split()))\n",
    "c = 0\n",
    "for i in lst1:\n",
    "    if i in lst2:\n",
    "        c+=1\n",
    "        \n",
    "print(True) if c>=1 else print(False)"
   ]
  },
  {
   "cell_type": "code",
   "execution_count": 37,
   "id": "88b943f9",
   "metadata": {},
   "outputs": [
    {
     "name": "stdout",
     "output_type": "stream",
     "text": [
      "2\n",
      "12\n",
      "15\n",
      "2\n"
     ]
    }
   ],
   "source": [
    "car1 = int(input())\n",
    "car2 = int(input())\n",
    "diff = int(input())\n",
    "\n",
    "if car2>car1:\n",
    "    t = 0\n",
    "    pos1 = diff\n",
    "    pos2 = 0\n",
    "    while pos2<=pos1:\n",
    "        t+=1\n",
    "        pos2 +=car2\n",
    "        pos1 +=car1\n",
    "    print(t)\n",
    "else:\n",
    "    print(-1)"
   ]
  },
  {
   "cell_type": "code",
   "execution_count": 42,
   "id": "f59d9225",
   "metadata": {},
   "outputs": [
    {
     "name": "stdout",
     "output_type": "stream",
     "text": [
      "ashqwerty\n",
      "3\n",
      "ash qwe rty "
     ]
    }
   ],
   "source": [
    "# awssedsecf\n",
    "# bcfed\n",
    "s = input()\n",
    "n = int(input())\n",
    "\n",
    "if len(s)%n==0:\n",
    "    div = len(s)//n\n",
    "    for i in range(n):\n",
    "        print(s[:div],end=\" \")\n",
    "        s = s[div:]\n",
    "else:\n",
    "    print(\"Invalid String\")"
   ]
  },
  {
   "cell_type": "code",
   "execution_count": 75,
   "id": "371aaf43",
   "metadata": {},
   "outputs": [
    {
     "name": "stdout",
     "output_type": "stream",
     "text": [
      "10\n",
      "5\n"
     ]
    }
   ],
   "source": [
    "n = int(input())\n",
    "\n",
    "# count = 1\n",
    "\n",
    "# for i in range(n-2):\n",
    "#     l = []\n",
    "    \n",
    "#     for p in range(1,n+1):\n",
    "#         if n%p==0:\n",
    "#             l.append(p)\n",
    "#     l.pop()\n",
    "    \n",
    "#     n = n-l[-1]\n",
    "#     count+=1\n",
    "#     print(n)\n",
    "# print(count)\n",
    "\n",
    "count = 0\n",
    "while n>=1:\n",
    "    divisor =1\n",
    "    for i in range(n-1,0,-1):\n",
    "        if(n%i==0):\n",
    "            divisor=i\n",
    "            break\n",
    "            \n",
    "    n-=divisor\n",
    "    count+=1\n",
    "print(count)"
   ]
  },
  {
   "cell_type": "code",
   "execution_count": 90,
   "id": "63768d94",
   "metadata": {},
   "outputs": [
    {
     "name": "stdout",
     "output_type": "stream",
     "text": [
      "1 1 2 2 3\n",
      "1 2 3 4 5\n",
      "0\n"
     ]
    }
   ],
   "source": [
    "l1 = list(map(int,input().split()))\n",
    "l2 = list(map(int,input().split()))\n",
    "\n",
    "c = 0\n",
    "\n",
    "\n",
    "if len(l1)==len(l2):\n",
    "    for i in l1:\n",
    "        if i not in l2:\n",
    "            c = 0\n",
    "            break\n",
    "        else:\n",
    "            l2.pop(l2.index(i))\n",
    "    \n",
    "    else:\n",
    "        c = 1\n",
    "else:\n",
    "    c = 0\n",
    "        \n",
    "print(c)"
   ]
  },
  {
   "cell_type": "code",
   "execution_count": 110,
   "id": "76262b71",
   "metadata": {},
   "outputs": [
    {
     "name": "stdout",
     "output_type": "stream",
     "text": [
      "x xy xz 1 4 2 v\n",
      "0 0 1 1 2 3 2\n",
      "['x', 'xy', '1', 'xz', '4', 'v', '2']\n",
      "['0', '0', '1', '1', '2', '2', '3']\n"
     ]
    }
   ],
   "source": [
    "# # x xy xz 1 4 2 v\n",
    "# # 0 0 1 1 2 3 2\n",
    "\n",
    "\n",
    "l1 = list(map(str,input().split()))\n",
    "l2 = list(map(str,input().split()))\n",
    "# ans =[]\n",
    "\n",
    "# for i in range(len(l1)):\n",
    "#     inde = l2.index(l2[i])\n",
    "#     print(inde)\n",
    "#     ans.append(l1[i])\n",
    "# #     l2.pop(0)\n",
    "# #     print(ans)\n",
    "    \n",
    "# print(ans)\n",
    "    \n",
    "pair_list = zip(l2,l1)\n",
    "\n",
    "sorted_list = sorted(pair_list)\n",
    "\n",
    "sorted_list1 = [i[1] for i in sorted_list]\n",
    "sorted_list2 = [i[0] for i in sorted_list]\n",
    "\n",
    "print(sorted_list1)\n",
    "print(sorted_list2)\n",
    "\n"
   ]
  },
  {
   "cell_type": "code",
   "execution_count": 123,
   "id": "2d66127f",
   "metadata": {},
   "outputs": [
    {
     "name": "stdout",
     "output_type": "stream",
     "text": [
      "[2, 2]\n"
     ]
    }
   ],
   "source": [
    "l = [3,2,2,3]\n",
    "l = [i for i in l if i!=3]\n",
    "print(l)"
   ]
  },
  {
   "cell_type": "code",
   "execution_count": 127,
   "id": "e39e8dee",
   "metadata": {},
   "outputs": [
    {
     "name": "stdout",
     "output_type": "stream",
     "text": [
      "[0, 1, 2, 2, 3, 0, 4, 2]\n",
      "[0, 1, 3, 0, 4]\n",
      "5\n"
     ]
    }
   ],
   "source": [
    "nums = [0,1,2,2,3,0,4,2]\n",
    "val = 2\n",
    "ans = [i for i in nums if i!=val]\n",
    "nums = ans\n",
    "print(len(nums))"
   ]
  },
  {
   "cell_type": "code",
   "execution_count": null,
   "id": "e24ac928",
   "metadata": {},
   "outputs": [],
   "source": []
  }
 ],
 "metadata": {
  "kernelspec": {
   "display_name": "Python 3 (ipykernel)",
   "language": "python",
   "name": "python3"
  },
  "language_info": {
   "codemirror_mode": {
    "name": "ipython",
    "version": 3
   },
   "file_extension": ".py",
   "mimetype": "text/x-python",
   "name": "python",
   "nbconvert_exporter": "python",
   "pygments_lexer": "ipython3",
   "version": "3.11.5"
  }
 },
 "nbformat": 4,
 "nbformat_minor": 5
}
