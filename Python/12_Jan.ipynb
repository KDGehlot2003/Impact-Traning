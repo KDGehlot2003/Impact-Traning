{
 "cells": [
  {
   "cell_type": "code",
   "execution_count": 1,
   "id": "93edacd1",
   "metadata": {},
   "outputs": [
    {
     "name": "stdout",
     "output_type": "stream",
     "text": [
      "Entr Class name : HDFC\n",
      "Min-bal is 0 rupees...\n",
      "RI is 6.5%\n"
     ]
    }
   ],
   "source": [
    "from abc import *\n",
    "\n",
    "class RBI(ABC):\n",
    "    def min_bal(self):\n",
    "        pass\n",
    "    def RI(self):\n",
    "        print(\"RI is 6.5%\")\n",
    "class SBI(RBI):\n",
    "    def min_bal(self):\n",
    "        print(\"Min-bal is 2000 rupees...\")\n",
    "class HDFC(RBI):\n",
    "    def min_bal(self):\n",
    "        print(\"Min-bal is 0 rupees...\")\n",
    "class ICICI(RBI):\n",
    "    def min_bal(self):\n",
    "        print(\"Min-bal is 500 rupees...\")\n",
    "\n",
    "        \n",
    "s = input(\"Entr Class name : \")\n",
    "c = globals()[s]\n",
    "c1 = c()\n",
    "c1.min_bal()\n",
    "c1.RI()"
   ]
  },
  {
   "cell_type": "code",
   "execution_count": 2,
   "id": "981d9435",
   "metadata": {},
   "outputs": [
    {
     "name": "stdout",
     "output_type": "stream",
     "text": [
      "Fill the tank with reg no:  AP1550\n",
      "Manual steering\n",
      "Hydralic breaks\n",
      "Fill the tank with reg no:  TS1234\n",
      "Power steering\n",
      "Gas breaks\n"
     ]
    }
   ],
   "source": [
    "from abc import *\n",
    "\n",
    "class car(ABC):\n",
    "    def __init__(self,regno):\n",
    "        self.regno = regno\n",
    "    def opentank(self):\n",
    "        print(\"Fill the tank with reg no: \", self.regno)\n",
    "    def streeing(self):\n",
    "        pass\n",
    "    def breaking(self):\n",
    "        pass\n",
    "class maruti(car):\n",
    "    def steering(self):\n",
    "        print(\"Manual steering\")\n",
    "    def breaking(self):\n",
    "        print(\"Hydralic breaks\")\n",
    "class santro(car):\n",
    "    def steering(self):\n",
    "        print(\"Power steering\")\n",
    "    def breaking(self):\n",
    "        print(\"Gas breaks\")\n",
    "\n",
    "m1 = maruti(\"AP1550\")\n",
    "m1.opentank()\n",
    "m1.steering()\n",
    "m1.breaking()\n",
    "s1 = santro(\"TS1234\")\n",
    "s1.opentank()\n",
    "s1.steering()\n",
    "s1.breaking()"
   ]
  },
  {
   "cell_type": "markdown",
   "id": "101e575c",
   "metadata": {},
   "source": [
    "# Interface\n",
    "- Interface is collection of abstract methods\n",
    "- Interface is implemented by inheriting the properties of abc model"
   ]
  },
  {
   "cell_type": "code",
   "execution_count": 4,
   "id": "f68b1f1f",
   "metadata": {},
   "outputs": [
    {
     "name": "stdout",
     "output_type": "stream",
     "text": [
      "100\n",
      "125\n",
      "5\n"
     ]
    }
   ],
   "source": [
    "from abc import *\n",
    "class test(ABC):\n",
    "    def operation(self):\n",
    "        pass\n",
    "class sub1(test):\n",
    "    def operation(self,a):\n",
    "        print(a*a)\n",
    "class sub2(test):\n",
    "    def operation(self,a):\n",
    "        print(a**3)\n",
    "class sub3(test):\n",
    "    def operation(self,a,b):\n",
    "        print(a+b)\n",
    "    \n",
    "s1 = sub1()\n",
    "s1.operation(10)\n",
    "s2 = sub2()\n",
    "s2.operation(5)\n",
    "s3 = sub3()\n",
    "s3.operation(3,2)\n",
    "\n"
   ]
  },
  {
   "cell_type": "code",
   "execution_count": 7,
   "id": "c3d3b3b4",
   "metadata": {},
   "outputs": [
    {
     "name": "stdout",
     "output_type": "stream",
     "text": [
      "car has 4 Wheels\n",
      "bike has 2 Weeks\n",
      "bus has 6 Wheels\n"
     ]
    }
   ],
   "source": [
    "from abc import *\n",
    "class vehicle(ABC):\n",
    "    def no_of_wheels(self):\n",
    "        pass\n",
    "class car(vehicle):\n",
    "    def no_of_wheels(self):\n",
    "        print(\"car has 4 Wheels\")\n",
    "class bus(vehicle):\n",
    "    def no_of_wheels(self):\n",
    "        print(\"bus has 6 Wheels\")\n",
    "class bike(vehicle):\n",
    "    def no_of_wheels(self):\n",
    "        print(\"bike has 2 Weeks\")\n",
    "\n",
    "c1 = car()\n",
    "c1.no_of_wheels()\n",
    "b1 = bike()\n",
    "b1.no_of_wheels()\n",
    "bu1 = bus()\n",
    "bu1.no_of_wheels()"
   ]
  },
  {
   "cell_type": "markdown",
   "id": "b58f9b4b",
   "metadata": {},
   "source": [
    "# Access specifier or Access Modifier\n",
    "- In python we have 3 access modifier:\n",
    "    1. private\n",
    "    2. public\n",
    "    3. protected\n",
    "\n",
    "## 1. Public :\n",
    "   - If Variable or method is public we can access anywhere in the program.\n",
    "## 2. Protected :\n",
    "   - If variable or method is protected we can access within the next immediate class (we can not access in the main program).\n",
    "   - Protected variable or method can be declared using _ .\n",
    "## 3. Private :\n",
    "   - If Variable or method is private we can access within the same class.\n",
    "   - In python programming  we can declared private variable and private methods using __ . "
   ]
  },
  {
   "cell_type": "code",
   "execution_count": 15,
   "id": "5a3ef9e7",
   "metadata": {},
   "outputs": [
    {
     "name": "stdout",
     "output_type": "stream",
     "text": [
      "Kshitij 123 50000 ECE\n"
     ]
    }
   ],
   "source": [
    "# Public\n",
    "class employee:\n",
    "    def __init__(self,name,id1,sal,dep):\n",
    "        self.name = name\n",
    "        self.id1 = id1\n",
    "        self.sal = sal\n",
    "        self.dep = dep\n",
    "    def display(self):\n",
    "        print(e1.name,e1.id1,e1.sal,e1.dep)\n",
    "        \n",
    "e1 = employee(\"Kshitij\",123,50000,\"ECE\")\n",
    "e1.display()"
   ]
  },
  {
   "cell_type": "code",
   "execution_count": 34,
   "id": "c9bc9ee5",
   "metadata": {},
   "outputs": [
    {
     "name": "stdout",
     "output_type": "stream",
     "text": [
      "Name:  Kshitij\n",
      "id:  123\n",
      "Salary:  50000\n",
      "Dept:  ECE\n"
     ]
    }
   ],
   "source": [
    "# Protected\n",
    "class employee:\n",
    "    def __init__(self,name,id1,sal,dep):\n",
    "        self._name = name\n",
    "        self._id1 = id1\n",
    "        self._sal = sal\n",
    "        self._dep = dep\n",
    "    def _display(self):\n",
    "        print(\"Name: \",e1._name)\n",
    "        print(\"id: \",e1._id1)\n",
    "\n",
    "class geeks(employee):\n",
    "    def __init__(self,name,id1,sal,dep):\n",
    "        super().__init__(name,id1,sal,dep)\n",
    "    def display(self):\n",
    "        self._display()\n",
    "        print(\"Salary: \",self._sal)\n",
    "        print(\"Dept: \",self._dep)\n",
    "        \n",
    "# e1 = employee(\"Kshitij\",123,50000,\"ECE\")\n",
    "# e1._display()\n",
    "g1 = geeks(\"Kshitij\",123,50000,\"ECE\")\n",
    "g1.display()"
   ]
  },
  {
   "cell_type": "code",
   "execution_count": 45,
   "id": "cef52c6d",
   "metadata": {},
   "outputs": [
    {
     "name": "stdout",
     "output_type": "stream",
     "text": [
      "5000\n"
     ]
    }
   ],
   "source": [
    "class BankAccount:\n",
    "    def __init__(self, account_number, balance):\n",
    "        self.__account_number = account_number\n",
    "        self.__balance = balance\n",
    "    \n",
    "    def __display_balance(self):\n",
    "        print(\"Balance:\", self.__balance)\n",
    "\n",
    "b = BankAccount(1234567890, 5000)\n",
    "print(b._BankAccount__balance)"
   ]
  },
  {
   "cell_type": "code",
   "execution_count": 56,
   "id": "31804b2a",
   "metadata": {},
   "outputs": [
    {
     "name": "stdout",
     "output_type": "stream",
     "text": [
      "Name:  Kshitij\n",
      "id:  123\n",
      "Salary:  50000\n",
      "Dept:  ECE\n"
     ]
    }
   ],
   "source": [
    "# Private\n",
    "class employee:\n",
    "    def __init__(self,name,id1,sal,dep):\n",
    "        self.__name = name\n",
    "        self.__id1 = id1\n",
    "        self.__sal = sal\n",
    "        self.__dep = dep\n",
    "    def __display(self):\n",
    "        print(\"Name: \",e1.__name)\n",
    "        print(\"id: \",e1.__id1)\n",
    "        print(\"Salary: \",self.__sal)\n",
    "        print(\"Dept: \",self.__dep)\n",
    "    def display(self):\n",
    "        self.__display()\n",
    "\n",
    "e1 = employee(\"Kshitij\",123,50000,\"ECE\")\n",
    "e1._employee__display()"
   ]
  },
  {
   "cell_type": "code",
   "execution_count": 76,
   "id": "89407c31",
   "metadata": {},
   "outputs": [
    {
     "name": "stdout",
     "output_type": "stream",
     "text": [
      "5\n",
      "[5, 4, 3, 2, 1]\n"
     ]
    }
   ],
   "source": [
    "# WAP to produce a no from 5 to 1 and append to the list using recursion\n",
    "\n",
    "l = []\n",
    "\n",
    "def r(n):\n",
    "    if n ==0:\n",
    "        return\n",
    "    else:\n",
    "        l.append(n)\n",
    "        r(n-1)\n",
    "    return\n",
    "\n",
    "n = int(input())\n",
    "r(n)\n",
    "print(l)"
   ]
  },
  {
   "cell_type": "code",
   "execution_count": 86,
   "id": "b77d1094",
   "metadata": {},
   "outputs": [
    {
     "name": "stdout",
     "output_type": "stream",
     "text": [
      "[5, 10, 15, 20, 25, 30, 35, 40, 45, 50]\n"
     ]
    }
   ],
   "source": [
    "# WAP to print 5th table using recursion.\n",
    "\n",
    "l = []\n",
    "\n",
    "def table(n):\n",
    "    if n==11:\n",
    "        return\n",
    "    else:\n",
    "        l.append(n*5)\n",
    "        table(n+1)\n",
    "        \n",
    "    return\n",
    "d = table(1)    \n",
    "print(l)"
   ]
  },
  {
   "cell_type": "code",
   "execution_count": null,
   "id": "e6833c83",
   "metadata": {},
   "outputs": [],
   "source": []
  },
  {
   "cell_type": "code",
   "execution_count": null,
   "id": "6a4be9f1",
   "metadata": {},
   "outputs": [],
   "source": []
  }
 ],
 "metadata": {
  "kernelspec": {
   "display_name": "Python 3 (ipykernel)",
   "language": "python",
   "name": "python3"
  },
  "language_info": {
   "codemirror_mode": {
    "name": "ipython",
    "version": 3
   },
   "file_extension": ".py",
   "mimetype": "text/x-python",
   "name": "python",
   "nbconvert_exporter": "python",
   "pygments_lexer": "ipython3",
   "version": "3.11.5"
  }
 },
 "nbformat": 4,
 "nbformat_minor": 5
}
