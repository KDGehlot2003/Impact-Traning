{
 "cells": [
  {
   "cell_type": "code",
   "execution_count": 3,
   "id": "40d894d2",
   "metadata": {},
   "outputs": [
    {
     "name": "stdout",
     "output_type": "stream",
     "text": [
      "1 2 3 4 3 5 3 7\n",
      "3\n",
      "[1, 2, 4, 5, 3, 7]\n"
     ]
    }
   ],
   "source": [
    "l = list(map(int, input().split())) #1 2 3 4 3 5 3 7\n",
    "d = int(input())\n",
    "c = l.count(d)\n",
    "for p in range(c):\n",
    "    l.remove(d)\n",
    "print(l)"
   ]
  },
  {
   "cell_type": "code",
   "execution_count": 10,
   "id": "719c4a8a",
   "metadata": {},
   "outputs": [
    {
     "name": "stdout",
     "output_type": "stream",
     "text": [
      "2\n",
      "2921522980M6544\n",
      "1313579440F2036\n",
      "\n",
      "2921522980\n",
      "Count 1\n"
     ]
    }
   ],
   "source": [
    "# 5\n",
    "# 7868190130M2522\n",
    "# 5303914400F3211\n",
    "# 9273338290F4010\n",
    "# 2921522980M6544\n",
    "# 1313579440F2036\n",
    "\n",
    "n = int(input())\n",
    "l = []\n",
    "count = 0\n",
    "for i in range(0,n):\n",
    "    l.append(input())\n",
    "for i in l:\n",
    "    if int(i[-4:-2]) >= 60:\n",
    "        count += 1\n",
    "        print()\n",
    "        print(i[:10])\n",
    "print(\"Count\",count)"
   ]
  },
  {
   "cell_type": "code",
   "execution_count": 3,
   "id": "28f8489b",
   "metadata": {},
   "outputs": [
    {
     "name": "stdout",
     "output_type": "stream",
     "text": [
      "7\n",
      "52 66 64 36 45 24 32\n",
      "207\n"
     ]
    }
   ],
   "source": [
    "# n = int(input())\n",
    "# arr = list(map(int,input().split()))\n",
    "# count = 0\n",
    "\n",
    "# for i in range(n-1):\n",
    "#     if arr[i]>=arr[i+1]:\n",
    "#         count = count + arr[i]\n",
    "# count = count + arr[n-1]\n",
    "\n",
    "# print(count)\n",
    "\n",
    "#52 66 64 36 45 24 32\n",
    "        \n",
    "n = int(input())\n",
    "l = list(map(int,input().split()))\n",
    "r =[]\n",
    "\n",
    "for p in range(len(l)):\n",
    "    for q in range(p+1,len(l)):\n",
    "        if (l[q]>l[p]):\n",
    "            break\n",
    "    else:\n",
    "        r.append(l[p])\n",
    "            \n",
    "# print(r)\n",
    "if(len(r)>=1):\n",
    "    print(sum(r))\n",
    "else:\n",
    "    print(\"-1\")\n"
   ]
  },
  {
   "cell_type": "markdown",
   "id": "a2a5af5f",
   "metadata": {},
   "source": [
    "# Dictionary\n",
    "\n",
    "1. Dictionary object can be created by using {} by calling dict function .\n",
    "2. Dictionary is mutable object.\n",
    "3. insertion order is preserve.\n",
    "4. indexing is not support.\n",
    "5. duplicate keys are not allowed.\n",
    "6. duplicate values are allowed.\n",
    "7. Dictionary is collection of homogenous and heterogenous keys and values.\n",
    "8. Indexing and slicing ia not support in Dictionary.\n",
    "9. Dictionary is collection of key and value pair (the key and value pair is called item).\n"
   ]
  },
  {
   "cell_type": "code",
   "execution_count": 9,
   "id": "037581c8",
   "metadata": {},
   "outputs": [
    {
     "data": {
      "text/plain": [
       "{'a': 10, 'b': 12.5, 'c': 'Krishna', 'f': 20}"
      ]
     },
     "execution_count": 9,
     "metadata": {},
     "output_type": "execute_result"
    }
   ],
   "source": [
    "d = {'a':10,'b':12.5,'c':\"Krishna\"}\n",
    "d['f']=20\n",
    "d"
   ]
  },
  {
   "cell_type": "code",
   "execution_count": 18,
   "id": "53179946",
   "metadata": {},
   "outputs": [
    {
     "name": "stdout",
     "output_type": "stream",
     "text": [
      "ECE\n",
      "65000\n"
     ]
    }
   ],
   "source": [
    "e = {\"Name\":\"Rakesh\",\"id1\":101,\"Dept\":\"ECE\",\"Salary\":65000}\n",
    "print(e[\"Dept\"])\n",
    "print(e.get(\"Salary\"))"
   ]
  },
  {
   "cell_type": "code",
   "execution_count": 36,
   "id": "8a193ac3",
   "metadata": {},
   "outputs": [
    {
     "name": "stdout",
     "output_type": "stream",
     "text": [
      "Name\n",
      "id1\n",
      "Dept\n",
      "Salary\n",
      "\n",
      "Rakesh\n",
      "101\n",
      "ECE\n",
      "65000\n",
      "\n",
      "Name Rakesh\n",
      "id1 101\n",
      "Dept ECE\n",
      "Salary 65000\n",
      "\n",
      "('Name', 'Rakesh')\n",
      "('id1', 101)\n",
      "('Dept', 'ECE')\n",
      "('Salary', 65000)\n",
      "\n",
      "Name Rakesh\n",
      "id1 101\n",
      "Dept ECE\n",
      "Salary 65000\n",
      "['Dept', 'Name', 'Salary', 'id1']\n"
     ]
    }
   ],
   "source": [
    "for p in e.keys():\n",
    "    print(p)\n",
    "print()\n",
    "for p in e.values():\n",
    "    print(p)\n",
    "print()\n",
    "for p,q in e.items():\n",
    "    print(p,q)\n",
    "print()  \n",
    "for s in e.items():\n",
    "    print(s)\n",
    "print()\n",
    "for s in e.items():\n",
    "    print(s[0],s[1])\n",
    "    \n",
    "lst = sorted(list(e.keys()))\n",
    "print(lst)"
   ]
  },
  {
   "cell_type": "markdown",
   "id": "9daf99e6",
   "metadata": {},
   "source": [
    "## Dictionary Compression\n",
    "\n",
    "The concept of generating elements into dictionary elements by writing some logic in the dictionary.\n",
    "\n",
    "By using Dictionary Compression we can reduce no. of lines in our code."
   ]
  },
  {
   "cell_type": "code",
   "execution_count": 37,
   "id": "fcaa3d34",
   "metadata": {},
   "outputs": [
    {
     "name": "stdout",
     "output_type": "stream",
     "text": [
      "{2: 4, 4: 16, 6: 36, 8: 64, 10: 100, 12: 144, 14: 196, 16: 256, 18: 324, 20: 400}\n"
     ]
    }
   ],
   "source": [
    "# WAP to print Squares of even no. from 1 to 20. key is a number and value is square of number\n",
    "\n",
    "d={p:p*p for p in range(1,21) if (p%2==0)}\n",
    "print(d)\n"
   ]
  },
  {
   "cell_type": "code",
   "execution_count": 42,
   "id": "7dabdead",
   "metadata": {},
   "outputs": [
    {
     "name": "stdout",
     "output_type": "stream",
     "text": [
      "{31: 29791, 33: 35937, 35: 42875, 37: 50653, 39: 59319, 41: 68921, 43: 79507, 45: 91125, 47: 103823, 49: 117649}\n",
      "{'H': 1, 'y': 1, 'd': 2, 'e': 1, 'r': 1, 'a': 2, 'b': 1}\n"
     ]
    }
   ],
   "source": [
    "# WAP to print Cubes of odd no. from 30 to 50.\n",
    "\n",
    "d={p:p**3 for p in range(30,51) if (p%2!=0)}\n",
    "print(d)\n",
    "\n",
    "x = \"Hyderabad\"\n",
    "d={p:x.count(p) for p in x}\n",
    "print(d)"
   ]
  },
  {
   "cell_type": "code",
   "execution_count": 45,
   "id": "68ed7062",
   "metadata": {},
   "outputs": [
    {
     "data": {
      "text/plain": [
       "{'e': 1, 'a': 2}"
      ]
     },
     "execution_count": 45,
     "metadata": {},
     "output_type": "execute_result"
    }
   ],
   "source": [
    "# WAP to read a string from the user and print vovel count\n",
    "\n",
    "x = \"hyderabad\"\n",
    "\n",
    "d = {p:x.count(p) for p in x if p in \"aeiou\"}\n",
    "d"
   ]
  },
  {
   "cell_type": "code",
   "execution_count": 18,
   "id": "054a17f8",
   "metadata": {},
   "outputs": [
    {
     "name": "stdout",
     "output_type": "stream",
     "text": [
      "aba\n",
      "a\n"
     ]
    }
   ],
   "source": [
    "def FindMostFrequentVowel(words):\n",
    "    d = {p:words.count(p) for p in words if p in \"aeiou\"}\n",
    "    max_val = max(d.values())\n",
    "    for p,q in d.items():\n",
    "        if q==max_val:\n",
    "    \n",
    "            print(p)\n",
    "    \n",
    "    \n",
    "    \n",
    "    \n",
    "words = input()\n",
    "FindMostFrequentVowel(words)"
   ]
  },
  {
   "cell_type": "code",
   "execution_count": 12,
   "id": "812d52ac",
   "metadata": {},
   "outputs": [
    {
     "name": "stdout",
     "output_type": "stream",
     "text": [
      "liril\n",
      "t\n",
      "ltrtl\n"
     ]
    }
   ],
   "source": [
    "def frequent_character_replaced(string,x):\n",
    "    d = {p:string.count(p) for p in string}\n",
    "    l = []\n",
    "    max_val = max(d.values())\n",
    "    for p,q in d.items():\n",
    "        if(max_val==q):\n",
    "            l.append(p)\n",
    "    l.sort()\n",
    "#     print(l[0])\n",
    "    \n",
    "    res = ''\n",
    "    for p in string:\n",
    "        if (p==l[0]):\n",
    "            res = res + x\n",
    "        else:\n",
    "            res = res + p\n",
    "    print(res)\n",
    "    \n",
    "    \n",
    "    \n",
    "string = input()\n",
    "target = input()\n",
    "frequent_character_replaced(string,target)\n"
   ]
  },
  {
   "cell_type": "code",
   "execution_count": 40,
   "id": "531127e3",
   "metadata": {},
   "outputs": [
    {
     "name": "stdout",
     "output_type": "stream",
     "text": [
      "8\n",
      "1 2 2 3 4 4 4 4\n",
      "4\n"
     ]
    }
   ],
   "source": [
    "n = int(input())\n",
    "arr = list(map(int, input().split()))[:n]\n",
    "# print(arr)\n",
    "\n",
    "\n",
    "d = {p:arr.count(p) for p in arr}\n",
    "\n",
    "l = []\n",
    "\n",
    "for p,q in d.items():\n",
    "    if (p==q):\n",
    "        l.append(p)\n",
    "\n",
    "if (len(l)>=1):\n",
    "    print(max(l))\n",
    "else:\n",
    "    print(\"-1\")\n"
   ]
  },
  {
   "cell_type": "code",
   "execution_count": 21,
   "id": "86137fe4",
   "metadata": {},
   "outputs": [
    {
     "name": "stdout",
     "output_type": "stream",
     "text": [
      "[('anil', 56), ('bharathi', 29), ('krishna', 32), ('raju', 45), ('saritha', 2), ('zoo', 34)]\n",
      "{'anil': 56, 'bharathi': 29, 'krishna': 32, 'raju': 45, 'saritha': 2, 'zoo': 34}\n",
      "{'saritha': 2, 'bharathi': 29, 'krishna': 32, 'zoo': 34, 'raju': 45, 'anil': 56}\n"
     ]
    }
   ],
   "source": [
    "# ip:d={\"raju\":45,\"anil\":56,\"zoo\":34,\"saritha\":2,\"bharathi\":29,\"krishna\":32}\n",
    "# op:{\"anil\":56,\"bharathi\":29--}\n",
    "#{\"saritha\":2,\"bharathi\":29,\"krishna\":32--}\n",
    "\n",
    "d={\"raju\":45,\"anil\":56,\"zoo\":34,\"saritha\":2,\"bharathi\":29,\"krishna\":32}\n",
    "\n",
    "\n",
    "ans = sorted(d.items())\n",
    "print(ans)\n",
    "\n",
    "\n",
    "d={\"raju\":45 , \"anil\":56 , \"zoo\":34 , \"saritha\":2 , \"bharathi\":29 , \"krishna\":32}\n",
    "\n",
    "x=sorted(d.keys())\n",
    "\n",
    "# print(x)\n",
    "\n",
    "out1={}\n",
    "\n",
    "for i in x:\n",
    "    out1[i]=d[i]\n",
    "\n",
    "print(out1)\n",
    "\n",
    "y=sorted(d.values())\n",
    "\n",
    "# print(y)\n",
    "out2={}\n",
    "for i in y:\n",
    "    for p,q in d.items():\n",
    "        if(q==i):\n",
    "            out2[p]=q\n",
    "print(out2)\n",
    "\n",
    "                    "
   ]
  },
  {
   "cell_type": "markdown",
   "id": "68b8a4f3",
   "metadata": {},
   "source": [
    "## Nested Dictonary\n",
    "\n",
    "1. Dictonary within another dictonary is called nested dictonary."
   ]
  },
  {
   "cell_type": "code",
   "execution_count": 24,
   "id": "1b428168",
   "metadata": {},
   "outputs": [
    {
     "name": "stdout",
     "output_type": "stream",
     "text": [
      "Krishna Avg: 22.67\n",
      "raju Avg: 19.67\n",
      "saritha Avg: 19.33\n"
     ]
    }
   ],
   "source": [
    "d = {\"Krishna\":[23,21,24],\"raju\":[21,20,18],\"saritha\":[22,20,16]}\n",
    "for p,q in d.items():\n",
    "    print(p,end=\" \")\n",
    "    s = sum(q)\n",
    "    avg = s/len(q)\n",
    "    print(\"Avg: %.2f\"%avg)"
   ]
  },
  {
   "cell_type": "code",
   "execution_count": 54,
   "id": "e59a4768",
   "metadata": {},
   "outputs": [
    {
     "name": "stdout",
     "output_type": "stream",
     "text": [
      "3\n",
      "kd 10 15\n",
      "df 30 40\n",
      "er 50 100\n",
      "df\n",
      "35.0\n"
     ]
    }
   ],
   "source": [
    "# Hackerrank Quetion\n",
    "\n",
    "n = int(input())\n",
    "arr = []\n",
    "for i in range(n):\n",
    "    lst = list(map(str,input().split()))\n",
    "    arr.append(lst)\n",
    "target = input()\n",
    "# print(arr)\n",
    "\n",
    "dic1 = {}\n",
    "\n",
    "for i in arr:\n",
    "    dic1[i[0]]=i[1:]\n",
    "s = 0\n",
    "for p,q in dic1.items():\n",
    "    if target==p:\n",
    "        for i in q:\n",
    "            i = int(i)\n",
    "            s = s + i \n",
    "            avg = s/len(q)\n",
    "\n",
    "print(avg\n",
    "      \n",
    "# or \n",
    "      \n",
    "n=int(input(())\n",
    "\n",
    "d={}\n",
    "\n",
    "for p in range(n):\n",
    "      name,*m = input().split() #krishna 21 23 24\n",
    "      marks = list(map(int,m)) \n",
    "      d.update((name:marks))\n",
    "\n",
    "print (d)\n",
    "name=input()\n",
    "m1=d[name]\n",
    "avg=sum(ml)/len (ml)\n",
    "print(\"Avg:%.2f\"%avg)"
   ]
  },
  {
   "cell_type": "code",
   "execution_count": 64,
   "id": "30185b21",
   "metadata": {},
   "outputs": [
    {
     "name": "stdout",
     "output_type": "stream",
     "text": [
      "Krishna\n",
      "23\n",
      "18\n",
      "20\n",
      "\n",
      "Saritha\n",
      "21\n",
      "19\n",
      "22\n",
      "\n",
      "Raju\n",
      "20\n",
      "17\n",
      "22\n",
      "\n"
     ]
    }
   ],
   "source": [
    "d = {\"Krishna\":{\"Python\":23,\"c\":18,\"C++\":20},\n",
    "     \"Saritha\":{\"Python\":21,\"c\":19,\"C++\":22},\n",
    "     \"Raju\":{\"Python\":20,\"c\":17,\"C++\":22}}\n",
    "\n",
    "for p,q in d.items():\n",
    "    print(p)\n",
    "    for v in q.values():\n",
    "        print(v)\n",
    "    print()\n"
   ]
  },
  {
   "cell_type": "markdown",
   "id": "1cfdfece",
   "metadata": {},
   "source": [
    "## String Method\n",
    "\n",
    "s = [\"Python\",\"ML\",\"DS\",\"AI]\n"
   ]
  },
  {
   "cell_type": "code",
   "execution_count": 73,
   "id": "edf1fe30",
   "metadata": {},
   "outputs": [
    {
     "name": "stdout",
     "output_type": "stream",
     "text": [
      "Python ML DS AI\n",
      "4\n",
      "9\n",
      "11\n",
      "9\n",
      "15\n",
      "False\n",
      "True\n",
      "guntu vijvyvwvdv\n"
     ]
    }
   ],
   "source": [
    "s = [\"Python\",\"ML\",\"DS\",\"AI\"]\n",
    "r = \" \".join(s)\n",
    "print(r)\n",
    "\n",
    "s =\"guntu vijayawada\"\n",
    "print(s.count('a'))\n",
    "print(s.index('a'))\n",
    "print(s.index('a',11,15))\n",
    "print(s.find('a'))\n",
    "print(s.rfind('a'))\n",
    "print(s.startswith('v'))\n",
    "print(s.endswith('a'))\n",
    "print(s.replace('a','v'))"
   ]
  },
  {
   "cell_type": "code",
   "execution_count": 80,
   "id": "3151574a",
   "metadata": {},
   "outputs": [
    {
     "name": "stdout",
     "output_type": "stream",
     "text": [
      "-1\n",
      "😂\n"
     ]
    }
   ],
   "source": [
    "s = \"Krishna\"\n",
    "print(s.find(\"d\"))\n",
    "try:\n",
    "    print(s.index(\"d\"))\n",
    "except:\n",
    "    print(\"😂\")"
   ]
  },
  {
   "cell_type": "code",
   "execution_count": 88,
   "id": "598e5d8b",
   "metadata": {},
   "outputs": [
    {
     "name": "stdout",
     "output_type": "stream",
     "text": [
      "gujarat vadodara\n",
      "##Krishna###\n",
      "KRishna\n",
      "True\n"
     ]
    }
   ],
   "source": [
    "s = \" gujarat vadodara \"\n",
    "print(s.strip())\n",
    "s = \"Krishna\"\n",
    "print(s.center(12,\"#\"))\n",
    "s = \"krISHNA\"\n",
    "print(s.swapcase())\n",
    "s = \" \"\n",
    "print(s.isspace())"
   ]
  },
  {
   "cell_type": "code",
   "execution_count": 99,
   "id": "7efab330",
   "metadata": {},
   "outputs": [
    {
     "name": "stdout",
     "output_type": "stream",
     "text": [
      "not a Palindrome\n",
      "anhsirk\n"
     ]
    }
   ],
   "source": [
    "# WAP to read string from the user and find reverse of the string and check whether it is palindrome or not.\n",
    "\n",
    "s = \"krishna\"\n",
    "rev = ''\n",
    "for i in range(1,len(s)+1):\n",
    "    rev = rev + s[-i]\n",
    "if rev==s:\n",
    "    print(\"Palindrome\")\n",
    "else:\n",
    "    print(\"not a Palindrome\")\n",
    "\n",
    "print(rev)"
   ]
  },
  {
   "cell_type": "code",
   "execution_count": 112,
   "id": "132b01fe",
   "metadata": {},
   "outputs": [
    {
     "name": "stdout",
     "output_type": "stream",
     "text": [
      "3\n",
      "5\n"
     ]
    }
   ],
   "source": [
    "s = \"lokesh it\"\n",
    "count_v = 0\n",
    "count_c = 0\n",
    "\n",
    "\n",
    "for i in s:\n",
    "    if i in  'aeiou':\n",
    "        count_v = count_v + 1\n",
    "    elif i in ' ':\n",
    "        continue\n",
    "    elif i not in 'aeiou':\n",
    "        count_c = count_c + 1\n",
    "\n",
    "print(count_v)\n",
    "print(count_c)\n"
   ]
  },
  {
   "cell_type": "code",
   "execution_count": 124,
   "id": "7a8cf9fd",
   "metadata": {},
   "outputs": [
    {
     "name": "stdout",
     "output_type": "stream",
     "text": [
      "cat batman latt matter cat matter cat cat latt latt\n",
      "3\n",
      "cat latt "
     ]
    }
   ],
   "source": [
    "# HW \n",
    "# cat batman latt matter cat matter cat cat latt latt\n",
    "\n",
    "sentence = list(map(str,input().split()))\n",
    "n = int(input())\n",
    "# print(sentence)\n",
    "\n",
    "d = {p:sentence.count(p) for p in sentence}\n",
    "# print(d)\n",
    "\n",
    "for p,q in d.items():\n",
    "    if q>=n:\n",
    "        print(p,end=\" \")"
   ]
  },
  {
   "cell_type": "code",
   "execution_count": 125,
   "id": "9dec2316",
   "metadata": {},
   "outputs": [
    {
     "name": "stdout",
     "output_type": "stream",
     "text": [
      "this is a string\n",
      "this-is-a-string\n"
     ]
    }
   ],
   "source": [
    "# HW\n",
    "# this is a string\n",
    "\n",
    "sentence = input()\n",
    "x = sentence.split()\n",
    "y = \"-\".join(x)\n",
    "print(y)"
   ]
  },
  {
   "cell_type": "code",
   "execution_count": null,
   "id": "4cb0362c",
   "metadata": {},
   "outputs": [],
   "source": []
  }
 ],
 "metadata": {
  "kernelspec": {
   "display_name": "Python 3 (ipykernel)",
   "language": "python",
   "name": "python3"
  },
  "language_info": {
   "codemirror_mode": {
    "name": "ipython",
    "version": 3
   },
   "file_extension": ".py",
   "mimetype": "text/x-python",
   "name": "python",
   "nbconvert_exporter": "python",
   "pygments_lexer": "ipython3",
   "version": "3.11.5"
  }
 },
 "nbformat": 4,
 "nbformat_minor": 5
}
