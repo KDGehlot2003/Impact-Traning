{
 "cells": [
  {
   "cell_type": "markdown",
   "id": "2d5a67cc",
   "metadata": {},
   "source": [
    "# Star Pattern "
   ]
  },
  {
   "cell_type": "code",
   "execution_count": 2,
   "id": "81627df7",
   "metadata": {},
   "outputs": [
    {
     "name": "stdout",
     "output_type": "stream",
     "text": [
      "5\n",
      "* * * * * \n",
      "* * * * * \n",
      "* * * * * \n",
      "* * * * * \n",
      "* * * * * \n"
     ]
    }
   ],
   "source": [
    "# Print Square\n",
    "# *****\n",
    "# *****\n",
    "# *****\n",
    "# *****\n",
    "# *****\n",
    "\n",
    "n = int(input())\n",
    "for i in range(1,n+1):\n",
    "    for j in range(1,n+1):\n",
    "        print('*',end=\" \")\n",
    "    print()"
   ]
  },
  {
   "cell_type": "code",
   "execution_count": 6,
   "id": "08b0adcb",
   "metadata": {},
   "outputs": [
    {
     "name": "stdout",
     "output_type": "stream",
     "text": [
      "Row: 5\n",
      "Col: 10\n",
      "* * * * * * * * * * \n",
      "* * * * * * * * * * \n",
      "* * * * * * * * * * \n",
      "* * * * * * * * * * \n",
      "* * * * * * * * * * \n"
     ]
    }
   ],
   "source": [
    "# Print Reactangle\n",
    "# * * * * * * * * * * \n",
    "# * * * * * * * * * * \n",
    "# * * * * * * * * * * \n",
    "# * * * * * * * * * * \n",
    "# * * * * * * * * * * \n",
    "\n",
    "\n",
    "row = int(input('Row: '))\n",
    "col = int(input('Col: '))\n",
    "\n",
    "for i in range(1,row+1):\n",
    "    for j in range(1,col+1):\n",
    "        print(\"*\",end=\" \")\n",
    "    print()"
   ]
  },
  {
   "cell_type": "code",
   "execution_count": 17,
   "id": "b3543ec8",
   "metadata": {},
   "outputs": [
    {
     "name": "stdout",
     "output_type": "stream",
     "text": [
      "5\n",
      "* * * * * \n",
      "*       * \n",
      "*       * \n",
      "*       * \n",
      "* * * * * \n"
     ]
    }
   ],
   "source": [
    "# Hollow Square Star Pattern\n",
    "# * * * * * \n",
    "# *       * \n",
    "# *       * \n",
    "# *       * \n",
    "# * * * * *\n",
    "\n",
    "n = int(input())\n",
    "for i in range(1,n+1):\n",
    "    for j in range(1,n+1):\n",
    "        if i==1 or i==n:\n",
    "            print(\"*\",end=\" \")\n",
    "        elif j==1 or j==n:\n",
    "                print(\"*\",end=\" \")\n",
    "        else:\n",
    "            print(\" \",end=\" \")\n",
    "    print()"
   ]
  },
  {
   "cell_type": "code",
   "execution_count": 23,
   "id": "6fe87cfd",
   "metadata": {},
   "outputs": [
    {
     "name": "stdout",
     "output_type": "stream",
     "text": [
      "Row: 5\n",
      "Col: 10\n",
      "* * * * * * * * * * \n",
      "*                 * \n",
      "*                 * \n",
      "*                 * \n",
      "* * * * * * * * * * \n"
     ]
    }
   ],
   "source": [
    "# Hollow Reactangle Star Pattern\n",
    "# * * * * * * * * * * \n",
    "# *                 * \n",
    "# *                 * \n",
    "# *                 * \n",
    "# * * * * * * * * * * \n",
    "\n",
    "\n",
    "row = int(input(\"Row: \"))\n",
    "col = int(input(\"Col: \"))\n",
    "\n",
    "for i in range(1,row+1):\n",
    "    for j in range(1,col+1):\n",
    "        if i==1 or i==row:\n",
    "            print(\"*\",end=\" \")\n",
    "        elif j==1 or j==col:\n",
    "            print(\"*\",end=\" \")\n",
    "        else:\n",
    "            print(\" \",end=\" \")\n",
    "    print()"
   ]
  },
  {
   "cell_type": "code",
   "execution_count": 40,
   "id": "f7c38e65",
   "metadata": {},
   "outputs": [
    {
     "name": "stdout",
     "output_type": "stream",
     "text": [
      "10\n",
      "* * * * * * * * * * \n",
      "* *             * * \n",
      "*   *         *   * \n",
      "*     *     *     * \n",
      "*       * *       * \n",
      "*       * *       * \n",
      "*     *     *     * \n",
      "*   *         *   * \n",
      "* *             * * \n",
      "* * * * * * * * * * \n"
     ]
    }
   ],
   "source": [
    "# Hollow Square Star Pattern with diagonal\n",
    "# * * * * * \n",
    "# * *   * * \n",
    "# *   *   * \n",
    "# * *   * * \n",
    "# * * * * *\n",
    "\n",
    "n = int(input())\n",
    "\n",
    "for i in range(1,n+1):\n",
    "    for j in range(1,n+1):\n",
    "        if i==1 or i==n or i==j:\n",
    "            print(\"*\",end=\" \")\n",
    "        elif j==1 or j==n or j==n-i+1:\n",
    "            print(\"*\",end=\" \")\n",
    "        else:\n",
    "            print(\" \",end=\" \")\n",
    "    print()"
   ]
  },
  {
   "cell_type": "code",
   "execution_count": 86,
   "id": "ec3c4bc5",
   "metadata": {},
   "outputs": [
    {
     "name": "stdout",
     "output_type": "stream",
     "text": [
      "5\n",
      "    *****\n",
      "   *****\n",
      "  *****\n",
      " *****\n",
      "*****\n"
     ]
    }
   ],
   "source": [
    "# Print Rhombus\n",
    "#     *****\n",
    "#    *****\n",
    "#   *****\n",
    "#  *****\n",
    "# *****\n",
    "\n",
    "n = int(input())\n",
    "for i in range(1,n+1):\n",
    "    for j in range(1,n+1):\n",
    "        if j<=n-i:\n",
    "            print(\" \",end=\"\")\n",
    "    for k in range(1,n+1):\n",
    "        print(\"*\",end=\"\")\n",
    "        \n",
    "    print()"
   ]
  },
  {
   "cell_type": "code",
   "execution_count": 101,
   "id": "d0158390",
   "metadata": {},
   "outputs": [
    {
     "name": "stdout",
     "output_type": "stream",
     "text": [
      "Row: 5\n",
      "Col: 10\n",
      "        * * * * * * * * * * \n",
      "      * * * * * * * * * * \n",
      "    * * * * * * * * * * \n",
      "  * * * * * * * * * * \n",
      "* * * * * * * * * * \n"
     ]
    }
   ],
   "source": [
    "# Parallelogram\n",
    "#         * * * * * * * * * * \n",
    "#       * * * * * * * * * * \n",
    "#     * * * * * * * * * * \n",
    "#   * * * * * * * * * * \n",
    "# * * * * * * * * * * \n",
    "\n",
    "row = int(input(\"Row: \"))\n",
    "col = int(input(\"Col: \"))\n",
    "\n",
    "for i in range(1,row+1):\n",
    "    for j in range(1,row+1):\n",
    "        if j<=row-i:\n",
    "            print(\" \",end=\" \")\n",
    "    for k in range(1,col+1):\n",
    "        print(\"*\",end=\" \")\n",
    "        \n",
    "    print()"
   ]
  },
  {
   "cell_type": "code",
   "execution_count": 124,
   "id": "187c03f8",
   "metadata": {},
   "outputs": [
    {
     "name": "stdout",
     "output_type": "stream",
     "text": [
      "5\n",
      "    *****\n",
      "   *   *\n",
      "  *   *\n",
      " *   *\n",
      "*****\n"
     ]
    }
   ],
   "source": [
    "# hollow Rhombus\n",
    "#     *****\n",
    "#    *   *\n",
    "#   *   *\n",
    "#  *   *\n",
    "# *****\n",
    "\n",
    "n = int(input())\n",
    "\n",
    "for i in range(1,n+1):\n",
    "    for j in range(1,n+1):\n",
    "        if j<=n-i:\n",
    "            print(\" \",end=\"\")\n",
    "    for k in range(1,n+1):\n",
    "        if i==1 or i==n or k==1 or k==n: \n",
    "            print(\"*\",end=\"\")\n",
    "        else:\n",
    "            print(\" \",end=\"\")\n",
    "    print()"
   ]
  },
  {
   "cell_type": "code",
   "execution_count": 135,
   "id": "9e621f21",
   "metadata": {},
   "outputs": [
    {
     "name": "stdout",
     "output_type": "stream",
     "text": [
      "Row: 5\n",
      "Col: 10\n",
      "          * * * * * * * * * * \n",
      "        *                 * \n",
      "      *                 * \n",
      "    *                 * \n",
      "  * * * * * * * * * * \n"
     ]
    }
   ],
   "source": [
    "# Hollow Parallelogram\n",
    "#           * * * * * * * * * * \n",
    "#         *                 * \n",
    "#       *                 * \n",
    "#     *                 * \n",
    "#   * * * * * * * * * * \n",
    "\n",
    "row = int(input(\"Row: \"))\n",
    "col = int(input(\"Col: \"))\n",
    "\n",
    "for i in range(1,row+1):\n",
    "    for j in range(1,row+1):\n",
    "        if j<=row-i+1:\n",
    "            print(\" \",end=\" \")\n",
    "    for k in range(1,col+1):\n",
    "        if k==1 or k==col or i==1 or i==row:\n",
    "            print(\"*\",end=\" \")\n",
    "        else:\n",
    "            print(\" \",end=\" \")\n",
    "    print()"
   ]
  },
  {
   "cell_type": "code",
   "execution_count": 139,
   "id": "44bd8af0",
   "metadata": {},
   "outputs": [
    {
     "name": "stdout",
     "output_type": "stream",
     "text": [
      "5\n",
      "  * * * * * \n",
      "    * * * * * \n",
      "      * * * * * \n",
      "        * * * * * \n",
      "          * * * * * \n"
     ]
    }
   ],
   "source": [
    "# Mirror Rhombus\n",
    "#   * * * * * \n",
    "#     * * * * * \n",
    "#       * * * * * \n",
    "#         * * * * * \n",
    "#           * * * * * \n",
    "\n",
    "n = int(input())\n",
    "\n",
    "for i in range(1,n+1):\n",
    "    for j in range(1,i+1):\n",
    "            print(\" \",end=\" \")\n",
    "    for k in range(1,n+1):\n",
    "        print(\"*\",end=\" \")\n",
    "    print()"
   ]
  },
  {
   "cell_type": "code",
   "execution_count": 146,
   "id": "6398ee38",
   "metadata": {},
   "outputs": [
    {
     "name": "stdout",
     "output_type": "stream",
     "text": [
      "5\n",
      "  * * * * * \n",
      "    *       * \n",
      "      *       * \n",
      "        *       * \n",
      "          * * * * * \n"
     ]
    }
   ],
   "source": [
    "# Hollow Mirror Rhombus\n",
    "#   * * * * * \n",
    "#     *       * \n",
    "#       *       * \n",
    "#         *       * \n",
    "#           * * * * * \n",
    "\n",
    "\n",
    "n = int(input())\n",
    "\n",
    "for i in range(1,n+1):\n",
    "    for j in range(1,i+1):\n",
    "            print(\" \",end=\" \")\n",
    "    for k in range(1,n+1):\n",
    "        if k==1 or k==n or i==1 or i==n:\n",
    "            print(\"*\",end=\" \")\n",
    "        else:\n",
    "            print(\" \",end=\" \")\n",
    "    print()"
   ]
  },
  {
   "cell_type": "code",
   "execution_count": 151,
   "id": "364606bc",
   "metadata": {},
   "outputs": [
    {
     "name": "stdout",
     "output_type": "stream",
     "text": [
      "5\n",
      "*\n",
      "**\n",
      "***\n",
      "****\n",
      "*****\n"
     ]
    }
   ],
   "source": [
    "# Right angled traingle\n",
    "# *2wqa33w3ew32w3wewe3\n",
    "\n",
    "n = int(input())\n",
    "\n",
    "for i in range(1,n+1):\n",
    "    for j in range(1,i+1):\n",
    "        print(\"*\",end=\"\")\n",
    "    print()"
   ]
  },
  {
   "cell_type": "code",
   "execution_count": null,
   "id": "f93cac35",
   "metadata": {},
   "outputs": [],
   "source": []
  }
 ],
 "metadata": {
  "kernelspec": {
   "display_name": "Python 3 (ipykernel)",
   "language": "python",
   "name": "python3"
  },
  "language_info": {
   "codemirror_mode": {
    "name": "ipython",
    "version": 3
   },
   "file_extension": ".py",
   "mimetype": "text/x-python",
   "name": "python",
   "nbconvert_exporter": "python",
   "pygments_lexer": "ipython3",
   "version": "3.11.5"
  }
 },
 "nbformat": 4,
 "nbformat_minor": 5
}
