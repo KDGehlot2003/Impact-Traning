{
 "cells": [
  {
   "cell_type": "markdown",
   "id": "ccdbe257",
   "metadata": {},
   "source": [
    "# Dynamic Programming\n",
    "\n",
    "- One problem can be solve in different way such as:\n",
    "    1. Using iterative approach (using loops)\n",
    "    2. Using Recursive Method\n",
    "    3. Using Tabular method and Memorization\n",
    "\n",
    "\n",
    "   \n",
    "- Using Tabular and Memorization methods comes under DP\n",
    "- The first two approaches will consume more time a more memory that is time complexity is more.\n",
    "- Optimization can be acheaved through DP  _i.e Memory & Time optimization_.\n",
    "- DP will take more time as compare to greedy algorithm but it will take less time as compare to general approaches(loops and recursion).\n",
    "\n",
    "## 1. Using iterative method\n",
    "- Implementing of fibonacci series using iterative method."
   ]
  },
  {
   "cell_type": "code",
   "execution_count": 2,
   "id": "aa7780a1",
   "metadata": {},
   "outputs": [
    {
     "name": "stdout",
     "output_type": "stream",
     "text": [
      "Enter n: 1000\n",
      "0 1 1 2 3 5 8 13 21 34 55 89 144 233 377 610 987 "
     ]
    }
   ],
   "source": [
    "n = int(input(\"Enter n: \"))\n",
    "a = 0 \n",
    "b = 1\n",
    "print(a,b,end=\" \")\n",
    "c = a+b\n",
    "while(c<=n):\n",
    "    print(c,end=\" \")\n",
    "    a = b\n",
    "    b = c\n",
    "    c = a+b"
   ]
  },
  {
   "cell_type": "code",
   "execution_count": 17,
   "id": "f674fddf",
   "metadata": {},
   "outputs": [
    {
     "name": "stdout",
     "output_type": "stream",
     "text": [
      "55\n"
     ]
    }
   ],
   "source": [
    "# WAP to find 5th term in the fibonacci series using iterative method.\n",
    "\n",
    "def feb(n):\n",
    "    a = 0 \n",
    "    b = 1 \n",
    "    if n<0:\n",
    "        print(\"Invalid Term\")\n",
    "    elif n==0:\n",
    "        return a\n",
    "    elif n==1:\n",
    "        return b\n",
    "    else:\n",
    "        for i in range(2,n+1):\n",
    "            c = a + b\n",
    "            a = b\n",
    "            b = c\n",
    "    return b\n",
    "            \n",
    "f = feb(10)\n",
    "print(f)"
   ]
  },
  {
   "cell_type": "markdown",
   "id": "8ac92c08",
   "metadata": {},
   "source": [
    "### Finding the nth term using recursive approach\n",
    "<img src=\"DP_fab.jpg\"/>"
   ]
  },
  {
   "cell_type": "code",
   "execution_count": 21,
   "id": "4f20abe3",
   "metadata": {},
   "outputs": [
    {
     "name": "stdout",
     "output_type": "stream",
     "text": [
      "13\n"
     ]
    }
   ],
   "source": [
    "# WAP Finding the nth term using recursive approach\n",
    "\n",
    "def feb_rec(n):\n",
    "    if n<=1:\n",
    "        return n\n",
    "    else:\n",
    "        return feb_rec(n-2) + feb_rec(n-1)\n",
    "    \n",
    "print(feb_rec(7))"
   ]
  },
  {
   "cell_type": "markdown",
   "id": "cb3619e8",
   "metadata": {},
   "source": [
    "### Finding the nth term using tabular method\n",
    "- In this approach we are going to store the result in the memory \n",
    "- We are going to calculate the value only once if the next time the same required then we are going to access this from memory. \n",
    "- So by this approach we can consume less time.\n",
    "\n",
    "<img src=\"DP_tabular.jpg\"/>\n",
    "     "
   ]
  },
  {
   "cell_type": "code",
   "execution_count": 23,
   "id": "8cd26779",
   "metadata": {},
   "outputs": [
    {
     "name": "stdout",
     "output_type": "stream",
     "text": [
      "5\n"
     ]
    }
   ],
   "source": [
    "# WAP to find nth term using tabular method\n",
    "\n",
    "def feb_tabular(n):\n",
    "    f = [0,1]\n",
    "    for p in range(2,n+1):\n",
    "        f.append(f[p-1]+f[p-2])\n",
    "    return f[n]\n",
    "    \n",
    "print(feb_tabular(5))"
   ]
  },
  {
   "cell_type": "code",
   "execution_count": 18,
   "id": "b721a2f5",
   "metadata": {},
   "outputs": [
    {
     "name": "stdout",
     "output_type": "stream",
     "text": [
      "YEs\n",
      "leetcode\n"
     ]
    }
   ],
   "source": [
    "s = \"leEeetcode\"\n",
    "for i in range(len(s)-1):\n",
    "            if (s[i+1].isupper() and s[i].islower()):\n",
    "                print(\"YEs\")\n",
    "                x = i\n",
    "s = s[:x]+s[x+2:]\n",
    "print(s)"
   ]
  },
  {
   "cell_type": "code",
   "execution_count": null,
   "id": "f448f1e9",
   "metadata": {},
   "outputs": [],
   "source": []
  }
 ],
 "metadata": {
  "kernelspec": {
   "display_name": "Python 3 (ipykernel)",
   "language": "python",
   "name": "python3"
  },
  "language_info": {
   "codemirror_mode": {
    "name": "ipython",
    "version": 3
   },
   "file_extension": ".py",
   "mimetype": "text/x-python",
   "name": "python",
   "nbconvert_exporter": "python",
   "pygments_lexer": "ipython3",
   "version": "3.11.5"
  }
 },
 "nbformat": 4,
 "nbformat_minor": 5
}
