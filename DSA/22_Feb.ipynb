{
 "cells": [
  {
   "cell_type": "markdown",
   "id": "8205d172",
   "metadata": {},
   "source": [
    "# Application Of stack\n",
    "\n",
    "1) Stack can be used to convert infix expression to postfix expression\n",
    "2) It also convert infix expression to prefix expression\n",
    "3) Evaluation of postfix expression\n",
    "4) Balancing the symbols\n",
    "\n",
    "## Infix:\n",
    "- A operator is in between the operands then it is called as infix expression\n",
    "- Ex: A+B\n",
    "\n",
    "## Postfix:\n",
    "- A operator comes after the operands then it is called as postfix expression\n",
    "- Ex: AB+\n",
    "\n",
    "## Prefix:\n",
    "- A operator comes before the operands then it is called as prefix expression\n",
    "- Ex: +AB\n",
    "\n",
    "## Infix to postfix conversion:\n",
    "- STEP - 1 : Read the infix expression\n",
    "- STEP - 2 : If the character is left parenthesis '(' then push it into the stack\n",
    "- STEP - 3 : If the character is operand then add it into postfix expression\n",
    "- STEP - 4 : If the operator is a character check a stack is empty or not\n",
    "- STEP - 5 : If stack is empty push operator into stack\n",
    "- STEP - 6 : If stack is not empty then check the priority of the operator \n",
    "- STEP - 7 : If priority of the operator is greater than operator present in the stack then push operator to stack\n",
    "- STEP - 8 : If the priority of the operator is less than operator present in the stack then pop operator from the stack and to the postfix expression\n",
    "- STEP - 9 : If the character is right parenthesis ')' then pop all element from the stack until reaching the right parenthesis ')'\n",
    "\n"
   ]
  },
  {
   "cell_type": "code",
   "execution_count": 1,
   "id": "877bdf97",
   "metadata": {},
   "outputs": [
    {
     "ename": "NameError",
     "evalue": "name 'a' is not defined",
     "output_type": "error",
     "traceback": [
      "\u001b[0;31m---------------------------------------------------------------------------\u001b[0m",
      "\u001b[0;31mNameError\u001b[0m                                 Traceback (most recent call last)",
      "Cell \u001b[0;32mIn[1], line 1\u001b[0m\n\u001b[0;32m----> 1\u001b[0m x \u001b[38;5;241m=\u001b[39m a\u001b[38;5;241m*\u001b[39mb\u001b[38;5;241m+\u001b[39mc\u001b[38;5;241m/\u001b[39md\u001b[38;5;241m-\u001b[39me\n",
      "\u001b[0;31mNameError\u001b[0m: name 'a' is not defined"
     ]
    }
   ],
   "source": [
    "a*b+c/d-e"
   ]
  },
  {
   "cell_type": "code",
   "execution_count": 10,
   "id": "2a6c5094",
   "metadata": {},
   "outputs": [
    {
     "name": "stdout",
     "output_type": "stream",
     "text": [
      "AB*CD/+E-\n",
      "ABC*+D+\n"
     ]
    }
   ],
   "source": [
    "operators=set(['+','-','*','/','(',')','^'])\n",
    "priority={'+':1,'-':1,'*':2,'/':2,'^':3}\n",
    "def Infix_To_Postfix(expression):\n",
    "    stack=[]\n",
    "    output=''\n",
    "    for character in expression:\n",
    "        if character not in operators:\n",
    "            output+=character\n",
    "        elif character=='(':\n",
    "            stack.append('(')\n",
    "        elif character==')':\n",
    "            while stack and stack[-1]!= '(':\n",
    "                output+=stack.pop()\n",
    "            stack.pop()\n",
    "        else:\n",
    "            while stack and stack[-1]!='(' and priority[character]<=priority[stack[-1]]:\n",
    "                output+=stack.pop()\n",
    "            stack.append(character)\n",
    "    \n",
    "    while stack:\n",
    "        \n",
    "        output +=stack.pop()\n",
    "        \n",
    "    return output\n",
    "\n",
    "expression = \"A*B+C/D-E\"\n",
    "expression2 = \"A+B*C+D\"\n",
    "print(Infix_To_Postfix(expression))\n",
    "print(Infix_To_Postfix(expression2))"
   ]
  },
  {
   "cell_type": "code",
   "execution_count": null,
   "id": "3bc80b04",
   "metadata": {},
   "outputs": [],
   "source": []
  }
 ],
 "metadata": {
  "kernelspec": {
   "display_name": "Python 3 (ipykernel)",
   "language": "python",
   "name": "python3"
  },
  "language_info": {
   "codemirror_mode": {
    "name": "ipython",
    "version": 3
   },
   "file_extension": ".py",
   "mimetype": "text/x-python",
   "name": "python",
   "nbconvert_exporter": "python",
   "pygments_lexer": "ipython3",
   "version": "3.11.5"
  }
 },
 "nbformat": 4,
 "nbformat_minor": 5
}
