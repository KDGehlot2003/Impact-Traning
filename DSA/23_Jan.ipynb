{
 "cells": [
  {
   "cell_type": "markdown",
   "id": "089c8659",
   "metadata": {},
   "source": [
    "# Non-Linear Data Structure\n",
    "\n",
    "## 1.Tree\n",
    "- Organizing the data in hirearcheal form (non-linear form).\n",
    "- Organizing the data in hirarichal fashion without any close path.\n",
    "- Tree is collection of nodes and nodes will contain the element.\n",
    "\n",
    "### Basic termology of tree:\n",
    "   1. Node:\n",
    "       - It is an element of tree\n",
    "       - A tree can have no. of nodes.\n",
    "   2. Root node:\n",
    "       - Starting element of node is called root node (where branch occur).\n",
    "       - Tree will have one root node.\n",
    "   3. Edge:\n",
    "       - A link b/w one node to another node or collection b/w the nodes.\n",
    "       - If we have n nodes and no. of edges will n-1.\n",
    "   4. Parent:\n",
    "       - A node which have branches.\n",
    "   5. Child:\n",
    "       - Branches of a parent.\n",
    "       - Node with edge from bottom to top.\n",
    "   6. Siblings:\n",
    "       - The children of the parent.\n",
    "   7. Leaf Node:\n",
    "       - A node wihtout any child.\n",
    "   8. Internal Nodes:\n",
    "       - All the nodes other than the leaf node.\n",
    "       - Node wih child is called as Internal node.\n",
    "   7. Degree of a tree:\n",
    "       - No. of child node will represent the degree of a node.\n",
    "       - The Maximum of all node is called as degree of a tree or Node will maximum no. of children.\n",
    "   8. Level of a tree:\n",
    "       - Each step are hirearical of treeis called as level of a tree.\n",
    "   9. Height of tree:\n",
    "       - The longest part b/w particular leaf node to root node.\n",
    "   10. Depth:\n",
    "       - The longest part from root node to particular node is called as depth.\n",
    "       - Node with children from a sub tree\n",
    "       \n",
    "<img src=\"tree_terms.jpg\"/>\n",
    "<img src=\"tree_terms_2.jpg\"/>\n",
    "<img src=\"tree_terms_3.jpg\"/>\n",
    "        \n",
    "## Binary Tree:\n",
    "   - Every node in a tree should have atmost two children.\n",
    "   "
   ]
  },
  {
   "cell_type": "markdown",
   "id": "47e3205f",
   "metadata": {},
   "source": [
    "# Construction of Binary Tree\n",
    "- If the tree is empty then it will be consider as root node\n",
    "- If the element is greater then the root node insert it right side.\n",
    "- If the element is less then the root node insert it left side.\n",
    "\n",
    "<img src=\"binary_tree_construction.jpg\"/>\n",
    "\n",
    "\n",
    "\n",
    "# Traversal Technique of Binary Tree\n",
    "1. Pre-Order (root left right)\n",
    "2. Post-Order (Left Right root)\n",
    "3. In-Order (left root right)\n",
    "\n",
    "<img src=\"Binary_tree_traversal.jpg\"/>\n",
    "\n"
   ]
  },
  {
   "cell_type": "code",
   "execution_count": 84,
   "id": "73237965",
   "metadata": {},
   "outputs": [
    {
     "name": "stdout",
     "output_type": "stream",
     "text": [
      "5 11 14 22 33 44 55 "
     ]
    }
   ],
   "source": [
    "# WAP to construct binary tree \n",
    "\n",
    "class Node:\n",
    "    def __init__(self,data):\n",
    "        self.data=data\n",
    "        self.left=None\n",
    "        self.right=None\n",
    "    def insert(self,data):\n",
    "        if self.data:\n",
    "            if data<self.data:\n",
    "                if self.left is None:\n",
    "                    self.left=Node(data)\n",
    "                else:\n",
    "                    self.left.insert(data)\n",
    "            else:\n",
    "                if self.right is None:\n",
    "                    self.right=Node(data)\n",
    "                else:\n",
    "                    self.right.insert(data)\n",
    "        else:\n",
    "            self.data-data\n",
    "    \n",
    "def print_tree(root):\n",
    "    if root:\n",
    "        print_tree(root.left)\n",
    "        \n",
    "        print(root.data,end=' ')\n",
    "        \n",
    "        print_tree(root.right)\n",
    "\n",
    "\n",
    "        \n",
    "b = Node(27)\n",
    "b.insert(14)\n",
    "b.insert(35)\n",
    "b.insert(10)\n",
    "b.insert(19)\n",
    "b.insert(31)\n",
    "b.insert(42)\n",
    "# print_tree(b)\n",
    "\n",
    "b1 = Node(22)\n",
    "b1.insert(11)\n",
    "b1.insert(44)\n",
    "b1.insert(5)\n",
    "b1.insert(33)\n",
    "b1.insert(55)\n",
    "b1.insert(14)\n",
    "print_tree(b1)"
   ]
  },
  {
   "cell_type": "code",
   "execution_count": 85,
   "id": "0e4d063f",
   "metadata": {},
   "outputs": [
    {
     "name": "stdout",
     "output_type": "stream",
     "text": [
      "22 11 5 14 44 33 55 "
     ]
    }
   ],
   "source": [
    "# Pre-Order\n",
    "\n",
    "def preorder(root):\n",
    "    if root:\n",
    "        print(root.data,end=\" \")\n",
    "        preorder(root.left)\n",
    "        preorder(root.right)\n",
    "        \n",
    "# preorder(b)\n",
    "preorder(b1)"
   ]
  },
  {
   "cell_type": "code",
   "execution_count": 86,
   "id": "ac3f811e",
   "metadata": {},
   "outputs": [
    {
     "name": "stdout",
     "output_type": "stream",
     "text": [
      "5 14 11 33 55 44 22 "
     ]
    }
   ],
   "source": [
    "# Post-Order\n",
    "\n",
    "def postorder(root):\n",
    "    if root:\n",
    "        postorder(root.left)\n",
    "        postorder(root.right)\n",
    "        print(root.data,end=\" \")\n",
    "        \n",
    "# postorder(b)\n",
    "postorder(b1)"
   ]
  },
  {
   "cell_type": "code",
   "execution_count": 87,
   "id": "e5470b63",
   "metadata": {},
   "outputs": [
    {
     "name": "stdout",
     "output_type": "stream",
     "text": [
      "5 11 14 22 33 44 55 "
     ]
    }
   ],
   "source": [
    "# In-Order\n",
    "\n",
    "def inorder(root):\n",
    "    if root:\n",
    "        inorder(root.left)\n",
    "        print(root.data,end=\" \")\n",
    "        inorder(root.right)\n",
    "        \n",
    "        \n",
    "# inorder(b)\n",
    "inorder(b1)"
   ]
  },
  {
   "cell_type": "code",
   "execution_count": 94,
   "id": "4d76e8a5",
   "metadata": {},
   "outputs": [
    {
     "name": "stdout",
     "output_type": "stream",
     "text": [
      "10 14 19 27 31 35 42 \n",
      "Enter element for searching: 14\n",
      "Element Found\n"
     ]
    }
   ],
   "source": [
    "# WAP to search the corresponding element is avaliable in the tree or not.\n",
    "\n",
    "def search(root,key):\n",
    "    if root==None:\n",
    "        return False\n",
    "    elif root.data==key:\n",
    "        return True\n",
    "    s1 = search(root.left,key)\n",
    "    if s1:\n",
    "        return True\n",
    "    s2 = search(root.right,key)\n",
    "    if s2:\n",
    "        return True\n",
    "    \n",
    "    \n",
    "print_tree(b)\n",
    "key = int(input(\"\\nEnter element for searching: \"))\n",
    "s = search(b,key)\n",
    "\n",
    "if s:\n",
    "    print(\"Element Found\")\n",
    "else:\n",
    "    print(\"Element not found\")"
   ]
  },
  {
   "cell_type": "markdown",
   "id": "19a6e515",
   "metadata": {},
   "source": [
    "# Nested-While\n",
    "- A while loop within another while loop is called as nested while loop.\n"
   ]
  },
  {
   "cell_type": "code",
   "execution_count": 74,
   "id": "de709e21",
   "metadata": {},
   "outputs": [
    {
     "name": "stdout",
     "output_type": "stream",
     "text": [
      "[2, 3, 5, 7, 11, 13, 17, 19, 23, 29, 31, 37, 41, 43, 47, 53, 59, 61, 67, 71, 73, 79, 83, 89, 97]\n",
      "25\n"
     ]
    }
   ],
   "source": [
    "# WAP to print prime numbers b/w 1 to 100 using nested while.\n",
    "l = []\n",
    "i = 2\n",
    "while i<=100:\n",
    "    c = 0\n",
    "    q = 1\n",
    "    while q<=i:\n",
    "        if i%q==0:\n",
    "            c = c+1\n",
    "        q = q+1\n",
    "    if c==2:\n",
    "        l.append(i)\n",
    "    i=i+1\n",
    "    \n",
    "print(l)\n",
    "print(len(l))"
   ]
  },
  {
   "cell_type": "code",
   "execution_count": 75,
   "id": "3ff0f8e4",
   "metadata": {},
   "outputs": [
    {
     "name": "stdout",
     "output_type": "stream",
     "text": [
      "[120, 720, 5040, 40320, 362880, 3628800]\n"
     ]
    }
   ],
   "source": [
    "# WAP to Print Factorial\n",
    "\n",
    "l = []\n",
    "i = 5\n",
    "\n",
    "while i<=10:\n",
    "    f = 1\n",
    "    fac = 1\n",
    "    while f<=i:\n",
    "        fac = fac*f\n",
    "        f=f+1\n",
    "    l.append(fac)\n",
    "    i=i+1\n",
    "print(l)"
   ]
  },
  {
   "cell_type": "code",
   "execution_count": 76,
   "id": "24de011f",
   "metadata": {},
   "outputs": [
    {
     "name": "stdout",
     "output_type": "stream",
     "text": [
      "1 \n",
      "1 2 \n",
      "1 2 3 \n",
      "1 2 3 4 \n",
      "1 2 3 4 5 \n"
     ]
    }
   ],
   "source": [
    "# WAP to print pattern\n",
    "# 1\n",
    "# 1 2 \n",
    "# 1 2 3 \n",
    "# 1 2 3 4 \n",
    "# 1 2 3 4 5\n",
    "\n",
    "i = 1\n",
    "while i<=5:\n",
    "    j = 1\n",
    "    while j<=i:\n",
    "        print(j,end=\" \")\n",
    "        j = j +1\n",
    "    i = i+1\n",
    "    print()\n"
   ]
  },
  {
   "cell_type": "code",
   "execution_count": 77,
   "id": "1e9bc8b0",
   "metadata": {},
   "outputs": [
    {
     "name": "stdout",
     "output_type": "stream",
     "text": [
      "1 2 3 4 5 \n",
      "1 2 3 4 \n",
      "1 2 3 \n",
      "1 2 \n",
      "1 \n"
     ]
    }
   ],
   "source": [
    "# WAP to print pattern\n",
    "# 1 2 3 4 5\n",
    "# 1 2 3 4 \n",
    "# 1 2 3 \n",
    "# 1 2 \n",
    "# 1\n",
    "\n",
    "\n",
    "i = 5\n",
    "while i>=1:\n",
    "    j = 1\n",
    "    while j<=i:\n",
    "        print(j,end=\" \")\n",
    "        j = j+1\n",
    "    i = i-1\n",
    "    print()\n"
   ]
  },
  {
   "cell_type": "code",
   "execution_count": 78,
   "id": "25db5a0f",
   "metadata": {},
   "outputs": [
    {
     "name": "stdout",
     "output_type": "stream",
     "text": [
      "1 2 3 4 5 \n",
      "2 3 4 5 \n",
      "3 4 5 \n",
      "4 5 \n",
      "5 \n"
     ]
    }
   ],
   "source": [
    "# WAP to print pattern\n",
    "# 1 2 3 4 5\n",
    "# 2 3 4 5 \n",
    "# 3 4 5\n",
    "# 4 5 \n",
    "# 5\n",
    "\n",
    "i = 1\n",
    "while i<=5:\n",
    "    j = i\n",
    "    while j<=5:\n",
    "        print(j,end=\" \")\n",
    "        j= j+1\n",
    "    i=i+1\n",
    "    print()"
   ]
  },
  {
   "cell_type": "code",
   "execution_count": 79,
   "id": "75378185",
   "metadata": {},
   "outputs": [
    {
     "name": "stdout",
     "output_type": "stream",
     "text": [
      "5\n",
      "*****\n",
      "*****\n",
      "*****\n",
      "*****\n",
      "*****\n"
     ]
    }
   ],
   "source": [
    "\n",
    "\n",
    "n = int(input())\n",
    "for i in range(1,n+1):\n",
    "    for j in range(1,n+1):\n",
    "        print('*',end=\"\")\n",
    "    print()"
   ]
  },
  {
   "cell_type": "code",
   "execution_count": null,
   "id": "6e9f5a9b",
   "metadata": {},
   "outputs": [],
   "source": []
  }
 ],
 "metadata": {
  "kernelspec": {
   "display_name": "Python 3 (ipykernel)",
   "language": "python",
   "name": "python3"
  },
  "language_info": {
   "codemirror_mode": {
    "name": "ipython",
    "version": 3
   },
   "file_extension": ".py",
   "mimetype": "text/x-python",
   "name": "python",
   "nbconvert_exporter": "python",
   "pygments_lexer": "ipython3",
   "version": "3.11.5"
  }
 },
 "nbformat": 4,
 "nbformat_minor": 5
}
