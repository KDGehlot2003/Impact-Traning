{
 "cells": [
  {
   "cell_type": "markdown",
   "id": "bfda7366",
   "metadata": {},
   "source": [
    "# Priority Queue\n",
    "- Priority Queue is similar to Queue operation but in the queue always the first element is deleted.\n",
    "- In priority Queue we can assign the queue acco to priority element will be deleted\n",
    "- The different ways of assigning priority are:\n",
    "    1. Ascending Order\n",
    "    2. Decending Order"
   ]
  },
  {
   "cell_type": "code",
   "execution_count": 8,
   "id": "947a0b2c",
   "metadata": {},
   "outputs": [
    {
     "name": "stdout",
     "output_type": "stream",
     "text": [
      "[7, 2, 1, 8, 5]\n",
      "Deleted element is:  1\n",
      "Deleted element is:  8\n",
      "[7, 5, 2]\n"
     ]
    }
   ],
   "source": [
    "class pq:\n",
    "    def __init__(self):\n",
    "        self.queue = []\n",
    "    def push(self,x):\n",
    "        self.queue.append(x)\n",
    "    def display(self):\n",
    "        print(self.queue)\n",
    "    def delete(self):\n",
    "        self.queue.sort()\n",
    "        print(\"Deleted element is: \",self.queue.pop(0)) # 0 for Queue\n",
    "    def delete_last(self):\n",
    "        self.queue.sort(reverse=True)\n",
    "        print(\"Deleted element is: \",self.queue.pop(0)) # 0 for Queue\n",
    "        \n",
    "p1 = pq()\n",
    "p1.push(7)\n",
    "p1.push(2)\n",
    "p1.push(1)\n",
    "p1.push(8)\n",
    "p1.push(5)\n",
    "p1.display()\n",
    "p1.delete()\n",
    "p1.delete_last()\n",
    "p1.display()"
   ]
  },
  {
   "cell_type": "code",
   "execution_count": 22,
   "id": "e572f4ed",
   "metadata": {},
   "outputs": [
    {
     "name": "stdout",
     "output_type": "stream",
     "text": [
      "[4, 2, 1, 5, 3]\n",
      "[3, 5, 1, 2, 4]\n"
     ]
    }
   ],
   "source": [
    "# WAP to reverse the element present in the stack using pop,push,oop concept.\n",
    "\n",
    "class stack:\n",
    "    def __init__(self):\n",
    "        self.s = []\n",
    "        self.reverse_stack= []\n",
    "    def push(self,x):\n",
    "        self.s.append(x)\n",
    "    def display(self):\n",
    "        print(self.s)\n",
    "    def reverse(self):\n",
    "        while self.s:\n",
    "            self.reverse_stack.append(self.s.pop())\n",
    "        print(self.reverse_stack)\n",
    "        \n",
    "    \n",
    "    \n",
    "s1 = stack()\n",
    "s1.push(4)\n",
    "s1.push(2)\n",
    "s1.push(1)\n",
    "s1.push(5)\n",
    "s1.push(3)\n",
    "s1.display()\n",
    "s1.reverse()"
   ]
  },
  {
   "cell_type": "code",
   "execution_count": 30,
   "id": "274ccb5a",
   "metadata": {},
   "outputs": [
    {
     "name": "stdout",
     "output_type": "stream",
     "text": [
      "hello\n",
      "olleh"
     ]
    }
   ],
   "source": [
    "# WAP to reverse the string present in the stack using pop,push,oop concept.\n",
    "\n",
    "class stack:\n",
    "    def __init__(self):\n",
    "        self.s = []\n",
    "        self.r= []\n",
    "    def push(self,x):\n",
    "        for p in x:\n",
    "            self.s.append(p)\n",
    "    def display(self):\n",
    "        for p in self.s:\n",
    "            print(p,end='')\n",
    "    def reverse(self):\n",
    "        for p in range(len(self.s)):\n",
    "            self.r.append(self.s.pop())\n",
    "        for p in self.r:\n",
    "            print(p,end='')\n",
    "        \n",
    "    \n",
    "    \n",
    "s1 = stack()\n",
    "s1.push('hello')\n",
    "s1.display()\n",
    "print()\n",
    "s1.reverse()\n"
   ]
  },
  {
   "cell_type": "code",
   "execution_count": 33,
   "id": "f4234c4c",
   "metadata": {},
   "outputs": [
    {
     "ename": "KeyboardInterrupt",
     "evalue": "Interrupted by user",
     "output_type": "error",
     "traceback": [
      "\u001b[0;31m---------------------------------------------------------------------------\u001b[0m",
      "\u001b[0;31mKeyboardInterrupt\u001b[0m                         Traceback (most recent call last)",
      "Cell \u001b[0;32mIn[33], line 8\u001b[0m\n\u001b[1;32m      1\u001b[0m \u001b[38;5;66;03m# HackerRank Question\u001b[39;00m\n\u001b[1;32m      2\u001b[0m \n\u001b[1;32m      3\u001b[0m \u001b[38;5;66;03m# 5 3 4       h1[] size n1 = 5, h2[] size n2 = 3, h3[] size n3 = 4  \u001b[39;00m\n\u001b[1;32m      4\u001b[0m \u001b[38;5;66;03m# 3 2 1 1 1   h1 = [3, 2, 1, 1, 1]\u001b[39;00m\n\u001b[1;32m      5\u001b[0m \u001b[38;5;66;03m# 4 3 2       h2 = [4, 3, 2]\u001b[39;00m\n\u001b[1;32m      6\u001b[0m \u001b[38;5;66;03m# 4 3 2 \u001b[39;00m\n\u001b[0;32m----> 8\u001b[0m first_multiple_input \u001b[38;5;241m=\u001b[39m \u001b[38;5;28minput\u001b[39m()\u001b[38;5;241m.\u001b[39mrstrip()\u001b[38;5;241m.\u001b[39msplit()\n\u001b[1;32m     10\u001b[0m n1 \u001b[38;5;241m=\u001b[39m \u001b[38;5;28mint\u001b[39m(first_multiple_input[\u001b[38;5;241m0\u001b[39m])\n\u001b[1;32m     12\u001b[0m n2 \u001b[38;5;241m=\u001b[39m \u001b[38;5;28mint\u001b[39m(first_multiple_input[\u001b[38;5;241m1\u001b[39m])\n",
      "File \u001b[0;32m~/anaconda3/lib/python3.11/site-packages/ipykernel/kernelbase.py:1202\u001b[0m, in \u001b[0;36mKernel.raw_input\u001b[0;34m(self, prompt)\u001b[0m\n\u001b[1;32m   1200\u001b[0m     msg \u001b[38;5;241m=\u001b[39m \u001b[38;5;124m\"\u001b[39m\u001b[38;5;124mraw_input was called, but this frontend does not support input requests.\u001b[39m\u001b[38;5;124m\"\u001b[39m\n\u001b[1;32m   1201\u001b[0m     \u001b[38;5;28;01mraise\u001b[39;00m StdinNotImplementedError(msg)\n\u001b[0;32m-> 1202\u001b[0m \u001b[38;5;28;01mreturn\u001b[39;00m \u001b[38;5;28mself\u001b[39m\u001b[38;5;241m.\u001b[39m_input_request(\n\u001b[1;32m   1203\u001b[0m     \u001b[38;5;28mstr\u001b[39m(prompt),\n\u001b[1;32m   1204\u001b[0m     \u001b[38;5;28mself\u001b[39m\u001b[38;5;241m.\u001b[39m_parent_ident[\u001b[38;5;124m\"\u001b[39m\u001b[38;5;124mshell\u001b[39m\u001b[38;5;124m\"\u001b[39m],\n\u001b[1;32m   1205\u001b[0m     \u001b[38;5;28mself\u001b[39m\u001b[38;5;241m.\u001b[39mget_parent(\u001b[38;5;124m\"\u001b[39m\u001b[38;5;124mshell\u001b[39m\u001b[38;5;124m\"\u001b[39m),\n\u001b[1;32m   1206\u001b[0m     password\u001b[38;5;241m=\u001b[39m\u001b[38;5;28;01mFalse\u001b[39;00m,\n\u001b[1;32m   1207\u001b[0m )\n",
      "File \u001b[0;32m~/anaconda3/lib/python3.11/site-packages/ipykernel/kernelbase.py:1245\u001b[0m, in \u001b[0;36mKernel._input_request\u001b[0;34m(self, prompt, ident, parent, password)\u001b[0m\n\u001b[1;32m   1242\u001b[0m \u001b[38;5;28;01mexcept\u001b[39;00m \u001b[38;5;167;01mKeyboardInterrupt\u001b[39;00m:\n\u001b[1;32m   1243\u001b[0m     \u001b[38;5;66;03m# re-raise KeyboardInterrupt, to truncate traceback\u001b[39;00m\n\u001b[1;32m   1244\u001b[0m     msg \u001b[38;5;241m=\u001b[39m \u001b[38;5;124m\"\u001b[39m\u001b[38;5;124mInterrupted by user\u001b[39m\u001b[38;5;124m\"\u001b[39m\n\u001b[0;32m-> 1245\u001b[0m     \u001b[38;5;28;01mraise\u001b[39;00m \u001b[38;5;167;01mKeyboardInterrupt\u001b[39;00m(msg) \u001b[38;5;28;01mfrom\u001b[39;00m \u001b[38;5;28;01mNone\u001b[39;00m\n\u001b[1;32m   1246\u001b[0m \u001b[38;5;28;01mexcept\u001b[39;00m \u001b[38;5;167;01mException\u001b[39;00m:\n\u001b[1;32m   1247\u001b[0m     \u001b[38;5;28mself\u001b[39m\u001b[38;5;241m.\u001b[39mlog\u001b[38;5;241m.\u001b[39mwarning(\u001b[38;5;124m\"\u001b[39m\u001b[38;5;124mInvalid Message:\u001b[39m\u001b[38;5;124m\"\u001b[39m, exc_info\u001b[38;5;241m=\u001b[39m\u001b[38;5;28;01mTrue\u001b[39;00m)\n",
      "\u001b[0;31mKeyboardInterrupt\u001b[0m: Interrupted by user"
     ]
    }
   ],
   "source": [
    "# HackerRank Question\n",
    "\n",
    "# 5 3 4       h1[] size n1 = 5, h2[] size n2 = 3, h3[] size n3 = 4  \n",
    "# 3 2 1 1 1   h1 = [3, 2, 1, 1, 1]\n",
    "# 4 3 2       h2 = [4, 3, 2]\n",
    "# 1 1 4 1 \n",
    "\n",
    "\n",
    "def equalStacks(h1, h2, h3):\n",
    "    \n",
    "\n",
    "\n",
    "\n",
    "\n",
    "\n",
    "\n",
    "\n",
    "first_multiple_input = input().rstrip().split()\n",
    "\n",
    "n1 = int(first_multiple_input[0])\n",
    "\n",
    "n2 = int(first_multiple_input[1])\n",
    "\n",
    "n3 = int(first_multiple_input[2])\n",
    "\n",
    "h1 = list(map(int, input().rstrip().split()))\n",
    "\n",
    "h2 = list(map(int, input().rstrip().split()))\n",
    "\n",
    "h3 = list(map(int, input().rstrip().split()))\n",
    "\n"
   ]
  },
  {
   "cell_type": "code",
   "execution_count": 71,
   "id": "4c82e882",
   "metadata": {},
   "outputs": [],
   "source": [
    "for p in range(1,100):\n",
    "    \n",
    "    \n",
    "    i = p\n",
    "    arr = []\n",
    "    i = 22\n",
    "    i = str(i)\n",
    "    n = int(len(i)/2)\n",
    "\n",
    "    first = i[:n]\n",
    "    last = i[-n:]\n",
    "\n",
    "    f_sum = 0\n",
    "    l_sum = 0\n",
    "\n",
    "    for i in first:\n",
    "        i = int(i)\n",
    "        f_sum = f_sum + i\n",
    "\n",
    "    for i in last:\n",
    "        i = int(i)\n",
    "        l_sum = l_sum + i\n",
    "\n",
    "#     print(f_sum)\n",
    "#     print(l_sum)\n",
    "\n",
    "\n",
    "    if f_sum==l_sum:\n",
    "        arr.append(i)\n",
    "#     print(len(arr))"
   ]
  },
  {
   "cell_type": "code",
   "execution_count": 111,
   "id": "2becc733",
   "metadata": {},
   "outputs": [
    {
     "name": "stdout",
     "output_type": "stream",
     "text": [
      "[1001, 1010, 1102, 1111, 1120, 1203, 1212, 1221, 1230, 1304, 1313, 1322, 1331, 1340, 1405, 1414, 1423, 1432, 1441, 1450, 1506, 1515, 1524, 1533, 1542, 1551, 1560, 1607, 1616, 1625, 1634, 1643, 1652, 1661, 1670, 1708, 1717, 1726, 1735, 1744, 1753, 1762, 1771, 1780]\n",
      "44\n"
     ]
    }
   ],
   "source": [
    "arr = []\n",
    "for p in range(100,1784):\n",
    "    val = p\n",
    "    val = str(val)\n",
    "    if len(val)%2==0:\n",
    "        n = int(len(val)/2)\n",
    "        first = val[:n]\n",
    "        last = val[-n:]\n",
    "\n",
    "        f_sum =0\n",
    "        l_sum =0\n",
    "\n",
    "        for i in first:\n",
    "            i = int(i)\n",
    "            f_sum += i\n",
    "\n",
    "        for j in last:\n",
    "            j = int(j)\n",
    "            l_sum += j\n",
    "\n",
    "        if f_sum==l_sum:\n",
    "            arr.append(p)\n",
    "print(arr)\n",
    "print(len(arr))"
   ]
  },
  {
   "cell_type": "code",
   "execution_count": null,
   "id": "ee2132a1",
   "metadata": {},
   "outputs": [],
   "source": []
  }
 ],
 "metadata": {
  "kernelspec": {
   "display_name": "Python 3 (ipykernel)",
   "language": "python",
   "name": "python3"
  },
  "language_info": {
   "codemirror_mode": {
    "name": "ipython",
    "version": 3
   },
   "file_extension": ".py",
   "mimetype": "text/x-python",
   "name": "python",
   "nbconvert_exporter": "python",
   "pygments_lexer": "ipython3",
   "version": "3.11.5"
  }
 },
 "nbformat": 4,
 "nbformat_minor": 5
}
