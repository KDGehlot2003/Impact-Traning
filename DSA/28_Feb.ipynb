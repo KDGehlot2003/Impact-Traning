{
 "cells": [
  {
   "cell_type": "markdown",
   "id": "c9e5beb1",
   "metadata": {},
   "source": [
    "# Kruskal Alogrithm\n",
    "\n",
    "- Kruskal algorithm is used to find minimum cost spanning tree\n",
    "\n",
    "\n",
    "> __Step 1 -__ Arrange all edges in ascending order (lower to higher value based on cost). <br>\n",
    "> __Step 2 -__ Consider least cost weighted edge and includ in a tree, and if th edge forms a cycle just ignore and consider next least cost weighted edge. <br>\n",
    "> __Step 3 -__ Repeat Step 2 such a way that all vertices should be included in a tree, finally it should have n vertices and n-1 edges. <br>\n",
    "\n",
    "\n",
    "<img src=\"kruskal.jpg\"/>"
   ]
  },
  {
   "cell_type": "code",
   "execution_count": 1,
   "id": "b41a28fe",
   "metadata": {},
   "outputs": [
    {
     "name": "stdout",
     "output_type": "stream",
     "text": [
      "[False, False, False, False, False, False]\n",
      "Edge \tWeight\n",
      "0 - 1 \t 2\n",
      "0 - 2 \t 3\n",
      "4 - 3 \t 2\n",
      "3 - 4 \t 2\n",
      "3 - 5 \t 3\n"
     ]
    }
   ],
   "source": [
    "import sys\n",
    "class Graph:\n",
    "    def __init__(self,vertices):\n",
    "        self.V=vertices\n",
    "        self.graph=[[0 for column in range(vertices)]\n",
    "                   for row in range(vertices)]\n",
    "    def min_key(self,key,mst_set):\n",
    "        min_val=sys.maxsize\n",
    "\n",
    "        for v in range(self.V):\n",
    "            if key[v] < min_val and mst_set[v]==False:\n",
    "                min_val = key[v]\n",
    "                min_index = v\n",
    "        return min_index\n",
    "    def print_mst(self,parent):\n",
    "        print(\"Edge \\tWeight\")\n",
    "        for i in range(1,self.V):\n",
    "            print(parent[i],\"-\",i,\"\\t\",self.graph[i][parent[i]])\n",
    "    \n",
    "    def prim_mst(self):\n",
    "        key = [sys.maxsize]*self.V\n",
    "        parent = [None] * self.V\n",
    "        key[0]=0\n",
    "        mst_set=[False]*self.V\n",
    "        print(mst_set)\n",
    "        parent[0]=-1\n",
    "        for count in range(self.V):\n",
    "            u=self.min_key(key,mst_set)\n",
    "            mst_set[u]=True\n",
    "\n",
    "            for v in range(self.V):\n",
    "                if self.graph[u][v]>0 and key[v]>self.graph[u][v]:\n",
    "                    key[v]=self.graph[u][v]\n",
    "                    parent[v]=u\n",
    "        self.print_mst(parent)\n",
    "g=Graph(6)\n",
    "g.graph=[[0,2,3,0,0,0],\n",
    "         [2,0,5,3,0,0],\n",
    "         [3,5,0,0,4,0],\n",
    "         [0,3,0,0,2,3],\n",
    "         [0,0,4,2,0,5],\n",
    "         [0,0,0,3,5,0]]\n",
    "g.prim_mst()"
   ]
  },
  {
   "cell_type": "code",
   "execution_count": 2,
   "id": "9a001e17",
   "metadata": {},
   "outputs": [
    {
     "ename": "KeyboardInterrupt",
     "evalue": "",
     "output_type": "error",
     "traceback": [
      "\u001b[0;31m---------------------------------------------------------------------------\u001b[0m",
      "\u001b[0;31mKeyboardInterrupt\u001b[0m                         Traceback (most recent call last)",
      "Cell \u001b[0;32mIn[2], line 61\u001b[0m\n\u001b[1;32m     59\u001b[0m g\u001b[38;5;241m.\u001b[39madd_edge(\u001b[38;5;241m3\u001b[39m,\u001b[38;5;241m5\u001b[39m,\u001b[38;5;241m3\u001b[39m)\n\u001b[1;32m     60\u001b[0m g\u001b[38;5;241m.\u001b[39madd_edge(\u001b[38;5;241m4\u001b[39m,\u001b[38;5;241m5\u001b[39m,\u001b[38;5;241m5\u001b[39m)\n\u001b[0;32m---> 61\u001b[0m g\u001b[38;5;241m.\u001b[39mkruskal_algo()\n",
      "Cell \u001b[0;32mIn[2], line 38\u001b[0m, in \u001b[0;36mGraph.kruskal_algo\u001b[0;34m(self)\u001b[0m\n\u001b[1;32m     36\u001b[0m     parent\u001b[38;5;241m.\u001b[39mappend(node)\n\u001b[1;32m     37\u001b[0m     rank\u001b[38;5;241m.\u001b[39mappend(\u001b[38;5;241m0\u001b[39m)\n\u001b[0;32m---> 38\u001b[0m \u001b[38;5;28;01mwhile\u001b[39;00m e\u001b[38;5;241m<\u001b[39m\u001b[38;5;28mself\u001b[39m\u001b[38;5;241m.\u001b[39mV\u001b[38;5;241m-\u001b[39m\u001b[38;5;241m1\u001b[39m:\n\u001b[1;32m     39\u001b[0m     u,v,w \u001b[38;5;241m=\u001b[39m \u001b[38;5;28mself\u001b[39m\u001b[38;5;241m.\u001b[39mgraph[\u001b[38;5;241m1\u001b[39m]\n\u001b[1;32m     40\u001b[0m     i \u001b[38;5;241m=\u001b[39m i\u001b[38;5;241m+\u001b[39m\u001b[38;5;241m1\u001b[39m\n",
      "\u001b[0;31mKeyboardInterrupt\u001b[0m: "
     ]
    }
   ],
   "source": [
    "class Graph:\n",
    "    def __init__(self,vertices):\n",
    "        self.V = vertices\n",
    "        self.graph = []\n",
    "        \n",
    "    def add_edge(self, u, v, w):\n",
    "        self.graph.append([u, v, w])\n",
    "        \n",
    "    # Search Function\n",
    "    \n",
    "    def find(self,parent,i):\n",
    "        if parent[i] ==i:\n",
    "            return 1\n",
    "        return self.find(parent, parent[i])\n",
    "    \n",
    "    def apply_union(self,parent,rank,x,y):\n",
    "        xroot = self.find(parent,x)\n",
    "        yroot = self.find(parent,y)\n",
    "        if rank[xroot] < rank[yroot]:\n",
    "            parent[xroot] = yroot\n",
    "        elif rank[xroot] > rank[yroot]:\n",
    "            parent[yroot] = xroot\n",
    "        else:\n",
    "            parent[yroot] = xroot\n",
    "            rank[xroot] +=1\n",
    "            \n",
    "        # Applying Kruskal Algorithm\n",
    "        \n",
    "    def kruskal_algo(self):\n",
    "        result = []\n",
    "        i,e=0,0\n",
    "        self.graph = sorted(self.graph,key=lambda item:item[2])\n",
    "        parent = []\n",
    "        rank = []\n",
    "        for node in range(self.V):\n",
    "            parent.append(node)\n",
    "            rank.append(0)\n",
    "        while e<self.V-1:\n",
    "            u,v,w = self.graph[1]\n",
    "            i = i+1\n",
    "            x = self.find(parent,u)\n",
    "            y = self.find(parent,v)\n",
    "            if x!=y:\n",
    "                e = e+1\n",
    "                result.append([u,v,w])\n",
    "                self.apply_union(parent,rank,x,y)\n",
    "        for u,v, weight in result:\n",
    "            print(\"%d - %d: %d\" % (u,v,weight))\n",
    "            \n",
    "            \n",
    "g = Graph(6)\n",
    "g.add_edge(0,1,2)\n",
    "g.add_edge(0,2,3)\n",
    "g.add_edge(1,3,3)\n",
    "g.add_edge(1,4,4)\n",
    "g.add_edge(1,2,5)\n",
    "g.add_edge(2,4,5)\n",
    "g.add_edge(3,4,2)\n",
    "g.add_edge(3,5,3)\n",
    "g.add_edge(4,5,5)\n",
    "g.kruskal_algo()"
   ]
  },
  {
   "cell_type": "code",
   "execution_count": 3,
   "id": "98a04093",
   "metadata": {},
   "outputs": [
    {
     "name": "stdout",
     "output_type": "stream",
     "text": [
      "0-1: 2\n",
      "3-4: 2\n",
      "0-2: 3\n",
      "1-3: 3\n",
      "3-5: 3\n"
     ]
    }
   ],
   "source": [
    "class Graph:\n",
    "    \n",
    "    def __init__(self,vertices):\n",
    "        self.V=vertices\n",
    "        self.graph=[]\n",
    "        \n",
    "    def add_edge(self, u, v, w):\n",
    "        self.graph.append([u, v, w])\n",
    "    \n",
    "    #search function\n",
    "    \n",
    "    def find(self, parent, i):\n",
    "        if parent[i]==i:\n",
    "            return i\n",
    "        return self.find(parent, parent[i])\n",
    "    \n",
    "    def apply_union(self, parent, rank, x, y):\n",
    "        xroot=self.find(parent, x)\n",
    "        yroot=self.find(parent, y)\n",
    "        if rank[xroot]<rank[yroot]:\n",
    "            parent[xroot]=yroot\n",
    "        elif rank[xroot] > rank[yroot]:\n",
    "            parent[yroot]=xroot\n",
    "        else:\n",
    "            parent[yroot]=xroot\n",
    "            rank[xroot]+=1\n",
    "            \n",
    "    #applying kruskal algorithum\n",
    "    def kruskal_algo(self):\n",
    "        result=[]\n",
    "        i, e=0,0\n",
    "        self.graph=sorted(self.graph, key=lambda item: item[2])\n",
    "        parent=[]\n",
    "        rank=[]\n",
    "        for node in range(self.V):\n",
    "            parent.append(node)\n",
    "            rank.append(0)\n",
    "            \n",
    "        while e<self.V-1:\n",
    "            u,v,w=self.graph[i]\n",
    "            i=i+1\n",
    "            x=self.find(parent,u)\n",
    "            y=self.find(parent,v)\n",
    "            \n",
    "            if x != y:\n",
    "                e=e+1\n",
    "                result.append([u, v, w])\n",
    "                self.apply_union(parent, rank, x, y)\n",
    "        for u, v, weight in result:\n",
    "            print(\"%d-%d: %d\" % (u, v, weight))\n",
    "            \n",
    "g=Graph(6)\n",
    "g.add_edge(0,1,2)\n",
    "g.add_edge(0,2,3)\n",
    "g.add_edge(1,3,3)\n",
    "g.add_edge(1,4,4)\n",
    "g.add_edge(1,2,5)\n",
    "g.add_edge(2,4,5)\n",
    "g.add_edge(3,4,2)\n",
    "g.add_edge(3,5,3)\n",
    "g.add_edge(4,5,5)\n",
    "g.kruskal_algo()"
   ]
  },
  {
   "cell_type": "markdown",
   "id": "e7cf5631",
   "metadata": {},
   "source": [
    "---\n",
    "# BellmanFord's Alogrithm\n",
    "\n",
    "- This Algorith solves the single source selected path problem of a directed graph\n",
    "- In which the edges weight can be negative\n",
    "- This algorith is appiled to find shorted path, if any negative weighted cycle doesn't exist.\n",
    "\n",
    "<img src=\"bellmanfords.jpg\" width=\"700\" height=\"600\"/>\n",
    "\n",
    "\n",
    "<img src=\"exm_bellman's.drawio.svg\"/>"
   ]
  },
  {
   "cell_type": "code",
   "execution_count": 30,
   "id": "5a705b51",
   "metadata": {},
   "outputs": [
    {
     "name": "stdout",
     "output_type": "stream",
     "text": [
      "Vertex Distance from Source\n",
      "0\t\t0\n",
      "1\t\t2\n",
      "2\t\t4\n",
      "3\t\t2\n",
      "4\t\t7\n"
     ]
    }
   ],
   "source": [
    "class Graph:\n",
    " \n",
    "    def __init__(self, vertices):\n",
    "        self.V = vertices  # No. of vertices\n",
    "        self.graph = []\n",
    " \n",
    "    # function to add an edge to graph\n",
    "    def addEdge(self, u, v, w):\n",
    "        self.graph.append([u, v, w])\n",
    " \n",
    "    # utility function used to print the solution\n",
    "    def printArr(self, dist):\n",
    "        print(\"Vertex Distance from Source\")\n",
    "        for i in range(self.V):\n",
    "            print(\"{0}\\t\\t{1}\".format(i, dist[i]))\n",
    " \n",
    "    # The main function that finds shortest distances from src to\n",
    "    # all other vertices using Bellman-Ford algorithm. The function\n",
    "    # also detects negative weight cycle\n",
    "    def BellmanFord(self, src):\n",
    " \n",
    "        # Step 1: Initialize distances from src to all other vertices\n",
    "        # as INFINITE\n",
    "        dist = [float(\"Inf\")] * self.V\n",
    "        dist[src] = 0\n",
    " \n",
    "        # Step 2: Relax all edges |V| - 1 times. A simple shortest\n",
    "        # path from src to any other vertex can have at-most |V| - 1\n",
    "        # edges\n",
    "        for _ in range(self.V - 1):\n",
    "            # Update dist value and parent index of the adjacent vertices of\n",
    "            # the picked vertex. Consider only those vertices which are still in\n",
    "            # queue\n",
    "            for u, v, w in self.graph:\n",
    "                if dist[u] != float(\"Inf\") and dist[u] + w < dist[v]:\n",
    "                    dist[v] = dist[u] + w\n",
    " \n",
    "        # Step 3: check for negative-weight cycles. The above step\n",
    "        # guarantees shortest distances if graph doesn't contain\n",
    "        # negative weight cycle. If we get a shorter path, then there\n",
    "        # is a cycle.\n",
    " \n",
    "        for u, v, w in self.graph:\n",
    "            if dist[u] != float(\"Inf\") and dist[u] + w < dist[v]:\n",
    "                print(\"Graph contains negative weight cycle\")\n",
    "                return\n",
    " \n",
    "        # print all distance\n",
    "        self.printArr(dist)\n",
    " \n",
    " \n",
    "# Driver's code\n",
    "if __name__ == '__main__':\n",
    "    g = Graph(5)\n",
    "    g.addEdge(0, 1, 2)\n",
    "    g.addEdge(0, 2, 4)\n",
    "    g.addEdge(1, 3, 2)\n",
    "    g.addEdge(2, 4, 3)\n",
    "    g.addEdge(2, 3, 4)\n",
    "    g.addEdge(2, 3, 4)\n",
    "    g.addEdge(4, 3, -5)\n",
    " \n",
    "    # function call\n",
    "    g.BellmanFord(0)"
   ]
  },
  {
   "cell_type": "code",
   "execution_count": 32,
   "id": "f88d1b3b",
   "metadata": {},
   "outputs": [
    {
     "name": "stdout",
     "output_type": "stream",
     "text": [
      "Vertex Distance from Source\n",
      "0\t\t0\n",
      "1\t\t2\n",
      "2\t\t4\n",
      "3\t\t2\n",
      "4\t\t7\n"
     ]
    }
   ],
   "source": [
    "class Graph:\n",
    "\n",
    "\n",
    "\n",
    "    def __init__(self, vertices):\n",
    "\n",
    "        self.M = vertices   # Total number of vertices in the graph\n",
    "\n",
    "        self.graph = []     # Array of edges\n",
    "\n",
    "\n",
    "\n",
    "    # Add edges\n",
    "\n",
    "    def add_edge(self, a, b, c):\n",
    "\n",
    "        self.graph.append([a, b, c])\n",
    "\n",
    "\n",
    "\n",
    "    # Print the solution\n",
    "\n",
    "    def print_solution(self, distance):\n",
    "\n",
    "        print(\"Vertex Distance from Source\")\n",
    "\n",
    "        for k in range(self.M):\n",
    "\n",
    "            print(\"{0}\\t\\t{1}\".format(k, distance[k]))\n",
    "\n",
    "\n",
    "\n",
    "    def bellman_ford(self, src):\n",
    "\n",
    "\n",
    "\n",
    "        distance = [float(\"Inf\")] * self.M\n",
    "\n",
    "        distance[src] = 0\n",
    "\n",
    "\n",
    "\n",
    "        for _ in range(self.M - 1):\n",
    "\n",
    "            for a, b, c in self.graph:\n",
    "\n",
    "                if distance[a] != float(\"Inf\") and distance[a] + c < distance[b]:\n",
    "\n",
    "                    distance[b] = distance[a] + c\n",
    "\n",
    "\n",
    "\n",
    "        for a, b, c in self.graph:\n",
    "\n",
    "            if distance[a] != float(\"Inf\") and distance[a] + c < distance[b]:\n",
    "\n",
    "                print(\"Graph contains negative weight cycle\")\n",
    "\n",
    "                return\n",
    "\n",
    "\n",
    "\n",
    "        self.print_solution(distance)\n",
    "\n",
    "\n",
    "\n",
    "g = Graph(5)\n",
    "\n",
    "g.add_edge(0, 1, 2)\n",
    "\n",
    "g.add_edge(0, 2, 4)\n",
    "\n",
    "g.add_edge(1, 3, 2)\n",
    "\n",
    "g.add_edge(2, 4, 3)\n",
    "\n",
    "g.add_edge(2, 3, 4)\n",
    "\n",
    "g.add_edge(4, 3, -5)\n",
    "\n",
    "\n",
    "\n",
    "g.bellman_ford(0)\n"
   ]
  },
  {
   "cell_type": "code",
   "execution_count": 36,
   "id": "89aad17a",
   "metadata": {},
   "outputs": [
    {
     "name": "stdout",
     "output_type": "stream",
     "text": [
      "Sorted Array is\n",
      "[0.1234, 0.3434, 0.565, 0.656, 0.665, 0.897]\n"
     ]
    }
   ],
   "source": [
    "# Python3 program to sort an array\n",
    "# using bucket sort\n",
    "\n",
    "\n",
    "def insertionSort(b):\n",
    "    for i in range(1, len(b)):\n",
    "        up = b[i]\n",
    "        j = i - 1\n",
    "        while j >= 0 and b[j] > up:\n",
    "            b[j + 1] = b[j]\n",
    "            j -= 1\n",
    "        b[j + 1] = up\n",
    "    return b\n",
    "\n",
    "\n",
    "def bucketSort(x):\n",
    "    arr = []\n",
    "    slot_num = 10 # 10 means 10 slots, each\n",
    "    # slot's size is 0.1\n",
    "    for i in range(slot_num):\n",
    "        arr.append([])\n",
    "\n",
    "    # Put array elements in different buckets\n",
    "    for j in x:\n",
    "        index_b = int(slot_num * j)\n",
    "        arr[index_b].append(j)\n",
    "\n",
    "    # Sort individual buckets\n",
    "    for i in range(slot_num):\n",
    "        arr[i] = insertionSort(arr[i])\n",
    "\n",
    "    # concatenate the result\n",
    "    k = 0\n",
    "    for i in range(slot_num):\n",
    "        for j in range(len(arr[i])):\n",
    "            x[k] = arr[i][j]\n",
    "            k += 1\n",
    "    return x\n",
    "\n",
    "\n",
    "x = [0.897, 0.565, 0.656,\n",
    "    0.1234, 0.665, 0.3434]\n",
    "print(\"Sorted Array is\")\n",
    "print(bucketSort(x))\n",
    "\n",
    "# This code is contributed by\n",
    "# Oneil Hsiao\n"
   ]
  },
  {
   "cell_type": "markdown",
   "id": "8f64e618",
   "metadata": {},
   "source": [
    "# Bucket Sort\n",
    "\n",
    "> __Step-1__- Create array with n elements where each slot will represent a bucket.<br>\n",
    "> __Step-2__- Insert the elements into the bucket from the input array based on their range.<br>\n",
    "    - Take each element from the inout array.<br>\n",
    "    - Multiply the element but the size of the bucket array().<br>\n",
    "    - Convert the result into integer which gives us the bucket index<br>\n",
    "    - Insert the element into the bucket corresponding to the calulated index<br>\n",
    "    - Repeat the steps for all the elements in the array.<br>\n",
    "    \n",
    "<img src=\"bucket_sort.jpg\"/>"
   ]
  },
  {
   "cell_type": "code",
   "execution_count": 45,
   "id": "4314c2e0",
   "metadata": {},
   "outputs": [
    {
     "name": "stdout",
     "output_type": "stream",
     "text": [
      "Sorted Array is\n",
      "[0.12, 0.17, 0.21, 0.23, 0.26, 0.39, 0.68, 0.72, 0.78, 0.94]\n"
     ]
    }
   ],
   "source": [
    "# Python3 program to sort an array\n",
    "# using bucket sort\n",
    "\n",
    "\n",
    "def insertionSort(b):\n",
    "    for i in range(1, len(b)):\n",
    "        up = b[i]\n",
    "        j = i - 1\n",
    "        while j >= 0 and b[j] > up:\n",
    "            b[j + 1] = b[j]\n",
    "            j -= 1\n",
    "        b[j + 1] = up\n",
    "    return b\n",
    "\n",
    "\n",
    "def bucketSort(x):\n",
    "    arr = []\n",
    "    slot_num = 10 # 10 means 10 slots, each\n",
    "    # slot's size is 0.1\n",
    "    for i in range(slot_num):\n",
    "        arr.append([])\n",
    "\n",
    "    # Put array elements in different buckets\n",
    "    for j in x:\n",
    "        index_b = int(slot_num * j)\n",
    "        arr[index_b].append(j)\n",
    "\n",
    "    # Sort individual buckets\n",
    "    for i in range(slot_num):\n",
    "        arr[i] = insertionSort(arr[i])\n",
    "\n",
    "    # concatenate the result\n",
    "    k = 0\n",
    "    for i in range(slot_num):\n",
    "        for j in range(len(arr[i])):\n",
    "            x[k] = arr[i][j]\n",
    "            k += 1\n",
    "    return x\n",
    "\n",
    "\n",
    "# Driver Code\n",
    "# x = [0.897, 0.565, 0.656,0.1234, 0.665, 0.3434]\n",
    "x = [0.78,0.17,0.39,0.26,0.72,0.94,0.21,0.12,0.23,0.68]\n",
    "\n",
    "print(\"Sorted Array is\")\n",
    "print(bucketSort(x))\n",
    "\n",
    "# This code is contributed by\n",
    "# Oneil Hsiao\n"
   ]
  },
  {
   "cell_type": "code",
   "execution_count": 52,
   "id": "cc498a3c",
   "metadata": {},
   "outputs": [
    {
     "data": {
      "text/plain": [
       "97"
      ]
     },
     "execution_count": 52,
     "metadata": {},
     "output_type": "execute_result"
    }
   ],
   "source": [
    "ord('a')"
   ]
  },
  {
   "cell_type": "code",
   "execution_count": 8,
   "id": "2ad10be6",
   "metadata": {},
   "outputs": [
    {
     "data": {
      "text/plain": [
       "194"
      ]
     },
     "execution_count": 8,
     "metadata": {},
     "output_type": "execute_result"
    }
   ],
   "source": [
    "134+60"
   ]
  },
  {
   "cell_type": "code",
   "execution_count": 12,
   "id": "9ccf4710",
   "metadata": {},
   "outputs": [
    {
     "data": {
      "text/plain": [
       "82"
      ]
     },
     "execution_count": 12,
     "metadata": {},
     "output_type": "execute_result"
    }
   ],
   "source": [
    "(134+115)-(52+115)"
   ]
  },
  {
   "cell_type": "code",
   "execution_count": 16,
   "id": "d42acad9",
   "metadata": {},
   "outputs": [
    {
     "data": {
      "text/plain": [
       "182"
      ]
     },
     "execution_count": 16,
     "metadata": {},
     "output_type": "execute_result"
    }
   ],
   "source": [
    "(52+130)"
   ]
  },
  {
   "cell_type": "code",
   "execution_count": 17,
   "id": "e5de23af",
   "metadata": {},
   "outputs": [
    {
     "data": {
      "text/plain": [
       "264"
      ]
     },
     "execution_count": 17,
     "metadata": {},
     "output_type": "execute_result"
    }
   ],
   "source": [
    "(134+130)"
   ]
  },
  {
   "cell_type": "code",
   "execution_count": 19,
   "id": "9b343700",
   "metadata": {},
   "outputs": [
    {
     "data": {
      "text/plain": [
       "68.93939393939394"
      ]
     },
     "execution_count": 19,
     "metadata": {},
     "output_type": "execute_result"
    }
   ],
   "source": [
    "182/264*100"
   ]
  },
  {
   "cell_type": "code",
   "execution_count": 41,
   "id": "df442ff6",
   "metadata": {},
   "outputs": [
    {
     "data": {
      "text/plain": [
       "77.30496453900709"
      ]
     },
     "execution_count": 41,
     "metadata": {},
     "output_type": "execute_result"
    }
   ],
   "source": [
    "(70+148)/(134+148)"
   ]
  },
  {
   "cell_type": "code",
   "execution_count": 31,
   "id": "f00f4e09",
   "metadata": {},
   "outputs": [
    {
     "data": {
      "text/plain": [
       "0.7028985507246377"
      ]
     },
     "execution_count": 31,
     "metadata": {},
     "output_type": "execute_result"
    }
   ],
   "source": [
    "(52+142)/(134+142)"
   ]
  },
  {
   "cell_type": "code",
   "execution_count": 38,
   "id": "649b35a8",
   "metadata": {},
   "outputs": [
    {
     "data": {
      "text/plain": [
       "0.6706827309236948"
      ]
     },
     "execution_count": 38,
     "metadata": {},
     "output_type": "execute_result"
    }
   ],
   "source": [
    "(52+115)/(134+115)"
   ]
  },
  {
   "cell_type": "code",
   "execution_count": 39,
   "id": "80329560",
   "metadata": {},
   "outputs": [
    {
     "data": {
      "text/plain": [
       "0.5223880597014925"
      ]
     },
     "execution_count": 39,
     "metadata": {},
     "output_type": "execute_result"
    }
   ],
   "source": [
    "70/134"
   ]
  },
  {
   "cell_type": "code",
   "execution_count": null,
   "id": "a93b2b8f",
   "metadata": {},
   "outputs": [],
   "source": []
  }
 ],
 "metadata": {
  "kernelspec": {
   "display_name": "Python 3 (ipykernel)",
   "language": "python",
   "name": "python3"
  },
  "language_info": {
   "codemirror_mode": {
    "name": "ipython",
    "version": 3
   },
   "file_extension": ".py",
   "mimetype": "text/x-python",
   "name": "python",
   "nbconvert_exporter": "python",
   "pygments_lexer": "ipython3",
   "version": "3.11.5"
  }
 },
 "nbformat": 4,
 "nbformat_minor": 5
}
