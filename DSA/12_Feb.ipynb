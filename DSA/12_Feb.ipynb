{
 "cells": [
  {
   "cell_type": "markdown",
   "id": "64f47113",
   "metadata": {},
   "source": [
    "<img src=\"BST_depth.jpg\"/>"
   ]
  },
  {
   "cell_type": "code",
   "execution_count": 45,
   "id": "2ecd2dd6",
   "metadata": {},
   "outputs": [
    {
     "name": "stdout",
     "output_type": "stream",
     "text": [
      "Depth left:  0\n",
      "Depth right:  0\n",
      "Depth left:  0\n",
      "Depth right:  0\n",
      "Depth left:  1\n",
      "Depth right:  1\n",
      "Depth left:  0\n",
      "Depth right:  0\n",
      "Depth left:  0\n",
      "Depth right:  0\n",
      "Depth left:  1\n",
      "Depth right:  1\n",
      "Depth left:  2\n",
      "Depth right:  2\n",
      "The height of BST:  3\n"
     ]
    }
   ],
   "source": [
    "# WAP to calculate depth and height of BST\n",
    "\n",
    "def depth(root):\n",
    "    if root is None:\n",
    "        return 0\n",
    "    ldepth = depth(root.left)\n",
    "    rdepth = depth(root.right)\n",
    "    print(\"Depth left: \",ldepth)\n",
    "    print(\"Depth right: \",rdepth)\n",
    "    if (ldepth>rdepth):\n",
    "        return ldepth+1\n",
    "    else:\n",
    "        return rdepth+1\n",
    "    \n",
    "h = depth(b)\n",
    "print(\"The height of BST: \",h)"
   ]
  },
  {
   "cell_type": "markdown",
   "id": "c73da382",
   "metadata": {},
   "source": [
    "<img src=\"left_and_right_node_sum.jpg\"/>"
   ]
  },
  {
   "cell_type": "code",
   "execution_count": 75,
   "id": "77a2b46e",
   "metadata": {},
   "outputs": [
    {
     "data": {
      "text/plain": [
       "[61]"
      ]
     },
     "execution_count": 75,
     "metadata": {},
     "output_type": "execute_result"
    }
   ],
   "source": [
    "# WAP to find sum of left leaf nodes and sum of right leaf nodes.\n",
    "\n",
    "def leftLeavesSumRec(root, isleft, summ):\n",
    "    if root is None:\n",
    "        return\n",
    "# Check whether this node is a leaf node and is left\n",
    "    if root.left is None and root.right is None and isleft == True:\n",
    "        summ[0] += root.data\n",
    "# Pass 1 for left and 0 for right\n",
    "    leftLeavesSumRec (root.left, 1, summ) \n",
    "    leftLeavesSumRec (root.right, 0, summ)\n",
    "    \n",
    "def leftLeavesSum(root):\n",
    "    summ = [0]\n",
    "    \n",
    "    leftLeavesSumRec(root,0,summ)\n",
    "    \n",
    "    return summ\n",
    "\n",
    "\n",
    "def rightLeavesSumRec(root, isright, summ):\n",
    "    if root is None:\n",
    "        return\n",
    "# Check whether this node is a leaf node and is right\n",
    "    if root.left is None and root.right is None and isright == True:\n",
    "        summ[0] += root.data\n",
    "# Pass 1 for right and 0 for left\n",
    "    rightLeavesSumRec (root.right, 1, summ) \n",
    "    rightLeavesSumRec (root.left, 0, summ)\n",
    "    \n",
    "def rightLeavesSum(root):\n",
    "    summ = [0]\n",
    "    \n",
    "    rightLeavesSumRec(root,1,summ)\n",
    "    \n",
    "    return summ\n",
    "\n",
    "\n",
    "\n",
    "rightLeavesSum(b)"
   ]
  },
  {
   "cell_type": "code",
   "execution_count": null,
   "id": "cf295fc5",
   "metadata": {},
   "outputs": [],
   "source": [
    "# WAP to calculate diameter of a binary search tree\n"
   ]
  }
 ],
 "metadata": {
  "kernelspec": {
   "display_name": "Python 3 (ipykernel)",
   "language": "python",
   "name": "python3"
  },
  "language_info": {
   "codemirror_mode": {
    "name": "ipython",
    "version": 3
   },
   "file_extension": ".py",
   "mimetype": "text/x-python",
   "name": "python",
   "nbconvert_exporter": "python",
   "pygments_lexer": "ipython3",
   "version": "3.11.5"
  }
 },
 "nbformat": 4,
 "nbformat_minor": 5
}
