{
 "cells": [
  {
   "cell_type": "code",
   "execution_count": 1,
   "id": "4251fef2",
   "metadata": {},
   "outputs": [],
   "source": [
    "# WAP to add the node at adjacent for weighted and directed graph.\n",
    "\n"
   ]
  },
  {
   "cell_type": "code",
   "execution_count": null,
   "id": "91bf75fc",
   "metadata": {},
   "outputs": [],
   "source": [
    "# WAP to delete the node c in unweighted and directed graph."
   ]
  }
 ],
 "metadata": {
  "kernelspec": {
   "display_name": "Python 3 (ipykernel)",
   "language": "python",
   "name": "python3"
  },
  "language_info": {
   "codemirror_mode": {
    "name": "ipython",
    "version": 3
   },
   "file_extension": ".py",
   "mimetype": "text/x-python",
   "name": "python",
   "nbconvert_exporter": "python",
   "pygments_lexer": "ipython3",
   "version": "3.11.5"
  }
 },
 "nbformat": 4,
 "nbformat_minor": 5
}
