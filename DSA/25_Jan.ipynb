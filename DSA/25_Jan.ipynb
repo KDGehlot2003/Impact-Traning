{
 "cells": [
  {
   "cell_type": "markdown",
   "id": "f32efb05",
   "metadata": {},
   "source": [
    "# Pattern Practice"
   ]
  },
  {
   "cell_type": "code",
   "execution_count": 14,
   "id": "3422ce15",
   "metadata": {},
   "outputs": [
    {
     "name": "stdout",
     "output_type": "stream",
     "text": [
      "6\n",
      "6 \n",
      "5 6 \n",
      "4 5 6 \n",
      "3 4 5 6 \n",
      "2 3 4 5 6 \n",
      "1 2 3 4 5 6 \n"
     ]
    }
   ],
   "source": [
    "# 6\n",
    "# 5 6\n",
    "# 4 5 6\n",
    "# 3 4 5 6\n",
    "# 2 3 4 5 6\n",
    "# 1 2 3 4 5 6\n",
    "\n",
    "n= int(input())\n",
    "\n",
    "for i in range(1,n+1):\n",
    "    j = n-i+1\n",
    "    for k in range(j,n+1):\n",
    "        print(k,end=\" \")\n",
    "    print()"
   ]
  },
  {
   "cell_type": "code",
   "execution_count": 26,
   "id": "e8cbbd61",
   "metadata": {},
   "outputs": [
    {
     "name": "stdout",
     "output_type": "stream",
     "text": [
      "5\n",
      "1 \n",
      "1 * \n",
      "1 * 3 \n",
      "1 * 3 * \n",
      "1 * 3 * 5 \n"
     ]
    }
   ],
   "source": [
    "# 1\n",
    "# 1 *\n",
    "# 1 * 3\n",
    "# 1 * 3 * \n",
    "# 1 * 3 * 5\n",
    "\n",
    "n = int(input())\n",
    "\n",
    "i = 1\n",
    "\n",
    "while(i<=n):\n",
    "    j = 1\n",
    "    while(j<=i):\n",
    "        if j%2:\n",
    "            print(j,end=\" \")\n",
    "        else:\n",
    "            print(\"*\",end=\" \")\n",
    "        j = j+1\n",
    "    i = i+1\n",
    "    print()"
   ]
  },
  {
   "cell_type": "code",
   "execution_count": 32,
   "id": "fca3cdd0",
   "metadata": {},
   "outputs": [
    {
     "name": "stdout",
     "output_type": "stream",
     "text": [
      "5\n",
      "1 \n",
      "* * \n",
      "1 2 3 \n",
      "* * * * \n",
      "1 2 3 4 5 \n"
     ]
    }
   ],
   "source": [
    "# 1\n",
    "# * * \n",
    "# 1 2 3\n",
    "# * * * * \n",
    "# 1 2 3 4 5 \n",
    "\n",
    "n = int(input())\n",
    "\n",
    "i = 1\n",
    "while i<=n:\n",
    "    j = 1\n",
    "    while j<=i:\n",
    "        if i%2:\n",
    "            print(j,end=\" \")\n",
    "        else:\n",
    "            print(\"*\",end=\" \")\n",
    "        j = j+1\n",
    "    i = i+1\n",
    "    print()"
   ]
  },
  {
   "cell_type": "code",
   "execution_count": 44,
   "id": "1553d1da",
   "metadata": {},
   "outputs": [
    {
     "name": "stdout",
     "output_type": "stream",
     "text": [
      "5\n",
      "1 \n",
      "2 3 \n",
      "4 5 6 \n",
      "7 8 9 10 \n",
      "11 12 13 14 15 \n"
     ]
    }
   ],
   "source": [
    "# 1\n",
    "# 2 3 \n",
    "# 4 5 6\n",
    "# 7 8 9 10\n",
    "# 11 12 13 14 15\n",
    "\n",
    "n = int(input())\n",
    "\n",
    "i = 1\n",
    "k = 1\n",
    "while i<=n:\n",
    "    j = 1\n",
    "    while j<=i:\n",
    "        print(k,end=\" \")\n",
    "        k = k+1\n",
    "        j = j+1\n",
    "    i = i+1\n",
    "    print()"
   ]
  },
  {
   "cell_type": "markdown",
   "id": "0f7d7497",
   "metadata": {},
   "source": [
    "##### "
   ]
  }
 ],
 "metadata": {
  "kernelspec": {
   "display_name": "Python 3 (ipykernel)",
   "language": "python",
   "name": "python3"
  },
  "language_info": {
   "codemirror_mode": {
    "name": "ipython",
    "version": 3
   },
   "file_extension": ".py",
   "mimetype": "text/x-python",
   "name": "python",
   "nbconvert_exporter": "python",
   "pygments_lexer": "ipython3",
   "version": "3.11.5"
  }
 },
 "nbformat": 4,
 "nbformat_minor": 5
}
