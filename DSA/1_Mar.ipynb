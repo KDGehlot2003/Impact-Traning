{
 "cells": [
  {
   "cell_type": "markdown",
   "id": "04abdc10",
   "metadata": {},
   "source": [
    "# Trie Data Structure\n",
    "- Trie data structure is used to perform basic operation like insert, search and startswith method.\n",
    "- We can assume that all input letter are in lower case letter.\n",
    "- Using the trie data structre we can search the required content available in the string or not.\n",
    "- Using insert method we can insert the data in the tree.\n",
    "- Using the search method we can search the required content is available in the tree or not.\n",
    "- Using startswith method we can search or we can check the given tree is starting with the corresponding string or not.<br>\n",
    "<img src=\"trie.jpg\"/>\n",
    "|\n",
    "\n",
    "```Java\n",
    "System.out.println(\"Helo\");\n",
    "\n",
    "```"
   ]
  },
  {
   "cell_type": "code",
   "execution_count": 2,
   "id": "53be1186",
   "metadata": {},
   "outputs": [
    {
     "name": "stdout",
     "output_type": "stream",
     "text": [
      "True\n",
      "True\n",
      "True\n",
      "True\n",
      "True\n",
      "False\n",
      "True\n",
      "True\n",
      "True\n",
      "False\n"
     ]
    }
   ],
   "source": [
    "class TrieNode:\n",
    "    def __init__(self):\n",
    "        self.children = {}\n",
    "        self.is_end_of_word = False\n",
    "\n",
    "class Trie:\n",
    "    def __init__(self):\n",
    "        self.root = TrieNode()\n",
    "\n",
    "    def insert(self, word):\n",
    "        node = self.root\n",
    "        for char in word:\n",
    "            if char not in node.children:\n",
    "                node.children[char] = TrieNode()\n",
    "            node = node.children[char]\n",
    "#         print(node.children)\n",
    "        node.is_end_of_word = True\n",
    "\n",
    "    def search(self, word):\n",
    "        node = self.root\n",
    "        for char in word:\n",
    "            if char not in node.children:\n",
    "                return False\n",
    "            node = node.children[char]\n",
    "        return node.is_end_of_word\n",
    "    \n",
    "    def starts_with(self, prefix):\n",
    "        node = self.root\n",
    "        for char in prefix:\n",
    "            if char not in node.children:\n",
    "                return False\n",
    "            node = node.children[char]\n",
    "        return True\n",
    "    \n",
    "# Example usage:\n",
    "trie = Trie()\n",
    "words = [\"apple\", \"app\", \"banana\", \"bat\",\"ball\"]\n",
    "for word in words:\n",
    "    trie.insert(word)\n",
    "\n",
    "print(trie.search(\"apple\"))  #output: True\n",
    "print(trie.search(\"app\"))  #output: True\n",
    "print(trie.search(\"banana\"))  #output: True\n",
    "print(trie.search(\"bat\"))  #output: True\n",
    "print(trie.search(\"ball\"))  #output: True\n",
    "print(trie.search(\"orange\"))  #output: False\n",
    "\n",
    "print(trie.starts_with(\"app\"))  #output: True\n",
    "print(trie.starts_with(\"ban\"))  #output: True\n",
    "print(trie.starts_with(\"bal\"))  #output: True\n",
    "print(trie.starts_with(\"ora\"))  #output: False"
   ]
  },
  {
   "cell_type": "code",
   "execution_count": 25,
   "id": "4683abec",
   "metadata": {},
   "outputs": [
    {
     "name": "stdout",
     "output_type": "stream",
     "text": [
      "[[9, 8, 7], [6, 5, 4], [3, 2, 1]]\n",
      "[[3, 2, 1], [6, 5, 4], [9, 8, 7]]\n"
     ]
    }
   ],
   "source": [
    "s = [[1,2,3],[4,5,6],[7,8,9]]\n",
    "# Normal Method\n",
    "# l = []\n",
    "\n",
    "# for i in s:\n",
    "#     l.append(i[::-1])\n",
    "# print(l[::-1])\n",
    "\n",
    "\n",
    "# List Comp..\n",
    "l = [(i[::-1]) for i in s[::-1]]\n",
    "print(l)\n",
    "\n",
    "lst = [(i[::-1]) for i in s]\n",
    "print(lst)"
   ]
  },
  {
   "cell_type": "code",
   "execution_count": 36,
   "id": "d1a2b7e5",
   "metadata": {},
   "outputs": [
    {
     "name": "stdout",
     "output_type": "stream",
     "text": [
      "[1, 2, 7, 5, 6]\n"
     ]
    }
   ],
   "source": [
    "l = [1,2,3,4,5,6]\n",
    "def e_list(l):\n",
    "\n",
    "    if len(l)%2!=0:\n",
    "        return l\n",
    "    else:\n",
    "        mid = len(l)//2\n",
    "        s = l[mid-1]+ l[mid]\n",
    "        del l[mid-1:mid+1]\n",
    "        l.insert(mid-1,s)\n",
    "        return l\n",
    "        \n",
    "print(e_list(l))"
   ]
  },
  {
   "cell_type": "code",
   "execution_count": 47,
   "id": "c15d8334",
   "metadata": {},
   "outputs": [
    {
     "name": "stdout",
     "output_type": "stream",
     "text": [
      "3\n",
      "20 10 30\n",
      "30\n",
      "[20, 10, 30]\n",
      "2\n"
     ]
    }
   ],
   "source": [
    "n= int(input())\n",
    "l = list(map(int,input().split()))[:n]\n",
    "target = int(input())\n",
    "\n",
    "print(l)\n",
    "s = sum(l)\n",
    "if (s%target==0):\n",
    "    r = s//target\n",
    "else:\n",
    "    r = (s//target) + 1\n",
    "    \n",
    "print(r)"
   ]
  },
  {
   "cell_type": "markdown",
   "id": "99db7b7c",
   "metadata": {},
   "source": [
    "## "
   ]
  }
 ],
 "metadata": {
  "kernelspec": {
   "display_name": "Python 3 (ipykernel)",
   "language": "python",
   "name": "python3"
  },
  "language_info": {
   "codemirror_mode": {
    "name": "ipython",
    "version": 3
   },
   "file_extension": ".py",
   "mimetype": "text/x-python",
   "name": "python",
   "nbconvert_exporter": "python",
   "pygments_lexer": "ipython3",
   "version": "3.11.5"
  }
 },
 "nbformat": 4,
 "nbformat_minor": 5
}
