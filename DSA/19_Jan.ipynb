{
 "cells": [
  {
   "cell_type": "markdown",
   "id": "fe9c315f",
   "metadata": {},
   "source": [
    "# Graph\n",
    "\n",
    "- Graph is a collection of vertices and edges.\n",
    "- Vertices will be represented by circles or nodes or hole.\n",
    "- Edges will represent the line.\n",
    "- Edges will connect the lines.\n",
    "\n",
    "<img src=\"Graphs.jpg\"/>\n",
    "\n",
    "## Degree of Node\n",
    "- The no. of edges connected to each node.\n",
    "\n",
    "- For dia-1:\n",
    "\n",
    "    - A--->2 \n",
    "    - B--->2\n",
    "    - C--->2\n",
    "\n",
    "## Size of a Graph\n",
    "- Size of a Graph represent the total no. of edges in the graph.\n",
    "\n",
    "- For dia-1:\n",
    "    - Size = 3\n",
    "    \n",
    "## Different types of Graph:\n",
    "#### 1. Directed and Undirected Graph:\n",
    "   - If the direction is indicated b/w the edges it is called as directed graph.\n",
    "\n",
    "   - If the no direction is indicated b/w the edges it is called as directed graph.\n",
    "   \n",
    "<img src=\"https://media.geeksforgeeks.org/wp-content/uploads/20230731155550/file.png\"/>\n",
    "\n",
    "#### 2. Weighted and Unweighted Graph:\n",
    "   - If the weight is specified b/w the edges then it is calles as weighted Graph.\n",
    "   - If the weight is not specified b/w the edges then it is calles as weighted Graph.\n",
    "   \n",
    "<img src=\"https://cdn.faun.dev/prod/media/public/original_images/graph_example2.png\"/>\n",
    "\n",
    "#### 3. Cyclic and Uncyclic Graph:\n",
    "   - If the graph is forming a circle then it is called as cyclic Graph.\n",
    "   - If the graph is not forming a circle then it is called as cyclic Graph.\n",
    "   \n",
    "<img src=\"https://nycomdorics.com/wp-content/uploads/2020/03/graph_example3.png\"/>\n",
    "\n",
    "## Representation of the Graph:\n",
    "- The Graph will be represented in two ways using:\n",
    "    #### 1. Multi Dimension Array\n",
    "    \n",
    "    <img src=\"multi_dimension_array.jpg\"/>\n",
    "    \n",
    "    #### 2. List\n",
    "    \n",
    "    <img src=\"list_graph.jpg\"/>\n",
    "    \n",
    "    \n",
    "## Traversing in Graph:\n",
    "- Graph support 2 types of traversing:\n",
    "    #### 1. BFS:\n",
    "   - BFS is similar to implimentaion of the queue.\n",
    "   \n",
    "   <img src=\"BFS.jpg\"/>\n",
    "   \n",
    "    #### 2. DFS:\n",
    "   - DFS is simialr to implimentation of the stack\n",
    "   \n",
    "   <img src=\"DFS.jpg\"/>\n",
    "     \n",
    " \n",
    "- Queue works on the priciple of FIFO.\n",
    "- Stack works on the priciple of LIFO.\n",
    "    \n",
    "    \n"
   ]
  },
  {
   "cell_type": "code",
   "execution_count": 11,
   "id": "1a495c5a",
   "metadata": {},
   "outputs": [
    {
     "name": "stdout",
     "output_type": "stream",
     "text": [
      "AAAABBBCCDD\n",
      "YES:  A4B3C2D2\n"
     ]
    }
   ],
   "source": [
    "# WAP to read a string from user check whether it is compressed string or not.\n",
    "\n",
    "s = input()\n",
    "\n",
    "d = {p:s.count(p) for p in s}\n",
    "new_s =''   \n",
    "for p,q in d.items():\n",
    "    new_s = new_s+p+str(q)\n",
    "    \n",
    "# print(new_s)\n",
    "if len(s)<len(new_s):\n",
    "    print(\"NOT:\",new_s)\n",
    "else:\n",
    "    print(\"YES: \",new_s)"
   ]
  },
  {
   "cell_type": "code",
   "execution_count": null,
   "id": "23290db5",
   "metadata": {},
   "outputs": [],
   "source": []
  }
 ],
 "metadata": {
  "kernelspec": {
   "display_name": "Python 3 (ipykernel)",
   "language": "python",
   "name": "python3"
  },
  "language_info": {
   "codemirror_mode": {
    "name": "ipython",
    "version": 3
   },
   "file_extension": ".py",
   "mimetype": "text/x-python",
   "name": "python",
   "nbconvert_exporter": "python",
   "pygments_lexer": "ipython3",
   "version": "3.11.5"
  }
 },
 "nbformat": 4,
 "nbformat_minor": 5
}
