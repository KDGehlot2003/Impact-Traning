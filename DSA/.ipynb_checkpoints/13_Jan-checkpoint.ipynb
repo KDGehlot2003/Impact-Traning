{
 "cells": [
  {
   "cell_type": "markdown",
   "id": "44d966fd",
   "metadata": {},
   "source": [
    "# Data Structure\n",
    "- Performing maiplulation on the data is called data structure.\n",
    "- different manipulation are:\n",
    "    1. Storing the data\n",
    "    2. Updating the data\n",
    "    3. Retriving the data\n",
    "    4. deleting the data\n",
    "- Various data structure concept are :\n",
    "    1. Stack \n",
    "    2. Queue\n",
    "    3. Searching and shorting Techniques\n",
    "    4. linked list\n",
    "    5. Trees\n",
    "    6. Graphs\n",
    "    \n",
    "## Linked List:\n",
    "- Linked list is a collection of nodes and every node is will be connected to next node.\n",
    "- Linked list is classified into 3 types:\n",
    "    1. Single linked list\n",
    "    2. Double linked list\n",
    "    3. Circular linked list\n",
    "    \n",
    "### Single Linked List:\n",
    "   - Single Linked list is a collection of nodes and every node will contain two fields:\n",
    "       1. Data\n",
    "       2. Address\n",
    "   - The Various operation we going to perform:\n",
    "       1. Creating the node\n",
    "       2. inserting the data in the node\n",
    "       3. Displaying the data present in the node\n",
    "       4. Adding the node\n",
    "       5. deleting the node\n",
    "       6. Displaying the data in the reverse order\n",
    "   \n",
    "   \n",
    "<img src=\"LinkedLIst.jpeg\"  />\n",
    "<img src=\"single_linked_list.jpeg\"  />"
   ]
  },
  {
   "cell_type": "code",
   "execution_count": 27,
   "id": "ec147ffa",
   "metadata": {},
   "outputs": [
    {
     "name": "stdout",
     "output_type": "stream",
     "text": [
      "10--->20--->30--->40--->"
     ]
    }
   ],
   "source": [
    "# Single Linked list\n",
    "class Node:\n",
    "    def __init__(self,data):\n",
    "        self.data = data\n",
    "        self.next = None\n",
    "class slist:\n",
    "    def __init__(self):\n",
    "        self.head = None\n",
    "    def display(self):\n",
    "        temp = self.head\n",
    "        if (self.head is None):\n",
    "            print(\"Empty\")\n",
    "        else:\n",
    "            while(temp):\n",
    "                print(temp.data,end=\"--->\")\n",
    "                temp = temp.next\n",
    "                \n",
    "n1 = Node(10)\n",
    "s1 = slist()\n",
    "s1.head = n1\n",
    "n2 = Node(20)\n",
    "n1.next = n2\n",
    "n3 = Node(30)\n",
    "n2.next = n3\n",
    "n4 = Node(40)\n",
    "n3.next = n4\n",
    "s1.display()"
   ]
  },
  {
   "cell_type": "code",
   "execution_count": 37,
   "id": "446a3ec9",
   "metadata": {},
   "outputs": [
    {
     "name": "stdout",
     "output_type": "stream",
     "text": [
      "10--->20--->30--->40--->\n",
      "40--->30--->20--->10--->"
     ]
    }
   ],
   "source": [
    "# WAP to reverse the linked list\n",
    "\n",
    "class Node:\n",
    "    def __init__(self,data):\n",
    "        self.data = data\n",
    "        self.next = None\n",
    "class slist:\n",
    "    l = []\n",
    "    def __init__(self):\n",
    "        self.head = None\n",
    "    def display(self):\n",
    "        temp = self.head\n",
    "        if (self.head is None):\n",
    "            print(\"Empty\")\n",
    "        else:\n",
    "            while(temp):\n",
    "                print(temp.data,end=\"--->\")\n",
    "                slist.l.append(temp.data)\n",
    "                temp = temp.next\n",
    "        slist.l.reverse()\n",
    "        print()\n",
    "    def rdisplay(self):\n",
    "        for i in slist.l:\n",
    "            print(i,end=\"--->\")\n",
    "                \n",
    "n1 = Node(10)\n",
    "s1 = slist()\n",
    "s1.head = n1\n",
    "n2 = Node(20)\n",
    "n1.next = n2\n",
    "n3 = Node(30)\n",
    "n2.next = n3\n",
    "n4 = Node(40)\n",
    "n3.next = n4\n",
    "s1.display()\n",
    "s1.rdisplay()"
   ]
  },
  {
   "cell_type": "markdown",
   "id": "23a9728d",
   "metadata": {},
   "source": [
    "<img src=\"add_node_beg.jpeg\"/>"
   ]
  },
  {
   "cell_type": "code",
   "execution_count": 40,
   "id": "18becb84",
   "metadata": {},
   "outputs": [
    {
     "name": "stdout",
     "output_type": "stream",
     "text": [
      "5--->10--->20--->30--->40--->"
     ]
    }
   ],
   "source": [
    "# WAP to add a node in the beginning\n",
    "\n",
    "# Single Linked list\n",
    "class Node:\n",
    "    def __init__(self,data):\n",
    "        self.data = data\n",
    "        self.next = None\n",
    "class slist:\n",
    "    def __init__(self):\n",
    "        self.head = None\n",
    "    def node_beg(self,data):\n",
    "        nb = Node(data)\n",
    "        temp = self.head\n",
    "        self.head = nb\n",
    "        nb.next = temp\n",
    "    def display(self):\n",
    "        temp = self.head\n",
    "        if (self.head is None):\n",
    "            print(\"Empty\")\n",
    "        else:\n",
    "            while(temp):\n",
    "                print(temp.data,end=\"--->\")\n",
    "                temp = temp.next\n",
    "                \n",
    "n1 = Node(10)\n",
    "s1 = slist()\n",
    "s1.head = n1\n",
    "n2 = Node(20)\n",
    "n1.next = n2\n",
    "n3 = Node(30)\n",
    "n2.next = n3\n",
    "n4 = Node(40)\n",
    "n3.next = n4\n",
    "s1.node_beg(5)\n",
    "s1.display()"
   ]
  },
  {
   "cell_type": "code",
   "execution_count": null,
   "id": "5ff043ce",
   "metadata": {},
   "outputs": [],
   "source": []
  }
 ],
 "metadata": {
  "kernelspec": {
   "display_name": "Python 3 (ipykernel)",
   "language": "python",
   "name": "python3"
  },
  "language_info": {
   "codemirror_mode": {
    "name": "ipython",
    "version": 3
   },
   "file_extension": ".py",
   "mimetype": "text/x-python",
   "name": "python",
   "nbconvert_exporter": "python",
   "pygments_lexer": "ipython3",
   "version": "3.11.5"
  }
 },
 "nbformat": 4,
 "nbformat_minor": 5
}
