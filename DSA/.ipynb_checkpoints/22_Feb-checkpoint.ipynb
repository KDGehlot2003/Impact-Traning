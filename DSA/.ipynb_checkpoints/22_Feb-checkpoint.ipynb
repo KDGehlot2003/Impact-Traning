{
 "cells": [
  {
   "cell_type": "markdown",
   "id": "c423c4cd",
   "metadata": {},
   "source": [
    "# Application Of stack\n",
    "\n",
    "1) Stack can be used to convert infix expression to postfix expression\n",
    "2) It also convert infix expression to prefix expression\n",
    "3) Evaluation of postfix expression\n",
    "4) Balancing the symbols\n",
    "\n",
    "## Infix:\n",
    "- A operator is in between the operands then it is called as infix expression\n",
    "- Ex: A+B\n",
    "\n",
    "## Postfix:\n",
    "- A operator comes after the operands then it is called as postfix expression\n",
    "- Ex: AB+\n",
    "\n",
    "## Prefix:\n",
    "- A operator comes before the operands then it is called as prefix expression\n",
    "- Ex: +AB\n",
    "\n",
    "## Infix to postfix conversion:\n",
    "- STEP - 1 : Read the infix expression\n",
    "- STEP - 2 : If the character is left parenthesis '(' then push it into the stack\n",
    "- STEP - 3 : If the character is operand then add it into postfix expression\n",
    "- STEP - 4 : If the operator is a character check a stack is empty or not\n",
    "- STEP - 5 : If stack is empty push operator into stack\n",
    "- STEP - 6 : If stack is not empty then check the priority of the operator \n",
    "- STEP - 7 : If priority of the operator is greater than operator present in the stack then push operator to stack\n",
    "- STEP - 8 : If the priority of the operator is less than operator present in the stack then pop operator from the stack and to the postfix expression\n",
    "- STEP - 9 : If the character is right parenthesis ')' then pop all element from the stack until reaching the right parenthesis ')'\n",
    "\n"
   ]
  },
  {
   "cell_type": "code",
   "execution_count": null,
   "id": "d797669e",
   "metadata": {},
   "outputs": [],
   "source": []
  }
 ],
 "metadata": {
  "kernelspec": {
   "display_name": "Python 3 (ipykernel)",
   "language": "python",
   "name": "python3"
  },
  "language_info": {
   "codemirror_mode": {
    "name": "ipython",
    "version": 3
   },
   "file_extension": ".py",
   "mimetype": "text/x-python",
   "name": "python",
   "nbconvert_exporter": "python",
   "pygments_lexer": "ipython3",
   "version": "3.11.5"
  }
 },
 "nbformat": 4,
 "nbformat_minor": 5
}
