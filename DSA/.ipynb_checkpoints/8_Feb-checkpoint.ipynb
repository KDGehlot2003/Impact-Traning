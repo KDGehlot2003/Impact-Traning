{
 "cells": [
  {
   "cell_type": "markdown",
   "id": "a89d731d",
   "metadata": {},
   "source": [
    "# Quick Short\n",
    "\n",
    "- step 1- consider the first element as pivot.\n",
    "- step 2- Inizilize i to low and j to high\n",
    "- step 3- Repeat the following step until i<j.\n",
    "- Step 4- keep on incrementing a[i]< pivot\n",
    "- Step 5- Keep on decrementing a[j] > pivot\n",
    "- Step 6- If i<j then swap a[i],a[j]\n",
    "- Step 7- If i>j then swpa a[j] and pivot.\n",
    "                                    \n",
    "<img src=\"quick_sort.jpg\">                 \n",
    "                                    "
   ]
  },
  {
   "cell_type": "code",
   "execution_count": 6,
   "id": "c5ede62e",
   "metadata": {},
   "outputs": [
    {
     "name": "stdout",
     "output_type": "stream",
     "text": [
      "Before Sorting: [9, 7, 8, 3, 2, 1]\n",
      "[1, 7, 8, 3, 2, 9]\n",
      "[1, 7, 8, 3, 2, 9]\n",
      "[1, 7, 2, 3, 8, 9]\n",
      "[1, 3, 2, 7, 8, 9]\n",
      "[1, 2, 3, 7, 8, 9]\n",
      "After Sorting: [1, 2, 3, 7, 8, 9]\n"
     ]
    }
   ],
   "source": [
    "def partition(i,j,l):\n",
    "    pi=i\n",
    "\n",
    "    pivot=l[i]\n",
    "\n",
    "    while(i<j):\n",
    "        while(i<len(l)and l[i]<=pivot):\n",
    "            i=i+1\n",
    "\n",
    "        while(j>=0 and l[j]>pivot):\n",
    "            j-=1\n",
    "\n",
    "        if(i<j):\n",
    "            l[i],l[j]=l[j],l[i]\n",
    "\n",
    "            print(l)\n",
    "\n",
    "    l[j],l[pi]=l[pi],l[j]\n",
    "\n",
    "    print(l)\n",
    "\n",
    "    return j\n",
    "\n",
    "def quick_sort(i,j,l):\n",
    "    if(i<j):\n",
    "        p=partition(i,j,l)\n",
    "        quick_sort(i,p-1,l)\n",
    "        quick_sort(p+1,j,l)\n",
    "\n",
    "l=[9,7,8,3,2,1]\n",
    "print(\"Before Sorting:\",l)\n",
    "quick_sort(0,len(l)-1,l)\n",
    "print(\"After Sorting:\",l)"
   ]
  },
  {
   "cell_type": "code",
   "execution_count": 46,
   "id": "f9269d58",
   "metadata": {},
   "outputs": [
    {
     "name": "stdout",
     "output_type": "stream",
     "text": [
      "10 1\n",
      "[2, 5, 11, 31, 41, 61, 71, 101, 131, 151, 181, 191]\n"
     ]
    }
   ],
   "source": [
    "l = [2,5]\n",
    "def isprime(num,k):\n",
    "    if num==0 or num==1:\n",
    "        return False\n",
    "    for i in range(2,num):\n",
    "        if num%i==0:\n",
    "            return False\n",
    "    else:\n",
    "        if num%10==k:\n",
    "            l.append(num)\n",
    "    \n",
    "\n",
    "        \n",
    "def prime(n,k):\n",
    "    for temp in range(1000000):\n",
    "        if len(l)<=n+1:\n",
    "            isprime(temp,k)\n",
    "        \n",
    "\n",
    "n,k=map(int,input().split(\" \"))\n",
    "prime(n,k)\n",
    "print(l)"
   ]
  },
  {
   "cell_type": "code",
   "execution_count": null,
   "id": "9fcb7582",
   "metadata": {},
   "outputs": [],
   "source": [
    "33"
   ]
  }
 ],
 "metadata": {
  "kernelspec": {
   "display_name": "Python 3 (ipykernel)",
   "language": "python",
   "name": "python3"
  },
  "language_info": {
   "codemirror_mode": {
    "name": "ipython",
    "version": 3
   },
   "file_extension": ".py",
   "mimetype": "text/x-python",
   "name": "python",
   "nbconvert_exporter": "python",
   "pygments_lexer": "ipython3",
   "version": "3.11.5"
  }
 },
 "nbformat": 4,
 "nbformat_minor": 5
}
