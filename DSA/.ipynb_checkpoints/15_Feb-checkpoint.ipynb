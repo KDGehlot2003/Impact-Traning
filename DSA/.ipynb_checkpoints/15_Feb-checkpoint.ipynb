{
 "cells": [
  {
   "cell_type": "code",
   "execution_count": 28,
   "id": "8d20c826",
   "metadata": {},
   "outputs": [
    {
     "name": "stdout",
     "output_type": "stream",
     "text": [
      "10--->20--->30--->40--->\n",
      "10--->20--->30--->40--->\n",
      "True\n"
     ]
    }
   ],
   "source": [
    "# WAP to create two single linked list with four nodes and \n",
    "# compare the element of both linked list if the element are same then return true or else return false\n",
    "\n",
    "\n",
    "class Node:\n",
    "    def __init__(self,data):\n",
    "        self.data = data\n",
    "        self.next = None\n",
    "\n",
    "class linkedlist:\n",
    "    def __init__(self):\n",
    "        self.head = None\n",
    "        \n",
    "    def display(self):\n",
    "        temp = self.head\n",
    "        if self.head is None:\n",
    "            print(\"Empty hai 🥲\")\n",
    "        else:\n",
    "            while(temp):\n",
    "                print(temp.data,end=\"--->\")\n",
    "                temp = temp.next\n",
    "            \n",
    "def compare(s1,s2):\n",
    "    c1 = s1.head\n",
    "    c2 = s2.head\n",
    "    while (c1 and c2):\n",
    "        if c1.data != c2.data:\n",
    "            return False\n",
    "        c1 = c1.next\n",
    "        c2 = c2.next\n",
    "    \n",
    "    if (c1 is None and c2 is None):\n",
    "        return True\n",
    "    return False\n",
    "        \n",
    "            \n",
    " \n",
    "\n",
    "n1 = Node(10)\n",
    "n2 = Node(20)\n",
    "n1.next = n2\n",
    "n3 = Node(30)\n",
    "n2.next = n3\n",
    "n4 = Node(40)\n",
    "n3.next = n4\n",
    "\n",
    "l1 = linkedlist()\n",
    "l1.head = n1\n",
    "l1.display()\n",
    "print()\n",
    "\n",
    "d1 = Node(10)\n",
    "d2 = Node(20)\n",
    "d1.next = d2\n",
    "d3 = Node(30)\n",
    "d2.next = d3\n",
    "d4 = Node(40)\n",
    "d3.next = d4\n",
    "l2 = linkedlist()\n",
    "l2.head = d1\n",
    "l2.display()\n",
    "print()\n",
    "\n",
    "\n",
    "print(compare(l1,l2))"
   ]
  },
  {
   "cell_type": "code",
   "execution_count": null,
   "id": "5aab3cff",
   "metadata": {},
   "outputs": [],
   "source": []
  }
 ],
 "metadata": {
  "kernelspec": {
   "display_name": "Python 3 (ipykernel)",
   "language": "python",
   "name": "python3"
  },
  "language_info": {
   "codemirror_mode": {
    "name": "ipython",
    "version": 3
   },
   "file_extension": ".py",
   "mimetype": "text/x-python",
   "name": "python",
   "nbconvert_exporter": "python",
   "pygments_lexer": "ipython3",
   "version": "3.11.5"
  }
 },
 "nbformat": 4,
 "nbformat_minor": 5
}
