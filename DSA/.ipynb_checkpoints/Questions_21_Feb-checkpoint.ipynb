{
 "cells": [
  {
   "cell_type": "code",
   "execution_count": 6,
   "id": "bc20c14d",
   "metadata": {},
   "outputs": [],
   "source": [
    "# WAP to find best time to buy and sell a stock\n",
    "# [1,6,9,4,3]"
   ]
  },
  {
   "cell_type": "code",
   "execution_count": 2,
   "id": "246e9068",
   "metadata": {},
   "outputs": [],
   "source": [
    "# WAP to check whether that both the string are anagram."
   ]
  },
  {
   "cell_type": "code",
   "execution_count": 5,
   "id": "a9bf7d21",
   "metadata": {},
   "outputs": [],
   "source": [
    "# WAP to find the interval or mergre the interval\n",
    "# [[1,6],[3,8],[9,10],[12,15]]"
   ]
  },
  {
   "cell_type": "code",
   "execution_count": 7,
   "id": "69692059",
   "metadata": {},
   "outputs": [],
   "source": [
    "# WAP to find the cycle in the given linked list. If present remove the cycle"
   ]
  },
  {
   "cell_type": "markdown",
   "id": "2e5266db",
   "metadata": {},
   "source": [
    "<img src=\"21_feb_que_1.jpg\"/>"
   ]
  },
  {
   "cell_type": "code",
   "execution_count": 32,
   "id": "849526b2",
   "metadata": {},
   "outputs": [
    {
     "name": "stdout",
     "output_type": "stream",
     "text": [
      "101\n",
      "200\n",
      "72\n"
     ]
    }
   ],
   "source": [
    "def common_check(p):\n",
    "    l = []\n",
    "    while p:\n",
    "        r = p%10\n",
    "        if r in l:\n",
    "            return 0\n",
    "        l.append(r)\n",
    "        p = p//10\n",
    "    return 1\n",
    "\n",
    "n1 = int(input())\n",
    "n2 = int(input())\n",
    "c = 0\n",
    "for p in range(n1,n2+1):\n",
    "    d = common_check(p)\n",
    "    if d:\n",
    "        c = c+1\n",
    "        \n",
    "print(c)"
   ]
  },
  {
   "cell_type": "code",
   "execution_count": 1,
   "id": "fd0a6e40",
   "metadata": {},
   "outputs": [],
   "source": [
    "# In C language\n",
    "'''\n",
    "void main(){\n",
    "    int a;\n",
    "    a = 5;\n",
    "    printf(\"%d,%d,%d\",++a,a++,a++);\n",
    "}\n",
    "'''\n",
    "\n",
    "# Output: 8,6,5\n",
    "\n",
    "\n",
    "'''\n",
    "void main(){\n",
    "    int a,b;\n",
    "    a=b=5;\n",
    "    while(a){\n",
    "        a=b++<=8;\n",
    "        printf(\"%d,%d\",a,b);\n",
    "    }\n",
    "    printf(\"%d,%d\",a+10,b+10);\n",
    "}\n",
    "\n",
    "'''\n",
    "# Output: 1,6\n",
    "#         1,7\n",
    "#         1,8\n",
    "#         1,9\n",
    "#         0,10\n",
    "#         10,20\n",
    "          \n",
    "'''\n",
    "void main(){\n",
    "    int a,b,c;\n",
    "    a=b=1;\n",
    "    c=(++a>=2)or(b++>=2);\n",
    "    printf(\"%d,%d,%d\",a,b,c);\n",
    "}\n",
    "'''\n",
    "# Output: 2 1 1\n",
    "'''\n",
    "void main() {\n",
    "    int a,b,c;\n",
    "    a=b=1;\n",
    "    c=(a++>=2)&&(++b>=2);\n",
    "    printf(\"%d,%d,%d\",a,b,c);\n",
    "}\n",
    "'''\n",
    "# Output : 2 1 0"
   ]
  },
  {
   "cell_type": "markdown",
   "id": "591d83f8",
   "metadata": {},
   "source": [
    "<img src=\"21_feb_que_2.jpg\"/>"
   ]
  },
  {
   "cell_type": "code",
   "execution_count": 13,
   "id": "f2d380ba",
   "metadata": {},
   "outputs": [
    {
     "name": "stdout",
     "output_type": "stream",
     "text": [
      "34201\n",
      "10234\n"
     ]
    }
   ],
   "source": [
    "n = int(input())\n",
    "\n",
    "# while n:\n",
    "#     arr.append(n%10)\n",
    "#     n = n//10\n",
    "\n",
    "arr = list(map(int,str(n)))\n",
    "arr.sort()\n",
    "if arr[0]==0:\n",
    "    arr[0],arr[1] = arr[1],arr[0]\n",
    "\n",
    "ans = list(map(str,arr))\n",
    "print(''.join(ans))"
   ]
  },
  {
   "cell_type": "markdown",
   "id": "d33f6c7b",
   "metadata": {},
   "source": [
    "<img src=\"21_feb_que_3.jpg\"/>"
   ]
  },
  {
   "cell_type": "code",
   "execution_count": 37,
   "id": "b0c69333",
   "metadata": {},
   "outputs": [
    {
     "name": "stdout",
     "output_type": "stream",
     "text": [
      "44\n",
      "3\n"
     ]
    }
   ],
   "source": [
    "n = int(input())\n",
    "arr=[]\n",
    "\n",
    "for i in range(1,n+1):\n",
    "    if n%i==0:\n",
    "        arr.append(i)\n",
    "print(len(arr)//2)"
   ]
  },
  {
   "cell_type": "markdown",
   "id": "abe2be83",
   "metadata": {},
   "source": [
    "<img src=\"21_feb_que_4.jpg\"/>"
   ]
  },
  {
   "cell_type": "code",
   "execution_count": 82,
   "id": "f3f8a1c6",
   "metadata": {},
   "outputs": [
    {
     "name": "stdout",
     "output_type": "stream",
     "text": [
      "2\n",
      "Strange\n"
     ]
    }
   ],
   "source": [
    "n = int(input())\n",
    "arr = []\n",
    "\n",
    "for i in range(2,n):\n",
    "    if n%i==0:\n",
    "        arr.append(i)\n",
    "\n",
    "sqrt = n**(1/2)\n",
    "if len(arr)!=0:\n",
    "    m = max(arr)\n",
    "else:\n",
    "    m = n\n",
    "\n",
    "if sqrt<m and n%2!=0 or 2:\n",
    "    print(\"Strange\")\n",
    "else:\n",
    "    print(\"Not Strange\")\n"
   ]
  },
  {
   "cell_type": "markdown",
   "id": "33f9a499",
   "metadata": {},
   "source": [
    "<img src=\"gfg_que.jpg\"/>"
   ]
  },
  {
   "cell_type": "code",
   "execution_count": 113,
   "id": "a1ba1ab3",
   "metadata": {},
   "outputs": [
    {
     "data": {
      "text/plain": [
       "[8, -1, 1, 3, -1]"
      ]
     },
     "execution_count": 113,
     "metadata": {},
     "output_type": "execute_result"
    }
   ],
   "source": [
    "def nextLargerElement(arr):\n",
    "        n = len(arr)\n",
    "        stack = []\n",
    "        result = [0] * n\n",
    "    \n",
    "        for i in range(n):\n",
    "            while stack and arr[i] > arr[stack[-1]]:\n",
    "                index = stack.pop()\n",
    "                result[index] = arr[i]\n",
    "            stack.append(i)\n",
    "    \n",
    "        while stack:\n",
    "            index = stack.pop()\n",
    "            result[index] = -1\n",
    "    \n",
    "        return result\n",
    "    \n",
    "\n",
    "arr = [6,8,0,1,3]\n",
    "\n",
    "nextLargerElement(arr)"
   ]
  },
  {
   "cell_type": "code",
   "execution_count": 141,
   "id": "c541253f",
   "metadata": {},
   "outputs": [
    {
     "name": "stdout",
     "output_type": "stream",
     "text": [
      "1\n"
     ]
    }
   ],
   "source": [
    "# edges = [[1,2],[2,3],[4,2]]\n",
    "edges = [[1,2],[5,1],[1,3],[1,4]]\n",
    "ans = []\n",
    "\n",
    "for i in range(len(edges)):\n",
    "    for j in edges[i]:\n",
    "        ans.append(j)\n",
    "        \n",
    "c = 0\n",
    "        \n",
    "for p in ans: \n",
    "    ans.pop(0)\n",
    "    if p in ans:\n",
    "        c = p\n",
    "        break\n",
    "print(c)"
   ]
  }
 ],
 "metadata": {
  "kernelspec": {
   "display_name": "Python 3 (ipykernel)",
   "language": "python",
   "name": "python3"
  },
  "language_info": {
   "codemirror_mode": {
    "name": "ipython",
    "version": 3
   },
   "file_extension": ".py",
   "mimetype": "text/x-python",
   "name": "python",
   "nbconvert_exporter": "python",
   "pygments_lexer": "ipython3",
   "version": "3.11.5"
  }
 },
 "nbformat": 4,
 "nbformat_minor": 5
}
