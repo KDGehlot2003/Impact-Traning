{
 "cells": [
  {
   "cell_type": "markdown",
   "id": "fe9c315f",
   "metadata": {},
   "source": [
    "# Graph\n",
    "\n",
    "- Graph is a collection of vertices and edges.\n",
    "- Vertices will be represented by circles or nodes or hole.\n",
    "- Edges will represent the line.\n",
    "- Edges will connect the lines.\n",
    "\n",
    "<img src=\"Graphs.jpg\"/>\n",
    "\n",
    "## Degree of Node\n",
    "- The no. of edges connected to each node.\n",
    "\n",
    "- For dia -1 \n",
    "    A--->2\n",
    "    B--->2\n",
    "    C--->2\n",
    "\n",
    "## Size of a Graph\n",
    "- Size of a Graph represent the total no. of edges in the graph."
   ]
  },
  {
   "cell_type": "code",
   "execution_count": null,
   "id": "1a495c5a",
   "metadata": {},
   "outputs": [],
   "source": []
  }
 ],
 "metadata": {
  "kernelspec": {
   "display_name": "Python 3 (ipykernel)",
   "language": "python",
   "name": "python3"
  },
  "language_info": {
   "codemirror_mode": {
    "name": "ipython",
    "version": 3
   },
   "file_extension": ".py",
   "mimetype": "text/x-python",
   "name": "python",
   "nbconvert_exporter": "python",
   "pygments_lexer": "ipython3",
   "version": "3.11.5"
  }
 },
 "nbformat": 4,
 "nbformat_minor": 5
}
