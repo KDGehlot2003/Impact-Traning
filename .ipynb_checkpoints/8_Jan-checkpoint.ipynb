{
 "cells": [
  {
   "cell_type": "markdown",
   "id": "92be0774",
   "metadata": {},
   "source": [
    "## Variables\n",
    "In python programming we two type of variable \n",
    "\n",
    "1. Local \n",
    "2. Global\n",
    "\n",
    "---\n",
    "\n",
    "1. Local \n",
    "- we can access the local variable within the function only \n",
    "- once execution is completed the local variable will be destroyed\n",
    "\n",
    "\n",
    "2. Global\n",
    "- The variable which are decaleed at top of the program that variable is called as Global variable\n",
    "- we can access the global variable anywhere in the program\n"
   ]
  },
  {
   "cell_type": "code",
   "execution_count": 5,
   "id": "15987cef",
   "metadata": {},
   "outputs": [
    {
     "name": "stdout",
     "output_type": "stream",
     "text": [
      "10 20\n",
      "30 40\n"
     ]
    },
    {
     "ename": "NameError",
     "evalue": "name 'a' is not defined",
     "output_type": "error",
     "traceback": [
      "\u001b[0;31m---------------------------------------------------------------------------\u001b[0m",
      "\u001b[0;31mNameError\u001b[0m                                 Traceback (most recent call last)",
      "Cell \u001b[0;32mIn[5], line 11\u001b[0m\n\u001b[1;32m      9\u001b[0m     \u001b[38;5;28mprint\u001b[39m(a)\n\u001b[1;32m     10\u001b[0m f1()\n\u001b[0;32m---> 11\u001b[0m f2()\n",
      "Cell \u001b[0;32mIn[5], line 9\u001b[0m, in \u001b[0;36mf2\u001b[0;34m()\u001b[0m\n\u001b[1;32m      7\u001b[0m c,d\u001b[38;5;241m=\u001b[39m\u001b[38;5;241m30\u001b[39m,\u001b[38;5;241m40\u001b[39m\n\u001b[1;32m      8\u001b[0m \u001b[38;5;28mprint\u001b[39m(c,d)\n\u001b[0;32m----> 9\u001b[0m \u001b[38;5;28mprint\u001b[39m(a)\n",
      "\u001b[0;31mNameError\u001b[0m: name 'a' is not defined"
     ]
    }
   ],
   "source": [
    "# Local Variable\n",
    "\n",
    "def f1():\n",
    "    a = 10\n",
    "    b = 20\n",
    "    print(a,b)\n",
    "def f2():\n",
    "    c,d=30,40\n",
    "    print(c,d)\n",
    "    print(a)\n",
    "f1()\n",
    "f2()"
   ]
  },
  {
   "cell_type": "code",
   "execution_count": 7,
   "id": "d192eed5",
   "metadata": {},
   "outputs": [
    {
     "name": "stdout",
     "output_type": "stream",
     "text": [
      "10\n",
      "20\n",
      "20\n"
     ]
    }
   ],
   "source": [
    "# Global Variable\n",
    "\n",
    "a = 10\n",
    "def m1():\n",
    "    print(a)\n",
    "m1()\n",
    "a = a+10\n",
    "print(a)\n",
    "m1()"
   ]
  },
  {
   "cell_type": "code",
   "execution_count": 10,
   "id": "77230e26",
   "metadata": {},
   "outputs": [
    {
     "name": "stdout",
     "output_type": "stream",
     "text": [
      "10\n",
      "20\n"
     ]
    }
   ],
   "source": [
    "a = 10\n",
    "def m1():\n",
    "    global a    #UnboundLocalError error without this\n",
    "    print(a)\n",
    "    a = a+10\n",
    "    print(a)\n",
    "m1()"
   ]
  },
  {
   "cell_type": "code",
   "execution_count": 11,
   "id": "982cbfcd",
   "metadata": {},
   "outputs": [
    {
     "name": "stdout",
     "output_type": "stream",
     "text": [
      "100\n"
     ]
    }
   ],
   "source": [
    "# local > global in the function\n",
    "\n",
    "a = 10\n",
    "b = 20\n",
    "c = 30\n",
    "def m1(a):\n",
    "    print(a+b+c)\n",
    "m1(50)"
   ]
  },
  {
   "cell_type": "code",
   "execution_count": 13,
   "id": "aaf967c8",
   "metadata": {},
   "outputs": [
    {
     "name": "stdout",
     "output_type": "stream",
     "text": [
      "Begin\n",
      "1 s\n",
      "input should be int:\n",
      "end\n"
     ]
    }
   ],
   "source": [
    "print(\"Begin\")\n",
    "try:\n",
    "    a=int(input())\n",
    "    b=int(input())\n",
    "except(ValueError):\n",
    "    print(\"input should be int:\")\n",
    "print(\"end\")\n",
    "    "
   ]
  },
  {
   "cell_type": "code",
   "execution_count": null,
   "id": "b620aa3e",
   "metadata": {},
   "outputs": [],
   "source": []
  }
 ],
 "metadata": {
  "kernelspec": {
   "display_name": "Python 3 (ipykernel)",
   "language": "python",
   "name": "python3"
  },
  "language_info": {
   "codemirror_mode": {
    "name": "ipython",
    "version": 3
   },
   "file_extension": ".py",
   "mimetype": "text/x-python",
   "name": "python",
   "nbconvert_exporter": "python",
   "pygments_lexer": "ipython3",
   "version": "3.11.5"
  }
 },
 "nbformat": 4,
 "nbformat_minor": 5
}
