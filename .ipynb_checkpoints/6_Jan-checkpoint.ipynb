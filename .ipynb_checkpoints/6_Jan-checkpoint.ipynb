{
 "cells": [
  {
   "cell_type": "markdown",
   "id": "915ed4b8",
   "metadata": {},
   "source": [
    "# Iterator\n",
    "- Using iterator we can return only one value.\n",
    "\n",
    "# Enumerater \n",
    "- it will return the value along with the count\n",
    "- the default count starts from 0.\n",
    "\n",
    "# Generator\n",
    "- the return can return one value at a time\n",
    "- the generator can return multiple values \n",
    "- genertaor internally used yeild and next method for reuturning multiple values.\n",
    "---\n"
   ]
  },
  {
   "cell_type": "code",
   "execution_count": 12,
   "id": "2cb6717b",
   "metadata": {},
   "outputs": [
    {
     "name": "stdout",
     "output_type": "stream",
     "text": [
      "1\n",
      "2\n",
      "3\n",
      "4\n"
     ]
    }
   ],
   "source": [
    "# iterator\n",
    "\n",
    "s = [1,2,3,4,5]\n",
    "r = iter(s)\n",
    "print(next(r))\n",
    "print(next(r))\n",
    "print(next(r))\n",
    "print(next(r))"
   ]
  },
  {
   "cell_type": "code",
   "execution_count": 13,
   "id": "2f122c4a",
   "metadata": {},
   "outputs": [
    {
     "name": "stdout",
     "output_type": "stream",
     "text": [
      "(0, 1)\n",
      "(1, 2)\n",
      "(5, 10)\n",
      "(6, 20)\n"
     ]
    }
   ],
   "source": [
    "# enumertater\n",
    "\n",
    "l = [1,2,3,4,5]\n",
    "r  = enumerate(l)\n",
    "print(next(r))\n",
    "print(next(r))\n",
    "l = [10,20,30,40,50]\n",
    "r = enumerate(l,5)\n",
    "print(next(r))\n",
    "print(next(r))"
   ]
  },
  {
   "cell_type": "code",
   "execution_count": 17,
   "id": "fbcbc683",
   "metadata": {},
   "outputs": [
    {
     "name": "stdout",
     "output_type": "stream",
     "text": [
      "5 10 15 20\n",
      "5\n",
      "10\n",
      "15\n",
      "20\n"
     ]
    }
   ],
   "source": [
    " # generator\n",
    "    \n",
    "def gen():\n",
    "    yield 5\n",
    "    yield 10\n",
    "    yield 15\n",
    "    yield 20\n",
    "\n",
    "g1 = gen()\n",
    "r = next(g1)\n",
    "r1 = next(g1)\n",
    "r2 = next(g1)\n",
    "r3 = next(g1)\n",
    "print(r,r1,r2,r3)\n",
    "\n",
    "\n",
    "# or\n",
    "\n",
    "def gen():\n",
    "    l = [5,10,15,20]\n",
    "    for p in l:\n",
    "        yield p\n",
    "\n",
    "g1 = gen()\n",
    "for p in g1:\n",
    "    print(p)"
   ]
  },
  {
   "cell_type": "markdown",
   "id": "b60b57c8",
   "metadata": {},
   "source": [
    "### in python programing we can generate random numbers using random funciton."
   ]
  },
  {
   "cell_type": "code",
   "execution_count": 29,
   "id": "c001281e",
   "metadata": {},
   "outputs": [
    {
     "name": "stdout",
     "output_type": "stream",
     "text": [
      "1514\n",
      "13588\n"
     ]
    }
   ],
   "source": [
    "import random\n",
    "s = random.randint(1000,9999)\n",
    "print(s)\n",
    "s = random.randint(10000,55555)\n",
    "print(s)"
   ]
  },
  {
   "cell_type": "code",
   "execution_count": 26,
   "id": "dfdcd1f7",
   "metadata": {},
   "outputs": [
    {
     "name": "stdout",
     "output_type": "stream",
     "text": [
      "6089\n",
      "1084\n",
      "8506\n",
      "8662\n"
     ]
    }
   ],
   "source": [
    "# WAP to generate 4 random otp's within the range of (1000,10000)\n",
    "\n",
    "import random\n",
    "\n",
    "def gen():\n",
    "    i = 1\n",
    "    while(i<=4):\n",
    "        d = random.randint(1000,10000)\n",
    "        yield d\n",
    "        i+=1\n",
    "g1 = gen()\n",
    "for p in g1:\n",
    "    print(p)"
   ]
  },
  {
   "cell_type": "code",
   "execution_count": 61,
   "id": "08877f6b",
   "metadata": {},
   "outputs": [
    {
     "name": "stdout",
     "output_type": "stream",
     "text": [
      "120\n",
      "720\n",
      "5040\n",
      "40320\n",
      "362880\n",
      "3628800\n"
     ]
    }
   ],
   "source": [
    "# WAP to generate factorial of the numnbers from 5 to 10 and return the values to main program\n",
    "\n",
    "\n",
    "def fac():\n",
    "    for i in range(5,11):\n",
    "        f = 1\n",
    "        for j in range(1,i+1):\n",
    "            f = f*j\n",
    "        yield f\n",
    "f1 = fac()\n",
    "for p in f1:\n",
    "    print(p)\n"
   ]
  },
  {
   "cell_type": "code",
   "execution_count": 62,
   "id": "5847caf2",
   "metadata": {},
   "outputs": [
    {
     "name": "stdout",
     "output_type": "stream",
     "text": [
      "1\n",
      "2\n",
      "3\n",
      "4\n",
      "5\n"
     ]
    }
   ],
   "source": [
    "l = [1,2,3,4,5]\n",
    "r = iter(l)\n",
    "for i in r:\n",
    "    print(i)"
   ]
  },
  {
   "cell_type": "code",
   "execution_count": 63,
   "id": "6454ed47",
   "metadata": {},
   "outputs": [
    {
     "name": "stdout",
     "output_type": "stream",
     "text": [
      "(0, 1)\n",
      "(1, 2)\n",
      "(2, 3)\n",
      "(3, 4)\n",
      "(4, 5)\n"
     ]
    }
   ],
   "source": [
    "l = [1,2,3,4,5]\n",
    "r = enumerate(l)\n",
    "for i in r:\n",
    "    print(i)"
   ]
  },
  {
   "cell_type": "markdown",
   "id": "7088343a",
   "metadata": {},
   "source": [
    "# Closure:\n",
    "- Closure is a special function.\n",
    "- Closure are developed using nested function.\n",
    "- Clousre is inner function, which performs operation using the data of outer funciton even outer function execution is completed.\n",
    "---\n",
    "# Decorators\n",
    "- Decorators is special function.\n",
    "- Decorators funciton receives input asone function and return another function as output.\n",
    "- A function returning another function, usually applied as a function transformation using the **@wrapper** syntax. Common examples for decorators are **classmethod()** and **staticmethod()**.\n",
    "- Decorators are used to add new features to existing funciton or extending functionality of existing function without modifying it.\n",
    "- Decorators can be developed irrespective of functionality."
   ]
  },
  {
   "cell_type": "code",
   "execution_count": 71,
   "id": "4f6e79d5",
   "metadata": {},
   "outputs": [
    {
     "name": "stdout",
     "output_type": "stream",
     "text": [
      "25\n"
     ]
    }
   ],
   "source": [
    "# Clousre\n",
    "\n",
    "def power(p):\n",
    "    def pow(n):\n",
    "        return p**n\n",
    "    return pow\n",
    "s=power(5)\n",
    "p=s(2)\n",
    "print(p)"
   ]
  },
  {
   "cell_type": "code",
   "execution_count": 75,
   "id": "21ee044d",
   "metadata": {},
   "outputs": [
    {
     "name": "stdout",
     "output_type": "stream",
     "text": [
      "***********\n"
     ]
    }
   ],
   "source": [
    "# ***********\n",
    "# $$$$$$$$$$$\n",
    "\n",
    "def star(p):\n",
    "    def dol(n):\n",
    "        print(p*n)\n",
    "    return dol\n",
    "\n",
    "a = star('*')\n",
    "b = a(11)\n",
    "a1 = star('$'\n",
    "         )"
   ]
  },
  {
   "cell_type": "code",
   "execution_count": null,
   "id": "25447f33",
   "metadata": {},
   "outputs": [],
   "source": []
  }
 ],
 "metadata": {
  "kernelspec": {
   "display_name": "Python 3 (ipykernel)",
   "language": "python",
   "name": "python3"
  },
  "language_info": {
   "codemirror_mode": {
    "name": "ipython",
    "version": 3
   },
   "file_extension": ".py",
   "mimetype": "text/x-python",
   "name": "python",
   "nbconvert_exporter": "python",
   "pygments_lexer": "ipython3",
   "version": "3.11.5"
  }
 },
 "nbformat": 4,
 "nbformat_minor": 5
}
